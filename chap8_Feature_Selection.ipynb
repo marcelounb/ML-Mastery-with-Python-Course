{
  "nbformat": 4,
  "nbformat_minor": 0,
  "metadata": {
    "colab": {
      "name": "chap8_Feature Selection.ipynb",
      "provenance": [],
      "toc_visible": true,
      "authorship_tag": "ABX9TyMo6/GkRQmMhdfX1mKl1eWM",
      "include_colab_link": true
    },
    "kernelspec": {
      "name": "python3",
      "display_name": "Python 3"
    }
  },
  "cells": [
    {
      "cell_type": "markdown",
      "metadata": {
        "id": "view-in-github",
        "colab_type": "text"
      },
      "source": [
        "<a href=\"https://colab.research.google.com/github/marcelounb/ML-Mastery-with-Python-Course/blob/master/chap8_Feature_Selection.ipynb\" target=\"_parent\"><img src=\"https://colab.research.google.com/assets/colab-badge.svg\" alt=\"Open In Colab\"/></a>"
      ]
    },
    {
      "cell_type": "code",
      "metadata": {
        "id": "GrsytH21vGUM",
        "colab_type": "code",
        "colab": {}
      },
      "source": [
        "from pandas import read_csv \n",
        "from numpy import set_printoptions \n",
        "from sklearn.feature_selection import SelectKBest \n",
        "from sklearn.feature_selection import chi2\n",
        "from sklearn.feature_selection import RFE \n",
        "from sklearn.linear_model import LogisticRegression\n",
        "from sklearn.decomposition import PCA\n",
        "from sklearn.ensemble import ExtraTreesClassifier"
      ],
      "execution_count": 0,
      "outputs": []
    },
    {
      "cell_type": "code",
      "metadata": {
        "id": "0gd47-jEzjwr",
        "colab_type": "code",
        "colab": {}
      },
      "source": [
        "# load data \n",
        "filename = '/content/diabetes_moddd.csv' \n",
        "names = ['preg', 'plas', 'pres', 'skin', 'test', 'mass', 'pedi', 'age', 'class'] \n",
        "dataframe = read_csv(filename, names=names) \n",
        "array = dataframe.values \n",
        "X = array[:,0:8] \n",
        "Y = array[:,8]"
      ],
      "execution_count": 0,
      "outputs": []
    },
    {
      "cell_type": "code",
      "metadata": {
        "id": "5fJj_NYpzt8s",
        "colab_type": "code",
        "colab": {
          "base_uri": "https://localhost:8080/",
          "height": 144
        },
        "outputId": "4a9f0cca-6f96-43ce-ec9c-74c4b3c4547c"
      },
      "source": [
        "X"
      ],
      "execution_count": 4,
      "outputs": [
        {
          "output_type": "execute_result",
          "data": {
            "text/plain": [
              "array([[  6.   , 148.   ,  72.   , ...,  33.6  ,   0.627,  50.   ],\n",
              "       [  1.   ,  85.   ,  66.   , ...,  26.6  ,   0.351,  31.   ],\n",
              "       [  8.   , 183.   ,  64.   , ...,  23.3  ,   0.672,  32.   ],\n",
              "       ...,\n",
              "       [  5.   , 121.   ,  72.   , ...,  26.2  ,   0.245,  30.   ],\n",
              "       [  1.   , 126.   ,  60.   , ...,  30.1  ,   0.349,  47.   ],\n",
              "       [  1.   ,  93.   ,  70.   , ...,  30.4  ,   0.315,  23.   ]])"
            ]
          },
          "metadata": {
            "tags": []
          },
          "execution_count": 4
        }
      ]
    },
    {
      "cell_type": "markdown",
      "metadata": {
        "id": "sy1BffvszNWr",
        "colab_type": "text"
      },
      "source": [
        "# Univariate Selection"
      ]
    },
    {
      "cell_type": "markdown",
      "metadata": {
        "id": "ZXqfnmIczUdI",
        "colab_type": "text"
      },
      "source": [
        "Statistical tests can be used to select those features that have the strongest relationship with the output variable. The scikit-learn library provides the SelectKBest class2 that can be used with a suite of diﬀerent statistical tests to select a speciﬁc number of features. The example below uses the chi-squared (chi2) statistical test for non-negative features to select 4 of the best features from the Pima Indians onset of diabetes dataset.\n"
      ]
    },
    {
      "cell_type": "code",
      "metadata": {
        "id": "l9G357C0zcR1",
        "colab_type": "code",
        "colab": {
          "base_uri": "https://localhost:8080/",
          "height": 53
        },
        "outputId": "33719db6-7fd2-4479-fab0-9d948325a279"
      },
      "source": [
        "# feature extraction \n",
        "test = SelectKBest(score_func=chi2, k=4)\n",
        "fit = test.fit(X, Y) \n",
        "# summarize scores \n",
        "set_printoptions(precision=3) \n",
        "fit.scores_"
      ],
      "execution_count": 5,
      "outputs": [
        {
          "output_type": "execute_result",
          "data": {
            "text/plain": [
              "array([ 111.52 , 1411.887,   17.605,   53.108, 2175.565,  127.669,\n",
              "          5.393,  181.304])"
            ]
          },
          "metadata": {
            "tags": []
          },
          "execution_count": 5
        }
      ]
    },
    {
      "cell_type": "code",
      "metadata": {
        "id": "_wpuYl9iz_Br",
        "colab_type": "code",
        "colab": {
          "base_uri": "https://localhost:8080/",
          "height": 108
        },
        "outputId": "5a7ec0c1-808d-4579-e3b2-2219489becd1"
      },
      "source": [
        "features = fit.transform(X)\n",
        "# summarize selected features \n",
        "features[0:5,:]"
      ],
      "execution_count": 6,
      "outputs": [
        {
          "output_type": "execute_result",
          "data": {
            "text/plain": [
              "array([[148. ,   0. ,  33.6,  50. ],\n",
              "       [ 85. ,   0. ,  26.6,  31. ],\n",
              "       [183. ,   0. ,  23.3,  32. ],\n",
              "       [ 89. ,  94. ,  28.1,  21. ],\n",
              "       [137. , 168. ,  43.1,  33. ]])"
            ]
          },
          "metadata": {
            "tags": []
          },
          "execution_count": 6
        }
      ]
    },
    {
      "cell_type": "markdown",
      "metadata": {
        "id": "c_R07jdy0kra",
        "colab_type": "text"
      },
      "source": [
        "# Recursive Feature Elimination"
      ]
    },
    {
      "cell_type": "markdown",
      "metadata": {
        "id": "jRIupE-l0sIq",
        "colab_type": "text"
      },
      "source": [
        " (RFE) works by recursively removing attributes and building a model on those attributes that remain.  It uses the model accuracy to identify which attributes (and combination of attributes) contribute the most to predicting the target attribute. \n"
      ]
    },
    {
      "cell_type": "code",
      "metadata": {
        "id": "ITBt54yY09QE",
        "colab_type": "code",
        "colab": {
          "base_uri": "https://localhost:8080/",
          "height": 182
        },
        "outputId": "52430a17-c327-4d9a-d7d3-bcb6568647d1"
      },
      "source": [
        "# feature extraction \n",
        "model = LogisticRegression() \n",
        "rfe = RFE(model, 3) \n",
        "fit = rfe.fit(X, Y) "
      ],
      "execution_count": 10,
      "outputs": [
        {
          "output_type": "stream",
          "text": [
            "/usr/local/lib/python3.6/dist-packages/sklearn/linear_model/_logistic.py:940: ConvergenceWarning: lbfgs failed to converge (status=1):\n",
            "STOP: TOTAL NO. of ITERATIONS REACHED LIMIT.\n",
            "\n",
            "Increase the number of iterations (max_iter) or scale the data as shown in:\n",
            "    https://scikit-learn.org/stable/modules/preprocessing.html\n",
            "Please also refer to the documentation for alternative solver options:\n",
            "    https://scikit-learn.org/stable/modules/linear_model.html#logistic-regression\n",
            "  extra_warning_msg=_LOGISTIC_SOLVER_CONVERGENCE_MSG)\n"
          ],
          "name": "stderr"
        }
      ]
    },
    {
      "cell_type": "code",
      "metadata": {
        "id": "JABoUvWP1TP5",
        "colab_type": "code",
        "colab": {
          "base_uri": "https://localhost:8080/",
          "height": 35
        },
        "outputId": "691ad529-d33c-4e2c-8b9b-ffd8e3701f5c"
      },
      "source": [
        "fit.n_features_"
      ],
      "execution_count": 11,
      "outputs": [
        {
          "output_type": "execute_result",
          "data": {
            "text/plain": [
              "3"
            ]
          },
          "metadata": {
            "tags": []
          },
          "execution_count": 11
        }
      ]
    },
    {
      "cell_type": "code",
      "metadata": {
        "id": "bHc6EFZM1a6V",
        "colab_type": "code",
        "colab": {
          "base_uri": "https://localhost:8080/",
          "height": 35
        },
        "outputId": "ed026e16-f946-4823-fd00-08b281071940"
      },
      "source": [
        "fit.support_\n",
        "# ['preg', 'plas', 'pres', 'skin', 'test', 'mass', 'pedi', 'age', 'class']\n",
        "#  RFE chose the top 3 features as preg, mass and pedi. These are marked True in the support array \n",
        "# and marked with a choice 1 in the ranking array. "
      ],
      "execution_count": 12,
      "outputs": [
        {
          "output_type": "execute_result",
          "data": {
            "text/plain": [
              "array([ True, False, False, False, False,  True,  True, False])"
            ]
          },
          "metadata": {
            "tags": []
          },
          "execution_count": 12
        }
      ]
    },
    {
      "cell_type": "code",
      "metadata": {
        "id": "-zYQMX_K1bgc",
        "colab_type": "code",
        "colab": {
          "base_uri": "https://localhost:8080/",
          "height": 35
        },
        "outputId": "dd8bc1cd-4494-4e44-bcdc-575a3a31f1df"
      },
      "source": [
        "fit.ranking_"
      ],
      "execution_count": 13,
      "outputs": [
        {
          "output_type": "execute_result",
          "data": {
            "text/plain": [
              "array([1, 2, 4, 5, 6, 1, 1, 3])"
            ]
          },
          "metadata": {
            "tags": []
          },
          "execution_count": 13
        }
      ]
    },
    {
      "cell_type": "markdown",
      "metadata": {
        "id": "b2UOJW-M3twR",
        "colab_type": "text"
      },
      "source": [
        "# Principal Component Analysis"
      ]
    },
    {
      "cell_type": "markdown",
      "metadata": {
        "id": "ZeUI4Ssz3xxx",
        "colab_type": "text"
      },
      "source": [
        " uses linear algebra to transform the dataset into a compressed form. Generally this is called a data reduction technique. A property of PCA is that you can choose the number of dimensions or principal components in the transformed result. In the example below, we use PCA and select 3 principal components"
      ]
    },
    {
      "cell_type": "code",
      "metadata": {
        "id": "DCt7T1mv338q",
        "colab_type": "code",
        "colab": {
          "base_uri": "https://localhost:8080/",
          "height": 35
        },
        "outputId": "f4547829-8517-4de9-b66a-ffd6902770b8"
      },
      "source": [
        "# feature extraction \n",
        "pca = PCA(n_components=3) \n",
        "fit = pca.fit(X) \n",
        "# summarize components \n",
        "fit.explained_variance_ratio_"
      ],
      "execution_count": 16,
      "outputs": [
        {
          "output_type": "execute_result",
          "data": {
            "text/plain": [
              "array([0.889, 0.062, 0.026])"
            ]
          },
          "metadata": {
            "tags": []
          },
          "execution_count": 16
        }
      ]
    },
    {
      "cell_type": "code",
      "metadata": {
        "id": "j79eA2ED4LIn",
        "colab_type": "code",
        "colab": {
          "base_uri": "https://localhost:8080/",
          "height": 126
        },
        "outputId": "d7294021-e2a3-46b8-97a2-a6dca222f8f9"
      },
      "source": [
        "fit.components_"
      ],
      "execution_count": 17,
      "outputs": [
        {
          "output_type": "execute_result",
          "data": {
            "text/plain": [
              "array([[-2.022e-03,  9.781e-02,  1.609e-02,  6.076e-02,  9.931e-01,\n",
              "         1.401e-02,  5.372e-04, -3.565e-03],\n",
              "       [-2.265e-02, -9.722e-01, -1.419e-01,  5.786e-02,  9.463e-02,\n",
              "        -4.697e-02, -8.168e-04, -1.402e-01],\n",
              "       [-2.246e-02,  1.434e-01, -9.225e-01, -3.070e-01,  2.098e-02,\n",
              "        -1.324e-01, -6.400e-04, -1.255e-01]])"
            ]
          },
          "metadata": {
            "tags": []
          },
          "execution_count": 17
        }
      ]
    },
    {
      "cell_type": "markdown",
      "metadata": {
        "id": "-YFI7TZ85Gpg",
        "colab_type": "text"
      },
      "source": [
        "# Feature Importance"
      ]
    },
    {
      "cell_type": "markdown",
      "metadata": {
        "id": "0Yrk2tqn5KTq",
        "colab_type": "text"
      },
      "source": [
        "Bagged decision trees like Random Forest and Extra Trees can be used to estimate the importance of features"
      ]
    },
    {
      "cell_type": "code",
      "metadata": {
        "id": "AjiOqsg65RHE",
        "colab_type": "code",
        "colab": {
          "base_uri": "https://localhost:8080/",
          "height": 35
        },
        "outputId": "06a210c8-1dc1-4efd-e6f3-e14b13aa503c"
      },
      "source": [
        "model = ExtraTreesClassifier() \n",
        "model.fit(X, Y) \n",
        "model.feature_importances_"
      ],
      "execution_count": 21,
      "outputs": [
        {
          "output_type": "execute_result",
          "data": {
            "text/plain": [
              "array([0.114, 0.234, 0.097, 0.083, 0.072, 0.14 , 0.117, 0.143])"
            ]
          },
          "metadata": {
            "tags": []
          },
          "execution_count": 21
        }
      ]
    }
  ]
}