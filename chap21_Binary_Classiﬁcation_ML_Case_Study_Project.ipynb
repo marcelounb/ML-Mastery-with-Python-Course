{
  "nbformat": 4,
  "nbformat_minor": 0,
  "metadata": {
    "colab": {
      "name": "chap21_Binary Classiﬁcation ML Case Study Project.ipynb",
      "provenance": [],
      "toc_visible": true,
      "authorship_tag": "ABX9TyNrVvsKrkf/aKIRm9yaJqVl",
      "include_colab_link": true
    },
    "kernelspec": {
      "name": "python3",
      "display_name": "Python 3"
    }
  },
  "cells": [
    {
      "cell_type": "markdown",
      "metadata": {
        "id": "view-in-github",
        "colab_type": "text"
      },
      "source": [
        "<a href=\"https://colab.research.google.com/github/marcelounb/ML-Mastery-with-Python-Course/blob/master/chap21_Binary_Classi%EF%AC%81cation_ML_Case_Study_Project.ipynb\" target=\"_parent\"><img src=\"https://colab.research.google.com/assets/colab-badge.svg\" alt=\"Open In Colab\"/></a>"
      ]
    },
    {
      "cell_type": "markdown",
      "metadata": {
        "id": "AuLaCiLOQsf1",
        "colab_type": "text"
      },
      "source": [
        "# Problem Deﬁnition\n",
        "The focus of this project will be the Sonar Mines vs Rocks dataset1. The problem is to predict metal or rock objects from sonar return data. Each pattern is a set of 60 numbers in the range 0.0 to 1.0. Each number represents the energy within a particular frequency band, integrated over a certain period of time. The label associated with each record contains the letter R if the object is a rock and M if it is a mine (metal cylinder). The numbers in the labels are in increasing order of aspect angle, but they do not encode the angle directly."
      ]
    },
    {
      "cell_type": "code",
      "metadata": {
        "id": "YHlPHQRlQZh_",
        "colab_type": "code",
        "colab": {}
      },
      "source": [
        "# Load libraries \n",
        "import numpy as np\n",
        "from matplotlib import pyplot as plt \n",
        "from pandas import read_csv \n",
        "from pandas import set_option \n",
        "from pandas.plotting import scatter_matrix \n",
        "from sklearn.preprocessing import StandardScaler \n",
        "from sklearn.model_selection import train_test_split \n",
        "from sklearn.model_selection import KFold \n",
        "from sklearn.model_selection import cross_val_score \n",
        "from sklearn.model_selection import GridSearchCV \n",
        "from sklearn.metrics import classification_report \n",
        "from sklearn.metrics import confusion_matrix \n",
        "from sklearn.metrics import accuracy_score \n",
        "from sklearn.pipeline import Pipeline \n",
        "from sklearn.linear_model import LogisticRegression \n",
        "from sklearn.tree import DecisionTreeClassifier \n",
        "from sklearn.neighbors import KNeighborsClassifier \n",
        "from sklearn.discriminant_analysis import LinearDiscriminantAnalysis \n",
        "from sklearn.naive_bayes import GaussianNB \n",
        "from sklearn.svm import SVC \n",
        "from sklearn.ensemble import AdaBoostClassifier \n",
        "from sklearn.ensemble import GradientBoostingClassifier \n",
        "from sklearn.ensemble import RandomForestClassifier \n",
        "from sklearn.ensemble import ExtraTreesClassifier"
      ],
      "execution_count": 0,
      "outputs": []
    },
    {
      "cell_type": "code",
      "metadata": {
        "id": "p4ZK230iRrIh",
        "colab_type": "code",
        "colab": {}
      },
      "source": [
        "# Load dataset \n",
        "filename = '/content/sonar.all-data' \n",
        "dataset = read_csv(filename, header=None)"
      ],
      "execution_count": 0,
      "outputs": []
    },
    {
      "cell_type": "markdown",
      "metadata": {
        "id": "B-phlgYSHiAd",
        "colab_type": "text"
      },
      "source": [
        "# Understanding the dataset"
      ]
    },
    {
      "cell_type": "code",
      "metadata": {
        "id": "_U4UT1-hTJWj",
        "colab_type": "code",
        "colab": {
          "base_uri": "https://localhost:8080/",
          "height": 0
        },
        "outputId": "04b8724a-e5a5-44f4-b2ec-247826f799a7"
      },
      "source": [
        "dataset.head()"
      ],
      "execution_count": 3,
      "outputs": [
        {
          "output_type": "execute_result",
          "data": {
            "text/html": [
              "<div>\n",
              "<style scoped>\n",
              "    .dataframe tbody tr th:only-of-type {\n",
              "        vertical-align: middle;\n",
              "    }\n",
              "\n",
              "    .dataframe tbody tr th {\n",
              "        vertical-align: top;\n",
              "    }\n",
              "\n",
              "    .dataframe thead th {\n",
              "        text-align: right;\n",
              "    }\n",
              "</style>\n",
              "<table border=\"1\" class=\"dataframe\">\n",
              "  <thead>\n",
              "    <tr style=\"text-align: right;\">\n",
              "      <th></th>\n",
              "      <th>0</th>\n",
              "      <th>1</th>\n",
              "      <th>2</th>\n",
              "      <th>3</th>\n",
              "      <th>4</th>\n",
              "      <th>5</th>\n",
              "      <th>6</th>\n",
              "      <th>7</th>\n",
              "      <th>8</th>\n",
              "      <th>9</th>\n",
              "      <th>10</th>\n",
              "      <th>11</th>\n",
              "      <th>12</th>\n",
              "      <th>13</th>\n",
              "      <th>14</th>\n",
              "      <th>15</th>\n",
              "      <th>16</th>\n",
              "      <th>17</th>\n",
              "      <th>18</th>\n",
              "      <th>19</th>\n",
              "      <th>20</th>\n",
              "      <th>21</th>\n",
              "      <th>22</th>\n",
              "      <th>23</th>\n",
              "      <th>24</th>\n",
              "      <th>25</th>\n",
              "      <th>26</th>\n",
              "      <th>27</th>\n",
              "      <th>28</th>\n",
              "      <th>29</th>\n",
              "      <th>30</th>\n",
              "      <th>31</th>\n",
              "      <th>32</th>\n",
              "      <th>33</th>\n",
              "      <th>34</th>\n",
              "      <th>35</th>\n",
              "      <th>36</th>\n",
              "      <th>37</th>\n",
              "      <th>38</th>\n",
              "      <th>39</th>\n",
              "      <th>40</th>\n",
              "      <th>41</th>\n",
              "      <th>42</th>\n",
              "      <th>43</th>\n",
              "      <th>44</th>\n",
              "      <th>45</th>\n",
              "      <th>46</th>\n",
              "      <th>47</th>\n",
              "      <th>48</th>\n",
              "      <th>49</th>\n",
              "      <th>50</th>\n",
              "      <th>51</th>\n",
              "      <th>52</th>\n",
              "      <th>53</th>\n",
              "      <th>54</th>\n",
              "      <th>55</th>\n",
              "      <th>56</th>\n",
              "      <th>57</th>\n",
              "      <th>58</th>\n",
              "      <th>59</th>\n",
              "      <th>60</th>\n",
              "    </tr>\n",
              "  </thead>\n",
              "  <tbody>\n",
              "    <tr>\n",
              "      <th>0</th>\n",
              "      <td>0.0200</td>\n",
              "      <td>0.0371</td>\n",
              "      <td>0.0428</td>\n",
              "      <td>0.0207</td>\n",
              "      <td>0.0954</td>\n",
              "      <td>0.0986</td>\n",
              "      <td>0.1539</td>\n",
              "      <td>0.1601</td>\n",
              "      <td>0.3109</td>\n",
              "      <td>0.2111</td>\n",
              "      <td>0.1609</td>\n",
              "      <td>0.1582</td>\n",
              "      <td>0.2238</td>\n",
              "      <td>0.0645</td>\n",
              "      <td>0.0660</td>\n",
              "      <td>0.2273</td>\n",
              "      <td>0.3100</td>\n",
              "      <td>0.2999</td>\n",
              "      <td>0.5078</td>\n",
              "      <td>0.4797</td>\n",
              "      <td>0.5783</td>\n",
              "      <td>0.5071</td>\n",
              "      <td>0.4328</td>\n",
              "      <td>0.5550</td>\n",
              "      <td>0.6711</td>\n",
              "      <td>0.6415</td>\n",
              "      <td>0.7104</td>\n",
              "      <td>0.8080</td>\n",
              "      <td>0.6791</td>\n",
              "      <td>0.3857</td>\n",
              "      <td>0.1307</td>\n",
              "      <td>0.2604</td>\n",
              "      <td>0.5121</td>\n",
              "      <td>0.7547</td>\n",
              "      <td>0.8537</td>\n",
              "      <td>0.8507</td>\n",
              "      <td>0.6692</td>\n",
              "      <td>0.6097</td>\n",
              "      <td>0.4943</td>\n",
              "      <td>0.2744</td>\n",
              "      <td>0.0510</td>\n",
              "      <td>0.2834</td>\n",
              "      <td>0.2825</td>\n",
              "      <td>0.4256</td>\n",
              "      <td>0.2641</td>\n",
              "      <td>0.1386</td>\n",
              "      <td>0.1051</td>\n",
              "      <td>0.1343</td>\n",
              "      <td>0.0383</td>\n",
              "      <td>0.0324</td>\n",
              "      <td>0.0232</td>\n",
              "      <td>0.0027</td>\n",
              "      <td>0.0065</td>\n",
              "      <td>0.0159</td>\n",
              "      <td>0.0072</td>\n",
              "      <td>0.0167</td>\n",
              "      <td>0.0180</td>\n",
              "      <td>0.0084</td>\n",
              "      <td>0.0090</td>\n",
              "      <td>0.0032</td>\n",
              "      <td>R</td>\n",
              "    </tr>\n",
              "    <tr>\n",
              "      <th>1</th>\n",
              "      <td>0.0453</td>\n",
              "      <td>0.0523</td>\n",
              "      <td>0.0843</td>\n",
              "      <td>0.0689</td>\n",
              "      <td>0.1183</td>\n",
              "      <td>0.2583</td>\n",
              "      <td>0.2156</td>\n",
              "      <td>0.3481</td>\n",
              "      <td>0.3337</td>\n",
              "      <td>0.2872</td>\n",
              "      <td>0.4918</td>\n",
              "      <td>0.6552</td>\n",
              "      <td>0.6919</td>\n",
              "      <td>0.7797</td>\n",
              "      <td>0.7464</td>\n",
              "      <td>0.9444</td>\n",
              "      <td>1.0000</td>\n",
              "      <td>0.8874</td>\n",
              "      <td>0.8024</td>\n",
              "      <td>0.7818</td>\n",
              "      <td>0.5212</td>\n",
              "      <td>0.4052</td>\n",
              "      <td>0.3957</td>\n",
              "      <td>0.3914</td>\n",
              "      <td>0.3250</td>\n",
              "      <td>0.3200</td>\n",
              "      <td>0.3271</td>\n",
              "      <td>0.2767</td>\n",
              "      <td>0.4423</td>\n",
              "      <td>0.2028</td>\n",
              "      <td>0.3788</td>\n",
              "      <td>0.2947</td>\n",
              "      <td>0.1984</td>\n",
              "      <td>0.2341</td>\n",
              "      <td>0.1306</td>\n",
              "      <td>0.4182</td>\n",
              "      <td>0.3835</td>\n",
              "      <td>0.1057</td>\n",
              "      <td>0.1840</td>\n",
              "      <td>0.1970</td>\n",
              "      <td>0.1674</td>\n",
              "      <td>0.0583</td>\n",
              "      <td>0.1401</td>\n",
              "      <td>0.1628</td>\n",
              "      <td>0.0621</td>\n",
              "      <td>0.0203</td>\n",
              "      <td>0.0530</td>\n",
              "      <td>0.0742</td>\n",
              "      <td>0.0409</td>\n",
              "      <td>0.0061</td>\n",
              "      <td>0.0125</td>\n",
              "      <td>0.0084</td>\n",
              "      <td>0.0089</td>\n",
              "      <td>0.0048</td>\n",
              "      <td>0.0094</td>\n",
              "      <td>0.0191</td>\n",
              "      <td>0.0140</td>\n",
              "      <td>0.0049</td>\n",
              "      <td>0.0052</td>\n",
              "      <td>0.0044</td>\n",
              "      <td>R</td>\n",
              "    </tr>\n",
              "    <tr>\n",
              "      <th>2</th>\n",
              "      <td>0.0262</td>\n",
              "      <td>0.0582</td>\n",
              "      <td>0.1099</td>\n",
              "      <td>0.1083</td>\n",
              "      <td>0.0974</td>\n",
              "      <td>0.2280</td>\n",
              "      <td>0.2431</td>\n",
              "      <td>0.3771</td>\n",
              "      <td>0.5598</td>\n",
              "      <td>0.6194</td>\n",
              "      <td>0.6333</td>\n",
              "      <td>0.7060</td>\n",
              "      <td>0.5544</td>\n",
              "      <td>0.5320</td>\n",
              "      <td>0.6479</td>\n",
              "      <td>0.6931</td>\n",
              "      <td>0.6759</td>\n",
              "      <td>0.7551</td>\n",
              "      <td>0.8929</td>\n",
              "      <td>0.8619</td>\n",
              "      <td>0.7974</td>\n",
              "      <td>0.6737</td>\n",
              "      <td>0.4293</td>\n",
              "      <td>0.3648</td>\n",
              "      <td>0.5331</td>\n",
              "      <td>0.2413</td>\n",
              "      <td>0.5070</td>\n",
              "      <td>0.8533</td>\n",
              "      <td>0.6036</td>\n",
              "      <td>0.8514</td>\n",
              "      <td>0.8512</td>\n",
              "      <td>0.5045</td>\n",
              "      <td>0.1862</td>\n",
              "      <td>0.2709</td>\n",
              "      <td>0.4232</td>\n",
              "      <td>0.3043</td>\n",
              "      <td>0.6116</td>\n",
              "      <td>0.6756</td>\n",
              "      <td>0.5375</td>\n",
              "      <td>0.4719</td>\n",
              "      <td>0.4647</td>\n",
              "      <td>0.2587</td>\n",
              "      <td>0.2129</td>\n",
              "      <td>0.2222</td>\n",
              "      <td>0.2111</td>\n",
              "      <td>0.0176</td>\n",
              "      <td>0.1348</td>\n",
              "      <td>0.0744</td>\n",
              "      <td>0.0130</td>\n",
              "      <td>0.0106</td>\n",
              "      <td>0.0033</td>\n",
              "      <td>0.0232</td>\n",
              "      <td>0.0166</td>\n",
              "      <td>0.0095</td>\n",
              "      <td>0.0180</td>\n",
              "      <td>0.0244</td>\n",
              "      <td>0.0316</td>\n",
              "      <td>0.0164</td>\n",
              "      <td>0.0095</td>\n",
              "      <td>0.0078</td>\n",
              "      <td>R</td>\n",
              "    </tr>\n",
              "    <tr>\n",
              "      <th>3</th>\n",
              "      <td>0.0100</td>\n",
              "      <td>0.0171</td>\n",
              "      <td>0.0623</td>\n",
              "      <td>0.0205</td>\n",
              "      <td>0.0205</td>\n",
              "      <td>0.0368</td>\n",
              "      <td>0.1098</td>\n",
              "      <td>0.1276</td>\n",
              "      <td>0.0598</td>\n",
              "      <td>0.1264</td>\n",
              "      <td>0.0881</td>\n",
              "      <td>0.1992</td>\n",
              "      <td>0.0184</td>\n",
              "      <td>0.2261</td>\n",
              "      <td>0.1729</td>\n",
              "      <td>0.2131</td>\n",
              "      <td>0.0693</td>\n",
              "      <td>0.2281</td>\n",
              "      <td>0.4060</td>\n",
              "      <td>0.3973</td>\n",
              "      <td>0.2741</td>\n",
              "      <td>0.3690</td>\n",
              "      <td>0.5556</td>\n",
              "      <td>0.4846</td>\n",
              "      <td>0.3140</td>\n",
              "      <td>0.5334</td>\n",
              "      <td>0.5256</td>\n",
              "      <td>0.2520</td>\n",
              "      <td>0.2090</td>\n",
              "      <td>0.3559</td>\n",
              "      <td>0.6260</td>\n",
              "      <td>0.7340</td>\n",
              "      <td>0.6120</td>\n",
              "      <td>0.3497</td>\n",
              "      <td>0.3953</td>\n",
              "      <td>0.3012</td>\n",
              "      <td>0.5408</td>\n",
              "      <td>0.8814</td>\n",
              "      <td>0.9857</td>\n",
              "      <td>0.9167</td>\n",
              "      <td>0.6121</td>\n",
              "      <td>0.5006</td>\n",
              "      <td>0.3210</td>\n",
              "      <td>0.3202</td>\n",
              "      <td>0.4295</td>\n",
              "      <td>0.3654</td>\n",
              "      <td>0.2655</td>\n",
              "      <td>0.1576</td>\n",
              "      <td>0.0681</td>\n",
              "      <td>0.0294</td>\n",
              "      <td>0.0241</td>\n",
              "      <td>0.0121</td>\n",
              "      <td>0.0036</td>\n",
              "      <td>0.0150</td>\n",
              "      <td>0.0085</td>\n",
              "      <td>0.0073</td>\n",
              "      <td>0.0050</td>\n",
              "      <td>0.0044</td>\n",
              "      <td>0.0040</td>\n",
              "      <td>0.0117</td>\n",
              "      <td>R</td>\n",
              "    </tr>\n",
              "    <tr>\n",
              "      <th>4</th>\n",
              "      <td>0.0762</td>\n",
              "      <td>0.0666</td>\n",
              "      <td>0.0481</td>\n",
              "      <td>0.0394</td>\n",
              "      <td>0.0590</td>\n",
              "      <td>0.0649</td>\n",
              "      <td>0.1209</td>\n",
              "      <td>0.2467</td>\n",
              "      <td>0.3564</td>\n",
              "      <td>0.4459</td>\n",
              "      <td>0.4152</td>\n",
              "      <td>0.3952</td>\n",
              "      <td>0.4256</td>\n",
              "      <td>0.4135</td>\n",
              "      <td>0.4528</td>\n",
              "      <td>0.5326</td>\n",
              "      <td>0.7306</td>\n",
              "      <td>0.6193</td>\n",
              "      <td>0.2032</td>\n",
              "      <td>0.4636</td>\n",
              "      <td>0.4148</td>\n",
              "      <td>0.4292</td>\n",
              "      <td>0.5730</td>\n",
              "      <td>0.5399</td>\n",
              "      <td>0.3161</td>\n",
              "      <td>0.2285</td>\n",
              "      <td>0.6995</td>\n",
              "      <td>1.0000</td>\n",
              "      <td>0.7262</td>\n",
              "      <td>0.4724</td>\n",
              "      <td>0.5103</td>\n",
              "      <td>0.5459</td>\n",
              "      <td>0.2881</td>\n",
              "      <td>0.0981</td>\n",
              "      <td>0.1951</td>\n",
              "      <td>0.4181</td>\n",
              "      <td>0.4604</td>\n",
              "      <td>0.3217</td>\n",
              "      <td>0.2828</td>\n",
              "      <td>0.2430</td>\n",
              "      <td>0.1979</td>\n",
              "      <td>0.2444</td>\n",
              "      <td>0.1847</td>\n",
              "      <td>0.0841</td>\n",
              "      <td>0.0692</td>\n",
              "      <td>0.0528</td>\n",
              "      <td>0.0357</td>\n",
              "      <td>0.0085</td>\n",
              "      <td>0.0230</td>\n",
              "      <td>0.0046</td>\n",
              "      <td>0.0156</td>\n",
              "      <td>0.0031</td>\n",
              "      <td>0.0054</td>\n",
              "      <td>0.0105</td>\n",
              "      <td>0.0110</td>\n",
              "      <td>0.0015</td>\n",
              "      <td>0.0072</td>\n",
              "      <td>0.0048</td>\n",
              "      <td>0.0107</td>\n",
              "      <td>0.0094</td>\n",
              "      <td>R</td>\n",
              "    </tr>\n",
              "  </tbody>\n",
              "</table>\n",
              "</div>"
            ],
            "text/plain": [
              "       0       1       2       3       4   ...      56      57      58      59  60\n",
              "0  0.0200  0.0371  0.0428  0.0207  0.0954  ...  0.0180  0.0084  0.0090  0.0032   R\n",
              "1  0.0453  0.0523  0.0843  0.0689  0.1183  ...  0.0140  0.0049  0.0052  0.0044   R\n",
              "2  0.0262  0.0582  0.1099  0.1083  0.0974  ...  0.0316  0.0164  0.0095  0.0078   R\n",
              "3  0.0100  0.0171  0.0623  0.0205  0.0205  ...  0.0050  0.0044  0.0040  0.0117   R\n",
              "4  0.0762  0.0666  0.0481  0.0394  0.0590  ...  0.0072  0.0048  0.0107  0.0094   R\n",
              "\n",
              "[5 rows x 61 columns]"
            ]
          },
          "metadata": {
            "tags": []
          },
          "execution_count": 3
        }
      ]
    },
    {
      "cell_type": "code",
      "metadata": {
        "id": "gm-052w2yz55",
        "colab_type": "code",
        "colab": {
          "base_uri": "https://localhost:8080/",
          "height": 0
        },
        "outputId": "b61ec36d-bae4-4321-dee5-5e8a8993d29e"
      },
      "source": [
        "dataset.tail()"
      ],
      "execution_count": 4,
      "outputs": [
        {
          "output_type": "execute_result",
          "data": {
            "text/html": [
              "<div>\n",
              "<style scoped>\n",
              "    .dataframe tbody tr th:only-of-type {\n",
              "        vertical-align: middle;\n",
              "    }\n",
              "\n",
              "    .dataframe tbody tr th {\n",
              "        vertical-align: top;\n",
              "    }\n",
              "\n",
              "    .dataframe thead th {\n",
              "        text-align: right;\n",
              "    }\n",
              "</style>\n",
              "<table border=\"1\" class=\"dataframe\">\n",
              "  <thead>\n",
              "    <tr style=\"text-align: right;\">\n",
              "      <th></th>\n",
              "      <th>0</th>\n",
              "      <th>1</th>\n",
              "      <th>2</th>\n",
              "      <th>3</th>\n",
              "      <th>4</th>\n",
              "      <th>5</th>\n",
              "      <th>6</th>\n",
              "      <th>7</th>\n",
              "      <th>8</th>\n",
              "      <th>9</th>\n",
              "      <th>10</th>\n",
              "      <th>11</th>\n",
              "      <th>12</th>\n",
              "      <th>13</th>\n",
              "      <th>14</th>\n",
              "      <th>15</th>\n",
              "      <th>16</th>\n",
              "      <th>17</th>\n",
              "      <th>18</th>\n",
              "      <th>19</th>\n",
              "      <th>20</th>\n",
              "      <th>21</th>\n",
              "      <th>22</th>\n",
              "      <th>23</th>\n",
              "      <th>24</th>\n",
              "      <th>25</th>\n",
              "      <th>26</th>\n",
              "      <th>27</th>\n",
              "      <th>28</th>\n",
              "      <th>29</th>\n",
              "      <th>30</th>\n",
              "      <th>31</th>\n",
              "      <th>32</th>\n",
              "      <th>33</th>\n",
              "      <th>34</th>\n",
              "      <th>35</th>\n",
              "      <th>36</th>\n",
              "      <th>37</th>\n",
              "      <th>38</th>\n",
              "      <th>39</th>\n",
              "      <th>40</th>\n",
              "      <th>41</th>\n",
              "      <th>42</th>\n",
              "      <th>43</th>\n",
              "      <th>44</th>\n",
              "      <th>45</th>\n",
              "      <th>46</th>\n",
              "      <th>47</th>\n",
              "      <th>48</th>\n",
              "      <th>49</th>\n",
              "      <th>50</th>\n",
              "      <th>51</th>\n",
              "      <th>52</th>\n",
              "      <th>53</th>\n",
              "      <th>54</th>\n",
              "      <th>55</th>\n",
              "      <th>56</th>\n",
              "      <th>57</th>\n",
              "      <th>58</th>\n",
              "      <th>59</th>\n",
              "      <th>60</th>\n",
              "    </tr>\n",
              "  </thead>\n",
              "  <tbody>\n",
              "    <tr>\n",
              "      <th>203</th>\n",
              "      <td>0.0187</td>\n",
              "      <td>0.0346</td>\n",
              "      <td>0.0168</td>\n",
              "      <td>0.0177</td>\n",
              "      <td>0.0393</td>\n",
              "      <td>0.1630</td>\n",
              "      <td>0.2028</td>\n",
              "      <td>0.1694</td>\n",
              "      <td>0.2328</td>\n",
              "      <td>0.2684</td>\n",
              "      <td>0.3108</td>\n",
              "      <td>0.2933</td>\n",
              "      <td>0.2275</td>\n",
              "      <td>0.0994</td>\n",
              "      <td>0.1801</td>\n",
              "      <td>0.2200</td>\n",
              "      <td>0.2732</td>\n",
              "      <td>0.2862</td>\n",
              "      <td>0.2034</td>\n",
              "      <td>0.1740</td>\n",
              "      <td>0.4130</td>\n",
              "      <td>0.6879</td>\n",
              "      <td>0.8120</td>\n",
              "      <td>0.8453</td>\n",
              "      <td>0.8919</td>\n",
              "      <td>0.9300</td>\n",
              "      <td>0.9987</td>\n",
              "      <td>1.0000</td>\n",
              "      <td>0.8104</td>\n",
              "      <td>0.6199</td>\n",
              "      <td>0.6041</td>\n",
              "      <td>0.5547</td>\n",
              "      <td>0.4160</td>\n",
              "      <td>0.1472</td>\n",
              "      <td>0.0849</td>\n",
              "      <td>0.0608</td>\n",
              "      <td>0.0969</td>\n",
              "      <td>0.1411</td>\n",
              "      <td>0.1676</td>\n",
              "      <td>0.1200</td>\n",
              "      <td>0.1201</td>\n",
              "      <td>0.1036</td>\n",
              "      <td>0.1977</td>\n",
              "      <td>0.1339</td>\n",
              "      <td>0.0902</td>\n",
              "      <td>0.1085</td>\n",
              "      <td>0.1521</td>\n",
              "      <td>0.1363</td>\n",
              "      <td>0.0858</td>\n",
              "      <td>0.0290</td>\n",
              "      <td>0.0203</td>\n",
              "      <td>0.0116</td>\n",
              "      <td>0.0098</td>\n",
              "      <td>0.0199</td>\n",
              "      <td>0.0033</td>\n",
              "      <td>0.0101</td>\n",
              "      <td>0.0065</td>\n",
              "      <td>0.0115</td>\n",
              "      <td>0.0193</td>\n",
              "      <td>0.0157</td>\n",
              "      <td>M</td>\n",
              "    </tr>\n",
              "    <tr>\n",
              "      <th>204</th>\n",
              "      <td>0.0323</td>\n",
              "      <td>0.0101</td>\n",
              "      <td>0.0298</td>\n",
              "      <td>0.0564</td>\n",
              "      <td>0.0760</td>\n",
              "      <td>0.0958</td>\n",
              "      <td>0.0990</td>\n",
              "      <td>0.1018</td>\n",
              "      <td>0.1030</td>\n",
              "      <td>0.2154</td>\n",
              "      <td>0.3085</td>\n",
              "      <td>0.3425</td>\n",
              "      <td>0.2990</td>\n",
              "      <td>0.1402</td>\n",
              "      <td>0.1235</td>\n",
              "      <td>0.1534</td>\n",
              "      <td>0.1901</td>\n",
              "      <td>0.2429</td>\n",
              "      <td>0.2120</td>\n",
              "      <td>0.2395</td>\n",
              "      <td>0.3272</td>\n",
              "      <td>0.5949</td>\n",
              "      <td>0.8302</td>\n",
              "      <td>0.9045</td>\n",
              "      <td>0.9888</td>\n",
              "      <td>0.9912</td>\n",
              "      <td>0.9448</td>\n",
              "      <td>1.0000</td>\n",
              "      <td>0.9092</td>\n",
              "      <td>0.7412</td>\n",
              "      <td>0.7691</td>\n",
              "      <td>0.7117</td>\n",
              "      <td>0.5304</td>\n",
              "      <td>0.2131</td>\n",
              "      <td>0.0928</td>\n",
              "      <td>0.1297</td>\n",
              "      <td>0.1159</td>\n",
              "      <td>0.1226</td>\n",
              "      <td>0.1768</td>\n",
              "      <td>0.0345</td>\n",
              "      <td>0.1562</td>\n",
              "      <td>0.0824</td>\n",
              "      <td>0.1149</td>\n",
              "      <td>0.1694</td>\n",
              "      <td>0.0954</td>\n",
              "      <td>0.0080</td>\n",
              "      <td>0.0790</td>\n",
              "      <td>0.1255</td>\n",
              "      <td>0.0647</td>\n",
              "      <td>0.0179</td>\n",
              "      <td>0.0051</td>\n",
              "      <td>0.0061</td>\n",
              "      <td>0.0093</td>\n",
              "      <td>0.0135</td>\n",
              "      <td>0.0063</td>\n",
              "      <td>0.0063</td>\n",
              "      <td>0.0034</td>\n",
              "      <td>0.0032</td>\n",
              "      <td>0.0062</td>\n",
              "      <td>0.0067</td>\n",
              "      <td>M</td>\n",
              "    </tr>\n",
              "    <tr>\n",
              "      <th>205</th>\n",
              "      <td>0.0522</td>\n",
              "      <td>0.0437</td>\n",
              "      <td>0.0180</td>\n",
              "      <td>0.0292</td>\n",
              "      <td>0.0351</td>\n",
              "      <td>0.1171</td>\n",
              "      <td>0.1257</td>\n",
              "      <td>0.1178</td>\n",
              "      <td>0.1258</td>\n",
              "      <td>0.2529</td>\n",
              "      <td>0.2716</td>\n",
              "      <td>0.2374</td>\n",
              "      <td>0.1878</td>\n",
              "      <td>0.0983</td>\n",
              "      <td>0.0683</td>\n",
              "      <td>0.1503</td>\n",
              "      <td>0.1723</td>\n",
              "      <td>0.2339</td>\n",
              "      <td>0.1962</td>\n",
              "      <td>0.1395</td>\n",
              "      <td>0.3164</td>\n",
              "      <td>0.5888</td>\n",
              "      <td>0.7631</td>\n",
              "      <td>0.8473</td>\n",
              "      <td>0.9424</td>\n",
              "      <td>0.9986</td>\n",
              "      <td>0.9699</td>\n",
              "      <td>1.0000</td>\n",
              "      <td>0.8630</td>\n",
              "      <td>0.6979</td>\n",
              "      <td>0.7717</td>\n",
              "      <td>0.7305</td>\n",
              "      <td>0.5197</td>\n",
              "      <td>0.1786</td>\n",
              "      <td>0.1098</td>\n",
              "      <td>0.1446</td>\n",
              "      <td>0.1066</td>\n",
              "      <td>0.1440</td>\n",
              "      <td>0.1929</td>\n",
              "      <td>0.0325</td>\n",
              "      <td>0.1490</td>\n",
              "      <td>0.0328</td>\n",
              "      <td>0.0537</td>\n",
              "      <td>0.1309</td>\n",
              "      <td>0.0910</td>\n",
              "      <td>0.0757</td>\n",
              "      <td>0.1059</td>\n",
              "      <td>0.1005</td>\n",
              "      <td>0.0535</td>\n",
              "      <td>0.0235</td>\n",
              "      <td>0.0155</td>\n",
              "      <td>0.0160</td>\n",
              "      <td>0.0029</td>\n",
              "      <td>0.0051</td>\n",
              "      <td>0.0062</td>\n",
              "      <td>0.0089</td>\n",
              "      <td>0.0140</td>\n",
              "      <td>0.0138</td>\n",
              "      <td>0.0077</td>\n",
              "      <td>0.0031</td>\n",
              "      <td>M</td>\n",
              "    </tr>\n",
              "    <tr>\n",
              "      <th>206</th>\n",
              "      <td>0.0303</td>\n",
              "      <td>0.0353</td>\n",
              "      <td>0.0490</td>\n",
              "      <td>0.0608</td>\n",
              "      <td>0.0167</td>\n",
              "      <td>0.1354</td>\n",
              "      <td>0.1465</td>\n",
              "      <td>0.1123</td>\n",
              "      <td>0.1945</td>\n",
              "      <td>0.2354</td>\n",
              "      <td>0.2898</td>\n",
              "      <td>0.2812</td>\n",
              "      <td>0.1578</td>\n",
              "      <td>0.0273</td>\n",
              "      <td>0.0673</td>\n",
              "      <td>0.1444</td>\n",
              "      <td>0.2070</td>\n",
              "      <td>0.2645</td>\n",
              "      <td>0.2828</td>\n",
              "      <td>0.4293</td>\n",
              "      <td>0.5685</td>\n",
              "      <td>0.6990</td>\n",
              "      <td>0.7246</td>\n",
              "      <td>0.7622</td>\n",
              "      <td>0.9242</td>\n",
              "      <td>1.0000</td>\n",
              "      <td>0.9979</td>\n",
              "      <td>0.8297</td>\n",
              "      <td>0.7032</td>\n",
              "      <td>0.7141</td>\n",
              "      <td>0.6893</td>\n",
              "      <td>0.4961</td>\n",
              "      <td>0.2584</td>\n",
              "      <td>0.0969</td>\n",
              "      <td>0.0776</td>\n",
              "      <td>0.0364</td>\n",
              "      <td>0.1572</td>\n",
              "      <td>0.1823</td>\n",
              "      <td>0.1349</td>\n",
              "      <td>0.0849</td>\n",
              "      <td>0.0492</td>\n",
              "      <td>0.1367</td>\n",
              "      <td>0.1552</td>\n",
              "      <td>0.1548</td>\n",
              "      <td>0.1319</td>\n",
              "      <td>0.0985</td>\n",
              "      <td>0.1258</td>\n",
              "      <td>0.0954</td>\n",
              "      <td>0.0489</td>\n",
              "      <td>0.0241</td>\n",
              "      <td>0.0042</td>\n",
              "      <td>0.0086</td>\n",
              "      <td>0.0046</td>\n",
              "      <td>0.0126</td>\n",
              "      <td>0.0036</td>\n",
              "      <td>0.0035</td>\n",
              "      <td>0.0034</td>\n",
              "      <td>0.0079</td>\n",
              "      <td>0.0036</td>\n",
              "      <td>0.0048</td>\n",
              "      <td>M</td>\n",
              "    </tr>\n",
              "    <tr>\n",
              "      <th>207</th>\n",
              "      <td>0.0260</td>\n",
              "      <td>0.0363</td>\n",
              "      <td>0.0136</td>\n",
              "      <td>0.0272</td>\n",
              "      <td>0.0214</td>\n",
              "      <td>0.0338</td>\n",
              "      <td>0.0655</td>\n",
              "      <td>0.1400</td>\n",
              "      <td>0.1843</td>\n",
              "      <td>0.2354</td>\n",
              "      <td>0.2720</td>\n",
              "      <td>0.2442</td>\n",
              "      <td>0.1665</td>\n",
              "      <td>0.0336</td>\n",
              "      <td>0.1302</td>\n",
              "      <td>0.1708</td>\n",
              "      <td>0.2177</td>\n",
              "      <td>0.3175</td>\n",
              "      <td>0.3714</td>\n",
              "      <td>0.4552</td>\n",
              "      <td>0.5700</td>\n",
              "      <td>0.7397</td>\n",
              "      <td>0.8062</td>\n",
              "      <td>0.8837</td>\n",
              "      <td>0.9432</td>\n",
              "      <td>1.0000</td>\n",
              "      <td>0.9375</td>\n",
              "      <td>0.7603</td>\n",
              "      <td>0.7123</td>\n",
              "      <td>0.8358</td>\n",
              "      <td>0.7622</td>\n",
              "      <td>0.4567</td>\n",
              "      <td>0.1715</td>\n",
              "      <td>0.1549</td>\n",
              "      <td>0.1641</td>\n",
              "      <td>0.1869</td>\n",
              "      <td>0.2655</td>\n",
              "      <td>0.1713</td>\n",
              "      <td>0.0959</td>\n",
              "      <td>0.0768</td>\n",
              "      <td>0.0847</td>\n",
              "      <td>0.2076</td>\n",
              "      <td>0.2505</td>\n",
              "      <td>0.1862</td>\n",
              "      <td>0.1439</td>\n",
              "      <td>0.1470</td>\n",
              "      <td>0.0991</td>\n",
              "      <td>0.0041</td>\n",
              "      <td>0.0154</td>\n",
              "      <td>0.0116</td>\n",
              "      <td>0.0181</td>\n",
              "      <td>0.0146</td>\n",
              "      <td>0.0129</td>\n",
              "      <td>0.0047</td>\n",
              "      <td>0.0039</td>\n",
              "      <td>0.0061</td>\n",
              "      <td>0.0040</td>\n",
              "      <td>0.0036</td>\n",
              "      <td>0.0061</td>\n",
              "      <td>0.0115</td>\n",
              "      <td>M</td>\n",
              "    </tr>\n",
              "  </tbody>\n",
              "</table>\n",
              "</div>"
            ],
            "text/plain": [
              "         0       1       2       3       4   ...      56      57      58      59  60\n",
              "203  0.0187  0.0346  0.0168  0.0177  0.0393  ...  0.0065  0.0115  0.0193  0.0157   M\n",
              "204  0.0323  0.0101  0.0298  0.0564  0.0760  ...  0.0034  0.0032  0.0062  0.0067   M\n",
              "205  0.0522  0.0437  0.0180  0.0292  0.0351  ...  0.0140  0.0138  0.0077  0.0031   M\n",
              "206  0.0303  0.0353  0.0490  0.0608  0.0167  ...  0.0034  0.0079  0.0036  0.0048   M\n",
              "207  0.0260  0.0363  0.0136  0.0272  0.0214  ...  0.0040  0.0036  0.0061  0.0115   M\n",
              "\n",
              "[5 rows x 61 columns]"
            ]
          },
          "metadata": {
            "tags": []
          },
          "execution_count": 4
        }
      ]
    },
    {
      "cell_type": "code",
      "metadata": {
        "id": "7rhiMKMgymkN",
        "colab_type": "code",
        "colab": {
          "base_uri": "https://localhost:8080/",
          "height": 0
        },
        "outputId": "e11934f3-576b-480f-9194-dd698833f91a"
      },
      "source": [
        "dataset.shape"
      ],
      "execution_count": 5,
      "outputs": [
        {
          "output_type": "execute_result",
          "data": {
            "text/plain": [
              "(208, 61)"
            ]
          },
          "metadata": {
            "tags": []
          },
          "execution_count": 5
        }
      ]
    },
    {
      "cell_type": "code",
      "metadata": {
        "id": "7ys9jkEJy9w5",
        "colab_type": "code",
        "colab": {
          "base_uri": "https://localhost:8080/",
          "height": 0
        },
        "outputId": "df9eb12a-fa65-473a-b08b-0834b30f5122"
      },
      "source": [
        "# types \n",
        "set_option('display.max_rows', 500) \n",
        "dataset.dtypes"
      ],
      "execution_count": 6,
      "outputs": [
        {
          "output_type": "execute_result",
          "data": {
            "text/plain": [
              "0     float64\n",
              "1     float64\n",
              "2     float64\n",
              "3     float64\n",
              "4     float64\n",
              "5     float64\n",
              "6     float64\n",
              "7     float64\n",
              "8     float64\n",
              "9     float64\n",
              "10    float64\n",
              "11    float64\n",
              "12    float64\n",
              "13    float64\n",
              "14    float64\n",
              "15    float64\n",
              "16    float64\n",
              "17    float64\n",
              "18    float64\n",
              "19    float64\n",
              "20    float64\n",
              "21    float64\n",
              "22    float64\n",
              "23    float64\n",
              "24    float64\n",
              "25    float64\n",
              "26    float64\n",
              "27    float64\n",
              "28    float64\n",
              "29    float64\n",
              "30    float64\n",
              "31    float64\n",
              "32    float64\n",
              "33    float64\n",
              "34    float64\n",
              "35    float64\n",
              "36    float64\n",
              "37    float64\n",
              "38    float64\n",
              "39    float64\n",
              "40    float64\n",
              "41    float64\n",
              "42    float64\n",
              "43    float64\n",
              "44    float64\n",
              "45    float64\n",
              "46    float64\n",
              "47    float64\n",
              "48    float64\n",
              "49    float64\n",
              "50    float64\n",
              "51    float64\n",
              "52    float64\n",
              "53    float64\n",
              "54    float64\n",
              "55    float64\n",
              "56    float64\n",
              "57    float64\n",
              "58    float64\n",
              "59    float64\n",
              "60     object\n",
              "dtype: object"
            ]
          },
          "metadata": {
            "tags": []
          },
          "execution_count": 6
        }
      ]
    },
    {
      "cell_type": "code",
      "metadata": {
        "id": "AJD6muBvzBas",
        "colab_type": "code",
        "colab": {
          "base_uri": "https://localhost:8080/",
          "height": 0
        },
        "outputId": "ddadd6dc-3d6a-4c78-8321-d6f4e11a92cd"
      },
      "source": [
        "# descriptions, change precision to 3 places \n",
        "set_option('display.width',100)\n",
        "set_option('precision', 3)\n",
        "dataset.describe()"
      ],
      "execution_count": 7,
      "outputs": [
        {
          "output_type": "execute_result",
          "data": {
            "text/html": [
              "<div>\n",
              "<style scoped>\n",
              "    .dataframe tbody tr th:only-of-type {\n",
              "        vertical-align: middle;\n",
              "    }\n",
              "\n",
              "    .dataframe tbody tr th {\n",
              "        vertical-align: top;\n",
              "    }\n",
              "\n",
              "    .dataframe thead th {\n",
              "        text-align: right;\n",
              "    }\n",
              "</style>\n",
              "<table border=\"1\" class=\"dataframe\">\n",
              "  <thead>\n",
              "    <tr style=\"text-align: right;\">\n",
              "      <th></th>\n",
              "      <th>0</th>\n",
              "      <th>1</th>\n",
              "      <th>2</th>\n",
              "      <th>3</th>\n",
              "      <th>4</th>\n",
              "      <th>5</th>\n",
              "      <th>6</th>\n",
              "      <th>7</th>\n",
              "      <th>8</th>\n",
              "      <th>9</th>\n",
              "      <th>10</th>\n",
              "      <th>11</th>\n",
              "      <th>12</th>\n",
              "      <th>13</th>\n",
              "      <th>14</th>\n",
              "      <th>15</th>\n",
              "      <th>16</th>\n",
              "      <th>17</th>\n",
              "      <th>18</th>\n",
              "      <th>19</th>\n",
              "      <th>20</th>\n",
              "      <th>21</th>\n",
              "      <th>22</th>\n",
              "      <th>23</th>\n",
              "      <th>24</th>\n",
              "      <th>25</th>\n",
              "      <th>26</th>\n",
              "      <th>27</th>\n",
              "      <th>28</th>\n",
              "      <th>29</th>\n",
              "      <th>30</th>\n",
              "      <th>31</th>\n",
              "      <th>32</th>\n",
              "      <th>33</th>\n",
              "      <th>34</th>\n",
              "      <th>35</th>\n",
              "      <th>36</th>\n",
              "      <th>37</th>\n",
              "      <th>38</th>\n",
              "      <th>39</th>\n",
              "      <th>40</th>\n",
              "      <th>41</th>\n",
              "      <th>42</th>\n",
              "      <th>43</th>\n",
              "      <th>44</th>\n",
              "      <th>45</th>\n",
              "      <th>46</th>\n",
              "      <th>47</th>\n",
              "      <th>48</th>\n",
              "      <th>49</th>\n",
              "      <th>50</th>\n",
              "      <th>51</th>\n",
              "      <th>52</th>\n",
              "      <th>53</th>\n",
              "      <th>54</th>\n",
              "      <th>55</th>\n",
              "      <th>56</th>\n",
              "      <th>57</th>\n",
              "      <th>58</th>\n",
              "      <th>59</th>\n",
              "    </tr>\n",
              "  </thead>\n",
              "  <tbody>\n",
              "    <tr>\n",
              "      <th>count</th>\n",
              "      <td>208.000</td>\n",
              "      <td>2.080e+02</td>\n",
              "      <td>208.000</td>\n",
              "      <td>208.000</td>\n",
              "      <td>208.000</td>\n",
              "      <td>208.000</td>\n",
              "      <td>208.000</td>\n",
              "      <td>208.000</td>\n",
              "      <td>208.000</td>\n",
              "      <td>208.000</td>\n",
              "      <td>208.000</td>\n",
              "      <td>208.000</td>\n",
              "      <td>208.000</td>\n",
              "      <td>208.000</td>\n",
              "      <td>208.000</td>\n",
              "      <td>208.000</td>\n",
              "      <td>208.000</td>\n",
              "      <td>208.000</td>\n",
              "      <td>208.000</td>\n",
              "      <td>208.000</td>\n",
              "      <td>208.000</td>\n",
              "      <td>208.000</td>\n",
              "      <td>208.000</td>\n",
              "      <td>208.000</td>\n",
              "      <td>208.000</td>\n",
              "      <td>208.000</td>\n",
              "      <td>208.000</td>\n",
              "      <td>208.000</td>\n",
              "      <td>208.000</td>\n",
              "      <td>208.000</td>\n",
              "      <td>208.000</td>\n",
              "      <td>208.000</td>\n",
              "      <td>208.000</td>\n",
              "      <td>208.000</td>\n",
              "      <td>208.000</td>\n",
              "      <td>208.000</td>\n",
              "      <td>208.000</td>\n",
              "      <td>208.000</td>\n",
              "      <td>208.000</td>\n",
              "      <td>208.000</td>\n",
              "      <td>208.000</td>\n",
              "      <td>208.000</td>\n",
              "      <td>208.000</td>\n",
              "      <td>208.000</td>\n",
              "      <td>208.000</td>\n",
              "      <td>208.000</td>\n",
              "      <td>208.000</td>\n",
              "      <td>208.000</td>\n",
              "      <td>208.000</td>\n",
              "      <td>208.000</td>\n",
              "      <td>208.000</td>\n",
              "      <td>2.080e+02</td>\n",
              "      <td>2.080e+02</td>\n",
              "      <td>208.000</td>\n",
              "      <td>2.080e+02</td>\n",
              "      <td>2.080e+02</td>\n",
              "      <td>2.080e+02</td>\n",
              "      <td>2.080e+02</td>\n",
              "      <td>2.080e+02</td>\n",
              "      <td>2.080e+02</td>\n",
              "    </tr>\n",
              "    <tr>\n",
              "      <th>mean</th>\n",
              "      <td>0.029</td>\n",
              "      <td>3.844e-02</td>\n",
              "      <td>0.044</td>\n",
              "      <td>0.054</td>\n",
              "      <td>0.075</td>\n",
              "      <td>0.105</td>\n",
              "      <td>0.122</td>\n",
              "      <td>0.135</td>\n",
              "      <td>0.178</td>\n",
              "      <td>0.208</td>\n",
              "      <td>0.236</td>\n",
              "      <td>0.250</td>\n",
              "      <td>0.273</td>\n",
              "      <td>0.297</td>\n",
              "      <td>0.320</td>\n",
              "      <td>0.378</td>\n",
              "      <td>0.416</td>\n",
              "      <td>0.452</td>\n",
              "      <td>0.505</td>\n",
              "      <td>0.563</td>\n",
              "      <td>0.609</td>\n",
              "      <td>0.624</td>\n",
              "      <td>0.647</td>\n",
              "      <td>0.673</td>\n",
              "      <td>0.675</td>\n",
              "      <td>0.700</td>\n",
              "      <td>0.702</td>\n",
              "      <td>0.694</td>\n",
              "      <td>0.642</td>\n",
              "      <td>0.581</td>\n",
              "      <td>0.504</td>\n",
              "      <td>0.439</td>\n",
              "      <td>0.417</td>\n",
              "      <td>0.403</td>\n",
              "      <td>0.393</td>\n",
              "      <td>0.385</td>\n",
              "      <td>0.364</td>\n",
              "      <td>0.340</td>\n",
              "      <td>0.326</td>\n",
              "      <td>0.311</td>\n",
              "      <td>0.289</td>\n",
              "      <td>0.278</td>\n",
              "      <td>0.247</td>\n",
              "      <td>0.214</td>\n",
              "      <td>0.197</td>\n",
              "      <td>0.161</td>\n",
              "      <td>0.122</td>\n",
              "      <td>0.091</td>\n",
              "      <td>0.052</td>\n",
              "      <td>0.020</td>\n",
              "      <td>0.016</td>\n",
              "      <td>1.342e-02</td>\n",
              "      <td>1.071e-02</td>\n",
              "      <td>0.011</td>\n",
              "      <td>9.290e-03</td>\n",
              "      <td>8.222e-03</td>\n",
              "      <td>7.820e-03</td>\n",
              "      <td>7.949e-03</td>\n",
              "      <td>7.941e-03</td>\n",
              "      <td>6.507e-03</td>\n",
              "    </tr>\n",
              "    <tr>\n",
              "      <th>std</th>\n",
              "      <td>0.023</td>\n",
              "      <td>3.296e-02</td>\n",
              "      <td>0.038</td>\n",
              "      <td>0.047</td>\n",
              "      <td>0.056</td>\n",
              "      <td>0.059</td>\n",
              "      <td>0.062</td>\n",
              "      <td>0.085</td>\n",
              "      <td>0.118</td>\n",
              "      <td>0.134</td>\n",
              "      <td>0.133</td>\n",
              "      <td>0.140</td>\n",
              "      <td>0.141</td>\n",
              "      <td>0.164</td>\n",
              "      <td>0.205</td>\n",
              "      <td>0.233</td>\n",
              "      <td>0.264</td>\n",
              "      <td>0.262</td>\n",
              "      <td>0.258</td>\n",
              "      <td>0.263</td>\n",
              "      <td>0.258</td>\n",
              "      <td>0.256</td>\n",
              "      <td>0.250</td>\n",
              "      <td>0.239</td>\n",
              "      <td>0.245</td>\n",
              "      <td>0.237</td>\n",
              "      <td>0.246</td>\n",
              "      <td>0.237</td>\n",
              "      <td>0.240</td>\n",
              "      <td>0.221</td>\n",
              "      <td>0.214</td>\n",
              "      <td>0.213</td>\n",
              "      <td>0.207</td>\n",
              "      <td>0.231</td>\n",
              "      <td>0.259</td>\n",
              "      <td>0.264</td>\n",
              "      <td>0.240</td>\n",
              "      <td>0.213</td>\n",
              "      <td>0.199</td>\n",
              "      <td>0.179</td>\n",
              "      <td>0.171</td>\n",
              "      <td>0.169</td>\n",
              "      <td>0.139</td>\n",
              "      <td>0.133</td>\n",
              "      <td>0.152</td>\n",
              "      <td>0.134</td>\n",
              "      <td>0.087</td>\n",
              "      <td>0.062</td>\n",
              "      <td>0.036</td>\n",
              "      <td>0.014</td>\n",
              "      <td>0.012</td>\n",
              "      <td>9.634e-03</td>\n",
              "      <td>7.060e-03</td>\n",
              "      <td>0.007</td>\n",
              "      <td>7.088e-03</td>\n",
              "      <td>5.736e-03</td>\n",
              "      <td>5.785e-03</td>\n",
              "      <td>6.470e-03</td>\n",
              "      <td>6.181e-03</td>\n",
              "      <td>5.031e-03</td>\n",
              "    </tr>\n",
              "    <tr>\n",
              "      <th>min</th>\n",
              "      <td>0.002</td>\n",
              "      <td>6.000e-04</td>\n",
              "      <td>0.002</td>\n",
              "      <td>0.006</td>\n",
              "      <td>0.007</td>\n",
              "      <td>0.010</td>\n",
              "      <td>0.003</td>\n",
              "      <td>0.005</td>\n",
              "      <td>0.007</td>\n",
              "      <td>0.011</td>\n",
              "      <td>0.029</td>\n",
              "      <td>0.024</td>\n",
              "      <td>0.018</td>\n",
              "      <td>0.027</td>\n",
              "      <td>0.003</td>\n",
              "      <td>0.016</td>\n",
              "      <td>0.035</td>\n",
              "      <td>0.037</td>\n",
              "      <td>0.049</td>\n",
              "      <td>0.066</td>\n",
              "      <td>0.051</td>\n",
              "      <td>0.022</td>\n",
              "      <td>0.056</td>\n",
              "      <td>0.024</td>\n",
              "      <td>0.024</td>\n",
              "      <td>0.092</td>\n",
              "      <td>0.048</td>\n",
              "      <td>0.028</td>\n",
              "      <td>0.014</td>\n",
              "      <td>0.061</td>\n",
              "      <td>0.048</td>\n",
              "      <td>0.040</td>\n",
              "      <td>0.048</td>\n",
              "      <td>0.021</td>\n",
              "      <td>0.022</td>\n",
              "      <td>0.008</td>\n",
              "      <td>0.035</td>\n",
              "      <td>0.038</td>\n",
              "      <td>0.037</td>\n",
              "      <td>0.012</td>\n",
              "      <td>0.036</td>\n",
              "      <td>0.006</td>\n",
              "      <td>0.000</td>\n",
              "      <td>0.000</td>\n",
              "      <td>0.000</td>\n",
              "      <td>0.000</td>\n",
              "      <td>0.000</td>\n",
              "      <td>0.000</td>\n",
              "      <td>0.000</td>\n",
              "      <td>0.000</td>\n",
              "      <td>0.000</td>\n",
              "      <td>8.000e-04</td>\n",
              "      <td>5.000e-04</td>\n",
              "      <td>0.001</td>\n",
              "      <td>6.000e-04</td>\n",
              "      <td>4.000e-04</td>\n",
              "      <td>3.000e-04</td>\n",
              "      <td>3.000e-04</td>\n",
              "      <td>1.000e-04</td>\n",
              "      <td>6.000e-04</td>\n",
              "    </tr>\n",
              "    <tr>\n",
              "      <th>25%</th>\n",
              "      <td>0.013</td>\n",
              "      <td>1.645e-02</td>\n",
              "      <td>0.019</td>\n",
              "      <td>0.024</td>\n",
              "      <td>0.038</td>\n",
              "      <td>0.067</td>\n",
              "      <td>0.081</td>\n",
              "      <td>0.080</td>\n",
              "      <td>0.097</td>\n",
              "      <td>0.111</td>\n",
              "      <td>0.129</td>\n",
              "      <td>0.133</td>\n",
              "      <td>0.166</td>\n",
              "      <td>0.175</td>\n",
              "      <td>0.165</td>\n",
              "      <td>0.196</td>\n",
              "      <td>0.206</td>\n",
              "      <td>0.242</td>\n",
              "      <td>0.299</td>\n",
              "      <td>0.351</td>\n",
              "      <td>0.400</td>\n",
              "      <td>0.407</td>\n",
              "      <td>0.450</td>\n",
              "      <td>0.541</td>\n",
              "      <td>0.526</td>\n",
              "      <td>0.544</td>\n",
              "      <td>0.532</td>\n",
              "      <td>0.535</td>\n",
              "      <td>0.464</td>\n",
              "      <td>0.411</td>\n",
              "      <td>0.346</td>\n",
              "      <td>0.281</td>\n",
              "      <td>0.258</td>\n",
              "      <td>0.218</td>\n",
              "      <td>0.179</td>\n",
              "      <td>0.154</td>\n",
              "      <td>0.160</td>\n",
              "      <td>0.174</td>\n",
              "      <td>0.174</td>\n",
              "      <td>0.186</td>\n",
              "      <td>0.163</td>\n",
              "      <td>0.159</td>\n",
              "      <td>0.155</td>\n",
              "      <td>0.127</td>\n",
              "      <td>0.094</td>\n",
              "      <td>0.069</td>\n",
              "      <td>0.064</td>\n",
              "      <td>0.045</td>\n",
              "      <td>0.026</td>\n",
              "      <td>0.012</td>\n",
              "      <td>0.008</td>\n",
              "      <td>7.275e-03</td>\n",
              "      <td>5.075e-03</td>\n",
              "      <td>0.005</td>\n",
              "      <td>4.150e-03</td>\n",
              "      <td>4.400e-03</td>\n",
              "      <td>3.700e-03</td>\n",
              "      <td>3.600e-03</td>\n",
              "      <td>3.675e-03</td>\n",
              "      <td>3.100e-03</td>\n",
              "    </tr>\n",
              "    <tr>\n",
              "      <th>50%</th>\n",
              "      <td>0.023</td>\n",
              "      <td>3.080e-02</td>\n",
              "      <td>0.034</td>\n",
              "      <td>0.044</td>\n",
              "      <td>0.062</td>\n",
              "      <td>0.092</td>\n",
              "      <td>0.107</td>\n",
              "      <td>0.112</td>\n",
              "      <td>0.152</td>\n",
              "      <td>0.182</td>\n",
              "      <td>0.225</td>\n",
              "      <td>0.249</td>\n",
              "      <td>0.264</td>\n",
              "      <td>0.281</td>\n",
              "      <td>0.282</td>\n",
              "      <td>0.305</td>\n",
              "      <td>0.308</td>\n",
              "      <td>0.368</td>\n",
              "      <td>0.435</td>\n",
              "      <td>0.542</td>\n",
              "      <td>0.618</td>\n",
              "      <td>0.665</td>\n",
              "      <td>0.700</td>\n",
              "      <td>0.699</td>\n",
              "      <td>0.721</td>\n",
              "      <td>0.754</td>\n",
              "      <td>0.746</td>\n",
              "      <td>0.732</td>\n",
              "      <td>0.681</td>\n",
              "      <td>0.607</td>\n",
              "      <td>0.490</td>\n",
              "      <td>0.430</td>\n",
              "      <td>0.391</td>\n",
              "      <td>0.351</td>\n",
              "      <td>0.313</td>\n",
              "      <td>0.321</td>\n",
              "      <td>0.306</td>\n",
              "      <td>0.313</td>\n",
              "      <td>0.283</td>\n",
              "      <td>0.278</td>\n",
              "      <td>0.260</td>\n",
              "      <td>0.245</td>\n",
              "      <td>0.223</td>\n",
              "      <td>0.178</td>\n",
              "      <td>0.148</td>\n",
              "      <td>0.121</td>\n",
              "      <td>0.102</td>\n",
              "      <td>0.078</td>\n",
              "      <td>0.045</td>\n",
              "      <td>0.018</td>\n",
              "      <td>0.014</td>\n",
              "      <td>1.140e-02</td>\n",
              "      <td>9.550e-03</td>\n",
              "      <td>0.009</td>\n",
              "      <td>7.500e-03</td>\n",
              "      <td>6.850e-03</td>\n",
              "      <td>5.950e-03</td>\n",
              "      <td>5.800e-03</td>\n",
              "      <td>6.400e-03</td>\n",
              "      <td>5.300e-03</td>\n",
              "    </tr>\n",
              "    <tr>\n",
              "      <th>75%</th>\n",
              "      <td>0.036</td>\n",
              "      <td>4.795e-02</td>\n",
              "      <td>0.058</td>\n",
              "      <td>0.065</td>\n",
              "      <td>0.100</td>\n",
              "      <td>0.134</td>\n",
              "      <td>0.154</td>\n",
              "      <td>0.170</td>\n",
              "      <td>0.233</td>\n",
              "      <td>0.269</td>\n",
              "      <td>0.302</td>\n",
              "      <td>0.331</td>\n",
              "      <td>0.351</td>\n",
              "      <td>0.386</td>\n",
              "      <td>0.453</td>\n",
              "      <td>0.536</td>\n",
              "      <td>0.659</td>\n",
              "      <td>0.679</td>\n",
              "      <td>0.731</td>\n",
              "      <td>0.809</td>\n",
              "      <td>0.817</td>\n",
              "      <td>0.832</td>\n",
              "      <td>0.849</td>\n",
              "      <td>0.872</td>\n",
              "      <td>0.874</td>\n",
              "      <td>0.894</td>\n",
              "      <td>0.917</td>\n",
              "      <td>0.900</td>\n",
              "      <td>0.852</td>\n",
              "      <td>0.735</td>\n",
              "      <td>0.642</td>\n",
              "      <td>0.580</td>\n",
              "      <td>0.556</td>\n",
              "      <td>0.596</td>\n",
              "      <td>0.593</td>\n",
              "      <td>0.557</td>\n",
              "      <td>0.519</td>\n",
              "      <td>0.441</td>\n",
              "      <td>0.435</td>\n",
              "      <td>0.424</td>\n",
              "      <td>0.388</td>\n",
              "      <td>0.384</td>\n",
              "      <td>0.325</td>\n",
              "      <td>0.272</td>\n",
              "      <td>0.232</td>\n",
              "      <td>0.200</td>\n",
              "      <td>0.154</td>\n",
              "      <td>0.120</td>\n",
              "      <td>0.069</td>\n",
              "      <td>0.025</td>\n",
              "      <td>0.021</td>\n",
              "      <td>1.673e-02</td>\n",
              "      <td>1.490e-02</td>\n",
              "      <td>0.015</td>\n",
              "      <td>1.210e-02</td>\n",
              "      <td>1.058e-02</td>\n",
              "      <td>1.043e-02</td>\n",
              "      <td>1.035e-02</td>\n",
              "      <td>1.033e-02</td>\n",
              "      <td>8.525e-03</td>\n",
              "    </tr>\n",
              "    <tr>\n",
              "      <th>max</th>\n",
              "      <td>0.137</td>\n",
              "      <td>2.339e-01</td>\n",
              "      <td>0.306</td>\n",
              "      <td>0.426</td>\n",
              "      <td>0.401</td>\n",
              "      <td>0.382</td>\n",
              "      <td>0.373</td>\n",
              "      <td>0.459</td>\n",
              "      <td>0.683</td>\n",
              "      <td>0.711</td>\n",
              "      <td>0.734</td>\n",
              "      <td>0.706</td>\n",
              "      <td>0.713</td>\n",
              "      <td>0.997</td>\n",
              "      <td>1.000</td>\n",
              "      <td>0.999</td>\n",
              "      <td>1.000</td>\n",
              "      <td>1.000</td>\n",
              "      <td>1.000</td>\n",
              "      <td>1.000</td>\n",
              "      <td>1.000</td>\n",
              "      <td>1.000</td>\n",
              "      <td>1.000</td>\n",
              "      <td>1.000</td>\n",
              "      <td>1.000</td>\n",
              "      <td>1.000</td>\n",
              "      <td>1.000</td>\n",
              "      <td>1.000</td>\n",
              "      <td>1.000</td>\n",
              "      <td>1.000</td>\n",
              "      <td>0.966</td>\n",
              "      <td>0.931</td>\n",
              "      <td>1.000</td>\n",
              "      <td>0.965</td>\n",
              "      <td>1.000</td>\n",
              "      <td>1.000</td>\n",
              "      <td>0.950</td>\n",
              "      <td>1.000</td>\n",
              "      <td>0.986</td>\n",
              "      <td>0.930</td>\n",
              "      <td>0.899</td>\n",
              "      <td>0.825</td>\n",
              "      <td>0.773</td>\n",
              "      <td>0.776</td>\n",
              "      <td>0.703</td>\n",
              "      <td>0.729</td>\n",
              "      <td>0.552</td>\n",
              "      <td>0.334</td>\n",
              "      <td>0.198</td>\n",
              "      <td>0.083</td>\n",
              "      <td>0.100</td>\n",
              "      <td>7.090e-02</td>\n",
              "      <td>3.900e-02</td>\n",
              "      <td>0.035</td>\n",
              "      <td>4.470e-02</td>\n",
              "      <td>3.940e-02</td>\n",
              "      <td>3.550e-02</td>\n",
              "      <td>4.400e-02</td>\n",
              "      <td>3.640e-02</td>\n",
              "      <td>4.390e-02</td>\n",
              "    </tr>\n",
              "  </tbody>\n",
              "</table>\n",
              "</div>"
            ],
            "text/plain": [
              "            0          1        2   ...         57         58         59\n",
              "count  208.000  2.080e+02  208.000  ...  2.080e+02  2.080e+02  2.080e+02\n",
              "mean     0.029  3.844e-02    0.044  ...  7.949e-03  7.941e-03  6.507e-03\n",
              "std      0.023  3.296e-02    0.038  ...  6.470e-03  6.181e-03  5.031e-03\n",
              "min      0.002  6.000e-04    0.002  ...  3.000e-04  1.000e-04  6.000e-04\n",
              "25%      0.013  1.645e-02    0.019  ...  3.600e-03  3.675e-03  3.100e-03\n",
              "50%      0.023  3.080e-02    0.034  ...  5.800e-03  6.400e-03  5.300e-03\n",
              "75%      0.036  4.795e-02    0.058  ...  1.035e-02  1.033e-02  8.525e-03\n",
              "max      0.137  2.339e-01    0.306  ...  4.400e-02  3.640e-02  4.390e-02\n",
              "\n",
              "[8 rows x 60 columns]"
            ]
          },
          "metadata": {
            "tags": []
          },
          "execution_count": 7
        }
      ]
    },
    {
      "cell_type": "code",
      "metadata": {
        "id": "yh_JlyUmAi4I",
        "colab_type": "code",
        "colab": {
          "base_uri": "https://localhost:8080/",
          "height": 0
        },
        "outputId": "037ce463-4680-41b6-92bd-78602b882f09"
      },
      "source": [
        "# class distribution \n",
        "dataset.groupby(60).size()"
      ],
      "execution_count": 8,
      "outputs": [
        {
          "output_type": "execute_result",
          "data": {
            "text/plain": [
              "60\n",
              "M    111\n",
              "R     97\n",
              "dtype: int64"
            ]
          },
          "metadata": {
            "tags": []
          },
          "execution_count": 8
        }
      ]
    },
    {
      "cell_type": "markdown",
      "metadata": {
        "id": "ZgkT9Wk4Hcqo",
        "colab_type": "text"
      },
      "source": [
        "# Visualizations"
      ]
    },
    {
      "cell_type": "markdown",
      "metadata": {
        "id": "b2Kq_H2pHZqz",
        "colab_type": "text"
      },
      "source": [
        "Unimodal Data Visualizations"
      ]
    },
    {
      "cell_type": "code",
      "metadata": {
        "id": "RV9zaTtOBLhC",
        "colab_type": "code",
        "colab": {
          "base_uri": "https://localhost:8080/",
          "height": 762
        },
        "outputId": "b669cc6e-5bc8-461b-c9fd-65c8ea569596"
      },
      "source": [
        "# histograms \n",
        "dataset.hist(sharex=False, sharey=False, xlabelsize=1, ylabelsize=1, figsize=(13,13))\n",
        "plt.show()"
      ],
      "execution_count": 9,
      "outputs": [
        {
          "output_type": "display_data",
          "data": {
            "image/png": "[encoded data removed]",
            "text/plain": [
              "<Figure size 936x936 with 64 Axes>"
            ]
          },
          "metadata": {
            "tags": [],
            "needs_background": "light"
          }
        }
      ]
    },
    {
      "cell_type": "markdown",
      "metadata": {
        "id": "bzP4hUjOIRaX",
        "colab_type": "text"
      },
      "source": [
        "We can see that there are a lot of Gaussian-like distributions and perhaps some exponentiallike distributions for other attribute"
      ]
    },
    {
      "cell_type": "code",
      "metadata": {
        "id": "5IME0CEJHswc",
        "colab_type": "code",
        "colab": {
          "base_uri": "https://localhost:8080/",
          "height": 583
        },
        "outputId": "4066589a-69b1-4cee-a68f-dae7b51a86e1"
      },
      "source": [
        "# Let’s take a look at the same perspective of the data using density plots.\n",
        "dataset.plot(kind='density', subplots=True, layout=(8,8), sharex=False, legend=False, fontsize=1, figsize=(10,10))\n",
        "plt.show()"
      ],
      "execution_count": 10,
      "outputs": [
        {
          "output_type": "display_data",
          "data": {
            "image/png": "[encoded data removed]",
            "text/plain": [
              "<Figure size 720x720 with 64 Axes>"
            ]
          },
          "metadata": {
            "tags": [],
            "needs_background": "light"
          }
        }
      ]
    },
    {
      "cell_type": "markdown",
      "metadata": {
        "id": "g9Vo6t8gIzBJ",
        "colab_type": "text"
      },
      "source": [
        "This is useful, you can see that many of the attributes have a skewed distribution. A power transform like a Box-Cox transform that can correct for the skew in distributions might be useful."
      ]
    },
    {
      "cell_type": "markdown",
      "metadata": {
        "id": "azy1SfKbJZfq",
        "colab_type": "text"
      },
      "source": [
        "Multimodal Data Visualizations"
      ]
    },
    {
      "cell_type": "code",
      "metadata": {
        "id": "uKmVVtDCIZsg",
        "colab_type": "code",
        "colab": {
          "base_uri": "https://localhost:8080/",
          "height": 271
        },
        "outputId": "eb9670c9-6e5e-438e-9733-0bc86082b39f"
      },
      "source": [
        "# correlation matrix \n",
        "fig = plt.figure() \n",
        "ax = fig.add_subplot(111) \n",
        "cax = ax.matshow(dataset.corr(), vmin=-1, vmax=1, interpolation='none') \n",
        "fig.colorbar(cax) \n",
        "plt.show()"
      ],
      "execution_count": 11,
      "outputs": [
        {
          "output_type": "display_data",
          "data": {
            "image/png": "[encoded data removed]",
            "text/plain": [
              "<Figure size 432x288 with 2 Axes>"
            ]
          },
          "metadata": {
            "tags": [],
            "needs_background": "light"
          }
        }
      ]
    },
    {
      "cell_type": "markdown",
      "metadata": {
        "id": "hAyjXs_OO14l",
        "colab_type": "text"
      },
      "source": [
        "# Splitting the Dataset"
      ]
    },
    {
      "cell_type": "code",
      "metadata": {
        "id": "eSh_CxfYI7T8",
        "colab_type": "code",
        "colab": {}
      },
      "source": [
        "# Split-out validation dataset \n",
        "array = dataset.values \n",
        "X = array[:,0:60].astype(float) \n",
        "Y = array[:,60] \n",
        "validation_size = 0.20 \n",
        "X_train, X_validation, Y_train, Y_validation = train_test_split(X, Y, test_size=validation_size)"
      ],
      "execution_count": 0,
      "outputs": []
    },
    {
      "cell_type": "markdown",
      "metadata": {
        "id": "-WwSsQwTPLA6",
        "colab_type": "text"
      },
      "source": [
        "# Evaluate Algorithms: Baseline"
      ]
    },
    {
      "cell_type": "code",
      "metadata": {
        "id": "E-mzg9fWPFiH",
        "colab_type": "code",
        "colab": {}
      },
      "source": [
        "# Test options and evaluation metric \n",
        "num_folds = 10 \n",
        "seed = 7 \n",
        "scoring = 'accuracy'"
      ],
      "execution_count": 0,
      "outputs": []
    },
    {
      "cell_type": "code",
      "metadata": {
        "id": "j_ukM-OvPVuH",
        "colab_type": "code",
        "colab": {}
      },
      "source": [
        "# Spot-Check Algorithms \n",
        "models = [] \n",
        "models.append(('LR', LogisticRegression(max_iter = 250))) \n",
        "models.append(('LDA', LinearDiscriminantAnalysis())) \n",
        "models.append(('KNN', KNeighborsClassifier())) \n",
        "models.append(('CART', DecisionTreeClassifier())) \n",
        "models.append(('NB', GaussianNB())) \n",
        "models.append(('SVM', SVC()))"
      ],
      "execution_count": 0,
      "outputs": []
    },
    {
      "cell_type": "code",
      "metadata": {
        "id": "SrriarBVPjko",
        "colab_type": "code",
        "colab": {
          "base_uri": "https://localhost:8080/",
          "height": 124
        },
        "outputId": "431ea99f-15d3-4c80-89d5-737150bb1c37"
      },
      "source": [
        "results = [] \n",
        "names = [] \n",
        "msg = []\n",
        "for name, model in models: \n",
        "  kfold = KFold(n_splits=num_folds) \n",
        "  cv_results = cross_val_score(model, X_train, Y_train, cv=kfold, scoring=scoring)\n",
        "  results.append(cv_results) \n",
        "  names.append(name) \n",
        "  msg.append([name, cv_results.mean(), cv_results.std()])\n",
        "msg"
      ],
      "execution_count": 15,
      "outputs": [
        {
          "output_type": "execute_result",
          "data": {
            "text/plain": [
              "[['LR', 0.7650735294117647, 0.0936807702864002],\n",
              " ['LDA', 0.6915441176470589, 0.10013844763012668],\n",
              " ['KNN', 0.7584558823529411, 0.11214199572810514],\n",
              " ['CART', 0.7165441176470588, 0.11991664221998079],\n",
              " ['NB', 0.66875, 0.0867436726749274],\n",
              " ['SVM', 0.7955882352941177, 0.059240251851645304]]"
            ]
          },
          "metadata": {
            "tags": []
          },
          "execution_count": 15
        }
      ]
    },
    {
      "cell_type": "code",
      "metadata": {
        "id": "oa98TtTQP3Sw",
        "colab_type": "code",
        "colab": {
          "base_uri": "https://localhost:8080/",
          "height": 294
        },
        "outputId": "5bc6e88f-e8a6-4aae-b834-1bb0b32bd0a2"
      },
      "source": [
        "# Compare Algorithms \n",
        "fig = plt.figure() \n",
        "fig.suptitle('Algorithm Comparison') \n",
        "ax = fig.add_subplot(111) \n",
        "plt.boxplot(results) \n",
        "ax.set_xticklabels(names) \n",
        "plt.show()"
      ],
      "execution_count": 16,
      "outputs": [
        {
          "output_type": "display_data",
          "data": {
            "image/png": "[encoded data removed]",
            "text/plain": [
              "<Figure size 432x288 with 1 Axes>"
            ]
          },
          "metadata": {
            "tags": [],
            "needs_background": "light"
          }
        }
      ]
    },
    {
      "cell_type": "markdown",
      "metadata": {
        "id": "Zl8EiKbZSftF",
        "colab_type": "text"
      },
      "source": [
        "# Evaluate Algorithms: Standardize Data"
      ]
    },
    {
      "cell_type": "code",
      "metadata": {
        "id": "NTeiJCaUR-cB",
        "colab_type": "code",
        "colab": {}
      },
      "source": [
        "pipelines = [] \n",
        "pipelines.append(('ScaledLR', Pipeline([('Scaler', StandardScaler()),('LR', LogisticRegression())]))) \n",
        "pipelines.append(('ScaledLDA', Pipeline([('Scaler', StandardScaler()),('LDA', LinearDiscriminantAnalysis())])))\n",
        "pipelines.append(('ScaledKNN', Pipeline([('Scaler', StandardScaler()),('KNN', KNeighborsClassifier())]))) \n",
        "pipelines.append(('ScaledCART', Pipeline([('Scaler', StandardScaler()),('CART', DecisionTreeClassifier())]))) \n",
        "pipelines.append(('ScaledNB', Pipeline([('Scaler', StandardScaler()),('NB', GaussianNB())]))) \n",
        "pipelines.append(('ScaledSVM', Pipeline([('Scaler', StandardScaler()),('SVM', SVC())])))"
      ],
      "execution_count": 0,
      "outputs": []
    },
    {
      "cell_type": "code",
      "metadata": {
        "id": "J3LrDypNSt8d",
        "colab_type": "code",
        "colab": {
          "base_uri": "https://localhost:8080/",
          "height": 124
        },
        "outputId": "b80eff12-e9f6-40e6-cdfa-c6bfa99d6aeb"
      },
      "source": [
        "results = [] \n",
        "names = [] \n",
        "msg = []\n",
        "for name, model in pipelines: \n",
        "  kfold = KFold(n_splits=num_folds) \n",
        "  cv_results = cross_val_score(model, X_train, Y_train, cv=kfold, scoring=scoring) \n",
        "  results.append(cv_results) \n",
        "  names.append(name) \n",
        "  msg.append([name, cv_results.mean(), cv_results.std()])\n",
        "msg"
      ],
      "execution_count": 18,
      "outputs": [
        {
          "output_type": "execute_result",
          "data": {
            "text/plain": [
              "[['ScaledLR', 0.7779411764705882, 0.10006755935859611],\n",
              " ['ScaledLDA', 0.6915441176470589, 0.10013844763012668],\n",
              " ['ScaledKNN', 0.7768382352941176, 0.09619504790000588],\n",
              " ['ScaledCART', 0.7165441176470588, 0.08480542685391913],\n",
              " ['ScaledNB', 0.66875, 0.0867436726749274],\n",
              " ['ScaledSVM', 0.8330882352941176, 0.09717573173056245]]"
            ]
          },
          "metadata": {
            "tags": []
          },
          "execution_count": 18
        }
      ]
    },
    {
      "cell_type": "code",
      "metadata": {
        "id": "_jc0V7zES8uR",
        "colab_type": "code",
        "colab": {
          "base_uri": "https://localhost:8080/",
          "height": 294
        },
        "outputId": "aca04cda-4bbc-411d-d0f5-70590bdcefc0"
      },
      "source": [
        "# Again, we should plot the distribution of the accuracy scores using box and whisker plots.\n",
        "# Compare Algorithms \n",
        "fig = plt.figure() \n",
        "fig.suptitle('Scaled Algorithm Comparison') \n",
        "ax = fig.add_subplot(111) \n",
        "plt.boxplot(results) \n",
        "ax.set_xticklabels(names) \n",
        "plt.show()"
      ],
      "execution_count": 19,
      "outputs": [
        {
          "output_type": "display_data",
          "data": {
            "image/png": "[encoded data removed]",
            "text/plain": [
              "<Figure size 432x288 with 1 Axes>"
            ]
          },
          "metadata": {
            "tags": [],
            "needs_background": "light"
          }
        }
      ]
    },
    {
      "cell_type": "markdown",
      "metadata": {
        "id": "dtFoqbazZqio",
        "colab_type": "text"
      },
      "source": [
        "# Algorithm Tunning"
      ]
    },
    {
      "cell_type": "markdown",
      "metadata": {
        "id": "5Pa3uNawZuHG",
        "colab_type": "text"
      },
      "source": [
        "Tuning KNN"
      ]
    },
    {
      "cell_type": "code",
      "metadata": {
        "id": "0e5vlOn6TWCB",
        "colab_type": "code",
        "colab": {
          "base_uri": "https://localhost:8080/",
          "height": 90
        },
        "outputId": "4d9e981f-8bc5-42e6-b9f9-8a2021026a79"
      },
      "source": [
        "# Tune scaled KNN \n",
        "scaler = StandardScaler().fit(X_train) \n",
        "rescaledX = scaler.transform(X_train) \n",
        "neighbors = [1,3,5,7,9,11,13,15,17,19,21] \n",
        "param_grid = dict(n_neighbors=neighbors) \n",
        "model = KNeighborsClassifier() \n",
        "kfold = KFold(n_splits=num_folds, random_state=seed) \n",
        "grid = GridSearchCV(estimator=model, param_grid=param_grid, scoring=scoring, cv=kfold) \n",
        "grid_result = grid.fit(rescaledX, Y_train)\n",
        "grid_result.best_score_, grid_result.best_params_"
      ],
      "execution_count": 20,
      "outputs": [
        {
          "output_type": "stream",
          "text": [
            "/usr/local/lib/python3.6/dist-packages/sklearn/model_selection/_split.py:296: FutureWarning: Setting a random_state has no effect since shuffle is False. This will raise an error in 0.24. You should leave random_state to its default (None), or set shuffle=True.\n",
            "  FutureWarning\n"
          ],
          "name": "stderr"
        },
        {
          "output_type": "execute_result",
          "data": {
            "text/plain": [
              "(0.8492647058823529, {'n_neighbors': 1})"
            ]
          },
          "metadata": {
            "tags": []
          },
          "execution_count": 20
        }
      ]
    },
    {
      "cell_type": "code",
      "metadata": {
        "id": "eNCXTU3wZ7kK",
        "colab_type": "code",
        "colab": {
          "base_uri": "https://localhost:8080/",
          "height": 212
        },
        "outputId": "32751b5c-33d3-4c37-be28-7649d83ad29c"
      },
      "source": [
        "means = grid_result.cv_results_['mean_test_score'] \n",
        "stds = grid_result.cv_results_['std_test_score'] \n",
        "params = grid_result.cv_results_['params'] \n",
        "msg = []\n",
        "for mean, stdev, param in zip(means, stds, params): \n",
        "  msg.append([mean, stdev, param])\n",
        "msg"
      ],
      "execution_count": 21,
      "outputs": [
        {
          "output_type": "execute_result",
          "data": {
            "text/plain": [
              "[[0.8492647058823529, 0.0847344722993408, {'n_neighbors': 1}],\n",
              " [0.8007352941176471, 0.0725448793201211, {'n_neighbors': 3}],\n",
              " [0.7772058823529411, 0.08633367512279093, {'n_neighbors': 5}],\n",
              " [0.7591911764705882, 0.1147889263871183, {'n_neighbors': 7}],\n",
              " [0.7408088235294118, 0.11554007097855748, {'n_neighbors': 9}],\n",
              " [0.7283088235294117, 0.10476909133900131, {'n_neighbors': 11}],\n",
              " [0.6981617647058823, 0.10454954145115634, {'n_neighbors': 13}],\n",
              " [0.6930147058823529, 0.07586813734833536, {'n_neighbors': 15}],\n",
              " [0.711764705882353, 0.08508785913176035, {'n_neighbors': 17}],\n",
              " [0.6992647058823529, 0.08418716276073461, {'n_neighbors': 19}],\n",
              " [0.6941176470588235, 0.07230225986791089, {'n_neighbors': 21}]]"
            ]
          },
          "metadata": {
            "tags": []
          },
          "execution_count": 21
        }
      ]
    },
    {
      "cell_type": "markdown",
      "metadata": {
        "id": "MwxhyjrHdrpu",
        "colab_type": "text"
      },
      "source": [
        "Tuning SVM"
      ]
    },
    {
      "cell_type": "code",
      "metadata": {
        "id": "V1zhOOd4Z_BR",
        "colab_type": "code",
        "colab": {
          "base_uri": "https://localhost:8080/",
          "height": 90
        },
        "outputId": "f0b90703-b4f3-478b-d91a-d4cf131ba6ae"
      },
      "source": [
        "# Tune scaled SVM \n",
        "scaler = StandardScaler().fit(X_train) \n",
        "rescaledX = scaler.transform(X_train) \n",
        "c_values = [0.1, 0.3, 0.5, 0.7, 0.9, 1.0, 1.3, 1.5, 1.7, 2.0] \n",
        "kernel_values = ['linear', 'poly', 'rbf', 'sigmoid'] \n",
        "param_grid = dict(C=c_values, kernel=kernel_values) \n",
        "model = SVC() \n",
        "kfold = KFold(n_splits=num_folds, random_state=seed) \n",
        "grid = GridSearchCV(estimator=model, param_grid=param_grid, scoring=scoring, cv=kfold) \n",
        "grid_result = grid.fit(rescaledX, Y_train)\n",
        "grid_result.best_score_, grid_result.best_params_"
      ],
      "execution_count": 22,
      "outputs": [
        {
          "output_type": "stream",
          "text": [
            "/usr/local/lib/python3.6/dist-packages/sklearn/model_selection/_split.py:296: FutureWarning: Setting a random_state has no effect since shuffle is False. This will raise an error in 0.24. You should leave random_state to its default (None), or set shuffle=True.\n",
            "  FutureWarning\n"
          ],
          "name": "stderr"
        },
        {
          "output_type": "execute_result",
          "data": {
            "text/plain": [
              "(0.8628676470588236, {'C': 1.5, 'kernel': 'rbf'})"
            ]
          },
          "metadata": {
            "tags": []
          },
          "execution_count": 22
        }
      ]
    },
    {
      "cell_type": "code",
      "metadata": {
        "id": "lXOYeAtUd7wC",
        "colab_type": "code",
        "colab": {
          "base_uri": "https://localhost:8080/",
          "height": 728
        },
        "outputId": "1d54e90f-66d3-4c09-9d1a-ea075ca1c9be"
      },
      "source": [
        "means = grid_result.cv_results_['mean_test_score'] \n",
        "stds = grid_result.cv_results_['std_test_score'] \n",
        "params = grid_result.cv_results_['params'] \n",
        "msg = []\n",
        "for mean, stdev, param in zip(means, stds, params):\n",
        "  msg.append([mean, stdev, param])\n",
        "msg"
      ],
      "execution_count": 23,
      "outputs": [
        {
          "output_type": "execute_result",
          "data": {
            "text/plain": [
              "[[0.7897058823529411, 0.07109575515728123, {'C': 0.1, 'kernel': 'linear'}],\n",
              " [0.5106617647058823, 0.0869460032589133, {'C': 0.1, 'kernel': 'poly'}],\n",
              " [0.5746323529411764, 0.1572829180369832, {'C': 0.1, 'kernel': 'rbf'}],\n",
              " [0.7040441176470588, 0.06007964905110384, {'C': 0.1, 'kernel': 'sigmoid'}],\n",
              " [0.7963235294117647, 0.06368258359463123, {'C': 0.3, 'kernel': 'linear'}],\n",
              " [0.6389705882352941, 0.11812632159968108, {'C': 0.3, 'kernel': 'poly'}],\n",
              " [0.7540441176470589, 0.06953196378565235, {'C': 0.3, 'kernel': 'rbf'}],\n",
              " [0.7286764705882354, 0.06262530691137523, {'C': 0.3, 'kernel': 'sigmoid'}],\n",
              " [0.742279411764706, 0.07576473585357461, {'C': 0.5, 'kernel': 'linear'}],\n",
              " [0.6926470588235294, 0.10217942950099489, {'C': 0.5, 'kernel': 'poly'}],\n",
              " [0.7720588235294118, 0.08576505386034464, {'C': 0.5, 'kernel': 'rbf'}],\n",
              " [0.7775735294117647, 0.08441884193533113, {'C': 0.5, 'kernel': 'sigmoid'}],\n",
              " [0.7058823529411764, 0.08729585676878679, {'C': 0.7, 'kernel': 'linear'}],\n",
              " [0.7830882352941175, 0.060186417440238595, {'C': 0.7, 'kernel': 'poly'}],\n",
              " [0.7963235294117647, 0.08720600634848835, {'C': 0.7, 'kernel': 'rbf'}],\n",
              " [0.7540441176470589, 0.08472569850930277, {'C': 0.7, 'kernel': 'sigmoid'}],\n",
              " [0.7235294117647059, 0.11029166663943293, {'C': 0.9, 'kernel': 'linear'}],\n",
              " [0.7834558823529412, 0.08010066790152186, {'C': 0.9, 'kernel': 'poly'}],\n",
              " [0.8084558823529411, 0.07188322692498429, {'C': 0.9, 'kernel': 'rbf'}],\n",
              " [0.7720588235294118, 0.09020473637048011, {'C': 0.9, 'kernel': 'sigmoid'}],\n",
              " [0.7235294117647059, 0.11029166663943293, {'C': 1.0, 'kernel': 'linear'}],\n",
              " [0.8080882352941178, 0.10513420324538308, {'C': 1.0, 'kernel': 'poly'}],\n",
              " [0.838970588235294, 0.09087354802198387, {'C': 1.0, 'kernel': 'rbf'}],\n",
              " [0.7661764705882353, 0.08805434878017293, {'C': 1.0, 'kernel': 'sigmoid'}],\n",
              " [0.7058823529411764, 0.11323290677391704, {'C': 1.3, 'kernel': 'linear'}],\n",
              " [0.8198529411764707, 0.09592700151353195, {'C': 1.3, 'kernel': 'poly'}],\n",
              " [0.8569852941176471, 0.07903043657252752, {'C': 1.3, 'kernel': 'rbf'}],\n",
              " [0.7540441176470589, 0.07553245968057655, {'C': 1.3, 'kernel': 'sigmoid'}],\n",
              " [0.7294117647058824, 0.1043262906150449, {'C': 1.5, 'kernel': 'linear'}],\n",
              " [0.8198529411764707, 0.09592700151353195, {'C': 1.5, 'kernel': 'poly'}],\n",
              " [0.8628676470588236, 0.07850878915158765, {'C': 1.5, 'kernel': 'rbf'}],\n",
              " [0.7544117647058824, 0.07405693124714217, {'C': 1.5, 'kernel': 'sigmoid'}],\n",
              " [0.7294117647058824, 0.1043262906150449, {'C': 1.7, 'kernel': 'linear'}],\n",
              " [0.8194852941176471, 0.0963971709964798, {'C': 1.7, 'kernel': 'poly'}],\n",
              " [0.8628676470588236, 0.08687757489151701, {'C': 1.7, 'kernel': 'rbf'}],\n",
              " [0.7536764705882353, 0.059098621462970916, {'C': 1.7, 'kernel': 'sigmoid'}],\n",
              " [0.7415441176470589, 0.10034879159236766, {'C': 2.0, 'kernel': 'linear'}],\n",
              " [0.8308823529411764, 0.10316414927435659, {'C': 2.0, 'kernel': 'poly'}],\n",
              " [0.8569852941176471, 0.09494196119108606, {'C': 2.0, 'kernel': 'rbf'}],\n",
              " [0.7477941176470588, 0.06061607013389689, {'C': 2.0, 'kernel': 'sigmoid'}]]"
            ]
          },
          "metadata": {
            "tags": []
          },
          "execution_count": 23
        }
      ]
    },
    {
      "cell_type": "markdown",
      "metadata": {
        "id": "0fQ0mrITgWfc",
        "colab_type": "text"
      },
      "source": [
        "# Ensemble Methods"
      ]
    },
    {
      "cell_type": "code",
      "metadata": {
        "id": "c8EWuCY8eLOO",
        "colab_type": "code",
        "colab": {
          "base_uri": "https://localhost:8080/",
          "height": 88
        },
        "outputId": "28be540a-3575-4790-d451-22aee55d4d31"
      },
      "source": [
        "# ensembles \n",
        "ensembles = [] \n",
        "ensembles.append(('AB', AdaBoostClassifier())) \n",
        "ensembles.append(('GBM', GradientBoostingClassifier())) \n",
        "ensembles.append(('RF', RandomForestClassifier())) \n",
        "ensembles.append(('ET', ExtraTreesClassifier())) \n",
        "results = [] \n",
        "names = [] \n",
        "msg = []\n",
        "for name, model in ensembles: \n",
        "  kfold = KFold(n_splits=num_folds) \n",
        "  cv_results = cross_val_score(model, X_train, Y_train, cv=kfold, scoring=scoring) \n",
        "  results.append(cv_results) \n",
        "  names.append(name) \n",
        "  msg.append([name, cv_results.mean(), cv_results.std()])\n",
        "msg"
      ],
      "execution_count": 24,
      "outputs": [
        {
          "output_type": "execute_result",
          "data": {
            "text/plain": [
              "[['AB', 0.7952205882352941, 0.05539283467397199],\n",
              " ['GBM', 0.8069852941176471, 0.09741259612638933],\n",
              " ['RF', 0.8077205882352942, 0.07482408001323497],\n",
              " ['ET', 0.8676470588235293, 0.06883939610969436]]"
            ]
          },
          "metadata": {
            "tags": []
          },
          "execution_count": 24
        }
      ]
    },
    {
      "cell_type": "code",
      "metadata": {
        "id": "NTTTimYWgraH",
        "colab_type": "code",
        "colab": {
          "base_uri": "https://localhost:8080/",
          "height": 294
        },
        "outputId": "3d02dc78-e1e1-433a-bb34-e18feed6e6f9"
      },
      "source": [
        "# Compare Algorithms \n",
        "fig = plt.figure() \n",
        "fig.suptitle('Ensemble Algorithm Comparison') \n",
        "ax = fig.add_subplot(111) \n",
        "plt.boxplot(results) \n",
        "ax.set_xticklabels(names) \n",
        "plt.show()"
      ],
      "execution_count": 25,
      "outputs": [
        {
          "output_type": "display_data",
          "data": {
            "image/png": "[encoded data removed]",
            "text/plain": [
              "<Figure size 432x288 with 1 Axes>"
            ]
          },
          "metadata": {
            "tags": [],
            "needs_background": "light"
          }
        }
      ]
    },
    {
      "cell_type": "markdown",
      "metadata": {
        "id": "oA-oeq-Nj5Mn",
        "colab_type": "text"
      },
      "source": [
        "# Finalizing the model"
      ]
    },
    {
      "cell_type": "code",
      "metadata": {
        "id": "BM9mvXuEj4ko",
        "colab_type": "code",
        "colab": {}
      },
      "source": [
        "# prepare the model \n",
        "scaler = StandardScaler().fit(X_train) \n",
        "rescaledX = scaler.transform(X_train) \n",
        "model = SVC(C=1.5) \n",
        "model.fit(rescaledX, Y_train) \n",
        "# estimate accuracy on validation dataset \n",
        "rescaledValidationX = scaler.transform(X_validation) \n",
        "predictions = model.predict(rescaledValidationX) "
      ],
      "execution_count": 0,
      "outputs": []
    },
    {
      "cell_type": "code",
      "metadata": {
        "id": "DKuqRP8Bi7S5",
        "colab_type": "code",
        "colab": {
          "base_uri": "https://localhost:8080/",
          "height": 35
        },
        "outputId": "1c1be62d-ca67-49b0-daf7-007c3195c094"
      },
      "source": [
        "accuracy_score(Y_validation, predictions)"
      ],
      "execution_count": 27,
      "outputs": [
        {
          "output_type": "execute_result",
          "data": {
            "text/plain": [
              "0.8333333333333334"
            ]
          },
          "metadata": {
            "tags": []
          },
          "execution_count": 27
        }
      ]
    },
    {
      "cell_type": "code",
      "metadata": {
        "id": "havll5x7kKGM",
        "colab_type": "code",
        "colab": {
          "base_uri": "https://localhost:8080/",
          "height": 52
        },
        "outputId": "e585ba81-f3ef-4111-d6df-c98ce1a32e2c"
      },
      "source": [
        "confusion_matrix(Y_validation, predictions)"
      ],
      "execution_count": 28,
      "outputs": [
        {
          "output_type": "execute_result",
          "data": {
            "text/plain": [
              "array([[19,  7],\n",
              "       [ 0, 16]])"
            ]
          },
          "metadata": {
            "tags": []
          },
          "execution_count": 28
        }
      ]
    },
    {
      "cell_type": "code",
      "metadata": {
        "id": "BPyH3s5KkQcd",
        "colab_type": "code",
        "colab": {
          "base_uri": "https://localhost:8080/",
          "height": 177
        },
        "outputId": "0370a9b5-1181-444d-f65c-13e55b69379c"
      },
      "source": [
        "classification_report(Y_validation, predictions).split('\\n')"
      ],
      "execution_count": 29,
      "outputs": [
        {
          "output_type": "execute_result",
          "data": {
            "text/plain": [
              "['              precision    recall  f1-score   support',\n",
              " '',\n",
              " '           M       1.00      0.73      0.84        26',\n",
              " '           R       0.70      1.00      0.82        16',\n",
              " '',\n",
              " '    accuracy                           0.83        42',\n",
              " '   macro avg       0.85      0.87      0.83        42',\n",
              " 'weighted avg       0.88      0.83      0.84        42',\n",
              " '']"
            ]
          },
          "metadata": {
            "tags": []
          },
          "execution_count": 29
        }
      ]
    },
    {
      "cell_type": "code",
      "metadata": {
        "id": "JXKZ9xiwkTex",
        "colab_type": "code",
        "colab": {}
      },
      "source": [
        ""
      ],
      "execution_count": 0,
      "outputs": []
    }
  ]
}