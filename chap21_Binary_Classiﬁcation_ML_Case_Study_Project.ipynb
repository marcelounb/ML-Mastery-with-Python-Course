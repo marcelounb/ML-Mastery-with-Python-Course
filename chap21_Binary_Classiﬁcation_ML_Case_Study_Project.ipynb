{
  "nbformat": 4,
  "nbformat_minor": 0,
  "metadata": {
    "colab": {
      "name": "chap21_Binary Classiﬁcation ML Case Study Project.ipynb",
      "provenance": [],
      "authorship_tag": "ABX9TyPkbqZONmDr9Ebqv2pvwoFn",
      "include_colab_link": true
    },
    "kernelspec": {
      "name": "python3",
      "display_name": "Python 3"
    }
  },
  "cells": [
    {
      "cell_type": "markdown",
      "metadata": {
        "id": "view-in-github",
        "colab_type": "text"
      },
      "source": [
        "<a href=\"https://colab.research.google.com/github/marcelounb/ML-Mastery-with-Python-Course/blob/master/chap21_Binary_Classi%EF%AC%81cation_ML_Case_Study_Project.ipynb\" target=\"_parent\"><img src=\"https://colab.research.google.com/assets/colab-badge.svg\" alt=\"Open In Colab\"/></a>"
      ]
    },
    {
      "cell_type": "markdown",
      "metadata": {
        "id": "AuLaCiLOQsf1",
        "colab_type": "text"
      },
      "source": [
        "# Problem Deﬁnition\n",
        "The focus of this project will be the Sonar Mines vs Rocks dataset1. The problem is to predict metal or rock objects from sonar return data. Each pattern is a set of 60 numbers in the range 0.0 to 1.0. Each number represents the energy within a particular frequency band, integrated over a certain period of time. The label associated with each record contains the letter R if the object is a rock and M if it is a mine (metal cylinder). The numbers in the labels are in increasing order of aspect angle, but they do not encode the angle directly."
      ]
    },
    {
      "cell_type": "code",
      "metadata": {
        "id": "YHlPHQRlQZh_",
        "colab_type": "code",
        "colab": {}
      },
      "source": [
        "# Load libraries \n",
        "import numpy as np\n",
        "from matplotlib import pyplot as plt \n",
        "from pandas import read_csv \n",
        "from pandas import set_option \n",
        "from pandas.plotting import scatter_matrix \n",
        "from sklearn.preprocessing import StandardScaler \n",
        "from sklearn.model_selection import train_test_split \n",
        "from sklearn.model_selection import KFold \n",
        "from sklearn.model_selection import cross_val_score \n",
        "from sklearn.model_selection import GridSearchCV \n",
        "from sklearn.metrics import classification_report \n",
        "from sklearn.metrics import confusion_matrix \n",
        "from sklearn.metrics import accuracy_score \n",
        "from sklearn.pipeline import Pipeline \n",
        "from sklearn.linear_model import LogisticRegression \n",
        "from sklearn.tree import DecisionTreeClassifier \n",
        "from sklearn.neighbors import KNeighborsClassifier \n",
        "from sklearn.discriminant_analysis import LinearDiscriminantAnalysis \n",
        "from sklearn.naive_bayes import GaussianNB \n",
        "from sklearn.svm import SVC \n",
        "from sklearn.ensemble import AdaBoostClassifier \n",
        "from sklearn.ensemble import GradientBoostingClassifier \n",
        "from sklearn.ensemble import RandomForestClassifier \n",
        "from sklearn.ensemble import ExtraTreesClassifier"
      ],
      "execution_count": 0,
      "outputs": []
    },
    {
      "cell_type": "code",
      "metadata": {
        "id": "p4ZK230iRrIh",
        "colab_type": "code",
        "colab": {}
      },
      "source": [
        ""
      ],
      "execution_count": 0,
      "outputs": []
    }
  ]
}