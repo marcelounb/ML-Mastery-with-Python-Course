{
  "nbformat": 4,
  "nbformat_minor": 0,
  "metadata": {
    "colab": {
      "name": "chap12_Spot Check Regression Algorithms.ipynb",
      "provenance": [],
      "authorship_tag": "ABX9TyPYBlkCUO/LUTNubHVYW+uy",
      "include_colab_link": true
    },
    "kernelspec": {
      "name": "python3",
      "display_name": "Python 3"
    }
  },
  "cells": [
    {
      "cell_type": "markdown",
      "metadata": {
        "id": "view-in-github",
        "colab_type": "text"
      },
      "source": [
        "<a href=\"https://colab.research.google.com/github/marcelounb/ML-Mastery-with-Python-Course/blob/master/chap12_Spot_Check_Regression_Algorithms.ipynb\" target=\"_parent\"><img src=\"https://colab.research.google.com/assets/colab-badge.svg\" alt=\"Open In Colab\"/></a>"
      ]
    },
    {
      "cell_type": "markdown",
      "metadata": {
        "id": "had-_PouUWEn",
        "colab_type": "text"
      },
      "source": [
        "Spot-checking is a way of discovering which algorithms perform well on your machine learning problem. You cannot know which algorithms are best suited to your problem beforehand. You must trial a number of methods and focus attention on those that prove themselves the most promising."
      ]
    },
    {
      "cell_type": "markdown",
      "metadata": {
        "id": "3xOMTVAKUZWx",
        "colab_type": "text"
      },
      "source": [
        "# Algorithms Overview\n",
        "In this lesson we are going to take a look at seven regression algorithms that you can spot-check on your dataset. \n",
        "\n",
        "Starting with four linear machine learning algorithms:\n",
        "\n",
        "*   Linear Regression\n",
        "*   Ridge Regression\n",
        "*   LASSO Linear Regression\n",
        "*   Elastic Net Regression\n",
        "\n",
        "Then looking at three nonlinear machine learning algorithms:\n",
        "\n",
        "*   k-Nearest Neighbors\n",
        "*   Classiﬁcation and Regression Trees\n",
        "*   Support Vector Machines\n",
        "\n"
      ]
    },
    {
      "cell_type": "markdown",
      "metadata": {
        "id": "vudEnWg3WGj1",
        "colab_type": "text"
      },
      "source": [
        "Each recipe is demonstrated on the Boston House Price dataset. This is a regression problem where all attributes are numeric. A test harness with 10-fold cross validation is used to demonstrate how to spot-check each machine learning algorithm and mean squared error measures are used to indicate algorithm performance. Note that mean squared error values are inverted (negative). This is a quirk of the cross val score() function used that requires all algorithm metrics to be sorted in ascending order (larger value is better)"
      ]
    },
    {
      "cell_type": "markdown",
      "metadata": {
        "id": "7jZWciXuWPHB",
        "colab_type": "text"
      },
      "source": [
        "# Linear Machine Learning Algorithms"
      ]
    },
    {
      "cell_type": "code",
      "metadata": {
        "id": "qCyPk7csx-zC",
        "colab_type": "code",
        "colab": {}
      },
      "source": [
        "from pandas import read_csv \n",
        "from sklearn.model_selection import KFold \n",
        "from sklearn.model_selection import cross_val_score \n",
        "from sklearn.linear_model import LinearRegression \n",
        "from sklearn.linear_model import Ridge\n",
        "from sklearn.linear_model import Lasso\n",
        "from sklearn.linear_model import ElasticNet"
      ],
      "execution_count": 0,
      "outputs": []
    },
    {
      "cell_type": "code",
      "metadata": {
        "id": "gLvlCWr7yct4",
        "colab_type": "code",
        "colab": {
          "base_uri": "https://localhost:8080/",
          "height": 72
        },
        "outputId": "42942363-1b31-4b96-f9c5-56345c8a550b"
      },
      "source": [
        "filename = 'housing.csv' \n",
        "names = ['CRIM', 'ZN', 'INDUS', 'CHAS', 'NOX', 'RM', 'AGE', 'DIS', 'RAD', 'TAX', 'PTRATIO', 'B', 'LSTAT', 'MEDV'] \n",
        "dataframe = read_csv(filename, delim_whitespace=True, names=names) \n",
        "array = dataframe.values \n",
        "X = array[:,0:13] \n",
        "Y = array[:,13] \n",
        "kfold = KFold(n_splits=30, random_state=7) \n",
        "modelos = []"
      ],
      "execution_count": 2,
      "outputs": [
        {
          "output_type": "stream",
          "text": [
            "/usr/local/lib/python3.6/dist-packages/sklearn/model_selection/_split.py:296: FutureWarning: Setting a random_state has no effect since shuffle is False. This will raise an error in 0.24. You should leave random_state to its default (None), or set shuffle=True.\n",
            "  FutureWarning\n"
          ],
          "name": "stderr"
        }
      ]
    },
    {
      "cell_type": "markdown",
      "metadata": {
        "id": "zKT11EbVWR7H",
        "colab_type": "text"
      },
      "source": [
        " Linear Regression\n"
      ]
    },
    {
      "cell_type": "code",
      "metadata": {
        "id": "mmGSNGNSKewY",
        "colab_type": "code",
        "colab": {}
      },
      "source": [
        "model = LinearRegression() \n",
        "scoring = 'neg_mean_squared_error' \n",
        "results = cross_val_score(model, X, Y, cv=kfold, scoring=scoring)"
      ],
      "execution_count": 0,
      "outputs": []
    },
    {
      "cell_type": "code",
      "metadata": {
        "id": "6OD4Fxu8z8zt",
        "colab_type": "code",
        "colab": {
          "base_uri": "https://localhost:8080/",
          "height": 35
        },
        "outputId": "82808727-8bc6-44bc-b7ed-4493f2acee3e"
      },
      "source": [
        "modelos.append(['Linear Regression', results.mean()])\n",
        "results.mean()"
      ],
      "execution_count": 4,
      "outputs": [
        {
          "output_type": "execute_result",
          "data": {
            "text/plain": [
              "-30.734398351340932"
            ]
          },
          "metadata": {
            "tags": []
          },
          "execution_count": 4
        }
      ]
    },
    {
      "cell_type": "markdown",
      "metadata": {
        "id": "J3YKqkcu09jP",
        "colab_type": "text"
      },
      "source": [
        "Ridge Regression"
      ]
    },
    {
      "cell_type": "code",
      "metadata": {
        "id": "9LfbCFe81Fxf",
        "colab_type": "code",
        "colab": {}
      },
      "source": [
        "model = Ridge()\n",
        "scoring = 'neg_mean_squared_error'\n",
        "results = cross_val_score(model, X, Y, cv=kfold, scoring=scoring)"
      ],
      "execution_count": 0,
      "outputs": []
    },
    {
      "cell_type": "code",
      "metadata": {
        "id": "VJiGWVsE1ig1",
        "colab_type": "code",
        "colab": {
          "base_uri": "https://localhost:8080/",
          "height": 35
        },
        "outputId": "7c900026-320a-42b3-d215-a0d069b0f919"
      },
      "source": [
        "modelos.append(['Ridge', results.mean()])\n",
        "results.mean()"
      ],
      "execution_count": 6,
      "outputs": [
        {
          "output_type": "execute_result",
          "data": {
            "text/plain": [
              "-30.462475684757823"
            ]
          },
          "metadata": {
            "tags": []
          },
          "execution_count": 6
        }
      ]
    },
    {
      "cell_type": "markdown",
      "metadata": {
        "id": "RNfPeceq25BF",
        "colab_type": "text"
      },
      "source": [
        "LASSO Linear Regression"
      ]
    },
    {
      "cell_type": "code",
      "metadata": {
        "id": "vtuy7Top27-w",
        "colab_type": "code",
        "colab": {}
      },
      "source": [
        "model = Lasso()\n",
        "scoring = 'neg_mean_squared_error'\n",
        "results = cross_val_score(model, X, Y, cv=kfold, scoring=scoring)"
      ],
      "execution_count": 0,
      "outputs": []
    },
    {
      "cell_type": "code",
      "metadata": {
        "id": "gfSbdq2r2_PZ",
        "colab_type": "code",
        "colab": {
          "base_uri": "https://localhost:8080/",
          "height": 35
        },
        "outputId": "83b86c4c-8614-4050-87d5-61ed1f248ced"
      },
      "source": [
        "modelos.append(['Lasso', results.mean()])\n",
        "results.mean()"
      ],
      "execution_count": 8,
      "outputs": [
        {
          "output_type": "execute_result",
          "data": {
            "text/plain": [
              "-33.342725397610884"
            ]
          },
          "metadata": {
            "tags": []
          },
          "execution_count": 8
        }
      ]
    },
    {
      "cell_type": "markdown",
      "metadata": {
        "id": "VMYKAktG3PE3",
        "colab_type": "text"
      },
      "source": [
        "ElasticNet Regression"
      ]
    },
    {
      "cell_type": "code",
      "metadata": {
        "id": "NuB3nvYM3OL0",
        "colab_type": "code",
        "colab": {}
      },
      "source": [
        "model = ElasticNet()\n",
        "scoring = 'neg_mean_squared_error'\n",
        "results = cross_val_score(model, X, Y, cv=kfold, scoring=scoring)"
      ],
      "execution_count": 0,
      "outputs": []
    },
    {
      "cell_type": "code",
      "metadata": {
        "id": "_-UdXbMM3Wjy",
        "colab_type": "code",
        "colab": {
          "base_uri": "https://localhost:8080/",
          "height": 35
        },
        "outputId": "c718586a-8d71-488a-c9f8-2b2b6e6d56d2"
      },
      "source": [
        "modelos.append(['ElasticNet', results.mean()])\n",
        "results.mean()"
      ],
      "execution_count": 10,
      "outputs": [
        {
          "output_type": "execute_result",
          "data": {
            "text/plain": [
              "-31.21606919247604"
            ]
          },
          "metadata": {
            "tags": []
          },
          "execution_count": 10
        }
      ]
    }
  ]
}