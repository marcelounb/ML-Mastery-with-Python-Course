{
  "nbformat": 4,
  "nbformat_minor": 0,
  "metadata": {
    "colab": {
      "name": "chap12_Spot Check Regression Algorithms.ipynb",
      "provenance": [],
      "authorship_tag": "ABX9TyMjy4PRSYF2yrs/BAGk7o4j",
      "include_colab_link": true
    },
    "kernelspec": {
      "name": "python3",
      "display_name": "Python 3"
    }
  },
  "cells": [
    {
      "cell_type": "markdown",
      "metadata": {
        "id": "view-in-github",
        "colab_type": "text"
      },
      "source": [
        "<a href=\"https://colab.research.google.com/github/marcelounb/ML-Mastery-with-Python-Course/blob/master/chap12_Spot_Check_Regression_Algorithms.ipynb\" target=\"_parent\"><img src=\"https://colab.research.google.com/assets/colab-badge.svg\" alt=\"Open In Colab\"/></a>"
      ]
    },
    {
      "cell_type": "markdown",
      "metadata": {
        "id": "had-_PouUWEn",
        "colab_type": "text"
      },
      "source": [
        "Spot-checking is a way of discovering which algorithms perform well on your machine learning problem. You cannot know which algorithms are best suited to your problem beforehand. You must trial a number of methods and focus attention on those that prove themselves the most promising."
      ]
    },
    {
      "cell_type": "markdown",
      "metadata": {
        "id": "3xOMTVAKUZWx",
        "colab_type": "text"
      },
      "source": [
        "# Algorithms Overview\n",
        "In this lesson we are going to take a look at seven regression algorithms that you can spot-check on your dataset. \n",
        "\n",
        "Starting with four linear machine learning algorithms:\n",
        "\n",
        "*   Linear Regression\n",
        "*   Ridge Regression\n",
        "*   LASSO Linear Regression\n",
        "*   Elastic Net Regression\n",
        "\n",
        "Then looking at three nonlinear machine learning algorithms:\n",
        "\n",
        "*   k-Nearest Neighbors\n",
        "*   Classiﬁcation and Regression Trees\n",
        "*   Support Vector Machines\n",
        "\n"
      ]
    },
    {
      "cell_type": "markdown",
      "metadata": {
        "id": "vudEnWg3WGj1",
        "colab_type": "text"
      },
      "source": [
        "Each recipe is demonstrated on the Boston House Price dataset. This is a regression problem where all attributes are numeric. A test harness with 10-fold cross validation is used to demonstrate how to spot-check each machine learning algorithm and mean squared error measures are used to indicate algorithm performance. Note that mean squared error values are inverted (negative). This is a quirk of the cross val score() function used that requires all algorithm metrics to be sorted in ascending order (larger value is better)"
      ]
    },
    {
      "cell_type": "markdown",
      "metadata": {
        "id": "7jZWciXuWPHB",
        "colab_type": "text"
      },
      "source": [
        "# Linear Machine Learning Algorithms"
      ]
    },
    {
      "cell_type": "code",
      "metadata": {
        "id": "qCyPk7csx-zC",
        "colab_type": "code",
        "colab": {}
      },
      "source": [
        "from pandas import read_csv \n",
        "from sklearn.model_selection import KFold \n",
        "from sklearn.model_selection import cross_val_score \n",
        "from sklearn.linear_model import LinearRegression \n",
        "from sklearn.linear_model import Ridge\n",
        "from sklearn.linear_model import Lasso\n",
        "from sklearn.linear_model import ElasticNet"
      ],
      "execution_count": 0,
      "outputs": []
    },
    {
      "cell_type": "code",
      "metadata": {
        "id": "gLvlCWr7yct4",
        "colab_type": "code",
        "colab": {
          "base_uri": "https://localhost:8080/",
          "height": 72
        },
        "outputId": "fd5f3d0b-8df1-4b8d-e6c7-c037ac8b32e0"
      },
      "source": [
        "filename = 'housing.csv' \n",
        "names = ['CRIM', 'ZN', 'INDUS', 'CHAS', 'NOX', 'RM', 'AGE', 'DIS', 'RAD', 'TAX', 'PTRATIO', 'B', 'LSTAT', 'MEDV'] \n",
        "dataframe = read_csv(filename, delim_whitespace=True, names=names) \n",
        "array = dataframe.values \n",
        "X = array[:,0:13] \n",
        "Y = array[:,13] \n",
        "kfold = KFold(n_splits=50, random_state=7) \n",
        "modelos = []"
      ],
      "execution_count": 2,
      "outputs": [
        {
          "output_type": "stream",
          "text": [
            "/usr/local/lib/python3.6/dist-packages/sklearn/model_selection/_split.py:296: FutureWarning: Setting a random_state has no effect since shuffle is False. This will raise an error in 0.24. You should leave random_state to its default (None), or set shuffle=True.\n",
            "  FutureWarning\n"
          ],
          "name": "stderr"
        }
      ]
    },
    {
      "cell_type": "markdown",
      "metadata": {
        "id": "zKT11EbVWR7H",
        "colab_type": "text"
      },
      "source": [
        " Linear Regression\n"
      ]
    },
    {
      "cell_type": "code",
      "metadata": {
        "id": "mmGSNGNSKewY",
        "colab_type": "code",
        "colab": {}
      },
      "source": [
        "model = LinearRegression() \n",
        "scoring = 'neg_mean_squared_error' \n",
        "results = cross_val_score(model, X, Y, cv=kfold, scoring=scoring)"
      ],
      "execution_count": 0,
      "outputs": []
    },
    {
      "cell_type": "code",
      "metadata": {
        "id": "6OD4Fxu8z8zt",
        "colab_type": "code",
        "colab": {
          "base_uri": "https://localhost:8080/",
          "height": 35
        },
        "outputId": "bd97f946-8483-4407-a3f8-de5371b587d3"
      },
      "source": [
        "modelos.append(['Linear Regression', results.mean()])\n",
        "results.mean()"
      ],
      "execution_count": 4,
      "outputs": [
        {
          "output_type": "execute_result",
          "data": {
            "text/plain": [
              "-28.22102973822059"
            ]
          },
          "metadata": {
            "tags": []
          },
          "execution_count": 4
        }
      ]
    },
    {
      "cell_type": "markdown",
      "metadata": {
        "id": "J3YKqkcu09jP",
        "colab_type": "text"
      },
      "source": [
        "Ridge Regression"
      ]
    },
    {
      "cell_type": "code",
      "metadata": {
        "id": "9LfbCFe81Fxf",
        "colab_type": "code",
        "colab": {}
      },
      "source": [
        "model = Ridge()\n",
        "scoring = 'neg_mean_squared_error'\n",
        "results = cross_val_score(model, X, Y, cv=kfold, scoring=scoring)"
      ],
      "execution_count": 0,
      "outputs": []
    },
    {
      "cell_type": "code",
      "metadata": {
        "id": "VJiGWVsE1ig1",
        "colab_type": "code",
        "colab": {
          "base_uri": "https://localhost:8080/",
          "height": 35
        },
        "outputId": "b038715e-b054-4fc5-b68e-3e3ad40db31e"
      },
      "source": [
        "modelos.append(['Ridge', results.mean()])\n",
        "results.mean()"
      ],
      "execution_count": 6,
      "outputs": [
        {
          "output_type": "execute_result",
          "data": {
            "text/plain": [
              "-28.34428816493067"
            ]
          },
          "metadata": {
            "tags": []
          },
          "execution_count": 6
        }
      ]
    },
    {
      "cell_type": "markdown",
      "metadata": {
        "id": "RNfPeceq25BF",
        "colab_type": "text"
      },
      "source": [
        "LASSO Linear Regression"
      ]
    },
    {
      "cell_type": "code",
      "metadata": {
        "id": "vtuy7Top27-w",
        "colab_type": "code",
        "colab": {}
      },
      "source": [
        "model = Lasso()\n",
        "scoring = 'neg_mean_squared_error'\n",
        "results = cross_val_score(model, X, Y, cv=kfold, scoring=scoring)"
      ],
      "execution_count": 0,
      "outputs": []
    },
    {
      "cell_type": "code",
      "metadata": {
        "id": "gfSbdq2r2_PZ",
        "colab_type": "code",
        "colab": {
          "base_uri": "https://localhost:8080/",
          "height": 35
        },
        "outputId": "78ffa2b8-3457-4f4b-8451-db03277d712e"
      },
      "source": [
        "modelos.append(['Lasso', results.mean()])\n",
        "results.mean()"
      ],
      "execution_count": 8,
      "outputs": [
        {
          "output_type": "execute_result",
          "data": {
            "text/plain": [
              "-32.07128950506924"
            ]
          },
          "metadata": {
            "tags": []
          },
          "execution_count": 8
        }
      ]
    },
    {
      "cell_type": "markdown",
      "metadata": {
        "id": "VMYKAktG3PE3",
        "colab_type": "text"
      },
      "source": [
        "ElasticNet Regression"
      ]
    },
    {
      "cell_type": "code",
      "metadata": {
        "id": "NuB3nvYM3OL0",
        "colab_type": "code",
        "colab": {}
      },
      "source": [
        "model = ElasticNet()\n",
        "scoring = 'neg_mean_squared_error'\n",
        "results = cross_val_score(model, X, Y, cv=kfold, scoring=scoring)"
      ],
      "execution_count": 0,
      "outputs": []
    },
    {
      "cell_type": "code",
      "metadata": {
        "id": "_-UdXbMM3Wjy",
        "colab_type": "code",
        "colab": {
          "base_uri": "https://localhost:8080/",
          "height": 35
        },
        "outputId": "52bcf1fa-3f7b-4534-d2e6-e38cbc521136"
      },
      "source": [
        "modelos.append(['ElasticNet', results.mean()])\n",
        "results.mean()"
      ],
      "execution_count": 10,
      "outputs": [
        {
          "output_type": "execute_result",
          "data": {
            "text/plain": [
              "-30.755417568585507"
            ]
          },
          "metadata": {
            "tags": []
          },
          "execution_count": 10
        }
      ]
    },
    {
      "cell_type": "code",
      "metadata": {
        "id": "TufTWWhL4jAU",
        "colab_type": "code",
        "colab": {
          "base_uri": "https://localhost:8080/",
          "height": 88
        },
        "outputId": "4177f366-d66f-45ea-eb20-7d81a346fc45"
      },
      "source": [
        "# Mean Squared errors resume\n",
        "# The closer they are to zero, the better\n",
        "modelos"
      ],
      "execution_count": 11,
      "outputs": [
        {
          "output_type": "execute_result",
          "data": {
            "text/plain": [
              "[['Linear Regression', -28.22102973822059],\n",
              " ['Ridge', -28.34428816493067],\n",
              " ['Lasso', -32.07128950506924],\n",
              " ['ElasticNet', -30.755417568585507]]"
            ]
          },
          "metadata": {
            "tags": []
          },
          "execution_count": 11
        }
      ]
    },
    {
      "cell_type": "markdown",
      "metadata": {
        "id": "TIED6neU5BLp",
        "colab_type": "text"
      },
      "source": [
        "# Nonlinear Machine Learning Algorithms"
      ]
    },
    {
      "cell_type": "code",
      "metadata": {
        "id": "2n74T9vp5JuW",
        "colab_type": "code",
        "colab": {}
      },
      "source": [
        "from sklearn.neighbors import KNeighborsRegressor\n",
        "from sklearn.tree import DecisionTreeRegressor\n",
        "from sklearn.svm import SVR"
      ],
      "execution_count": 0,
      "outputs": []
    },
    {
      "cell_type": "markdown",
      "metadata": {
        "id": "0r0eFC3w5fVf",
        "colab_type": "text"
      },
      "source": [
        "K-Nearest Neighbors"
      ]
    },
    {
      "cell_type": "code",
      "metadata": {
        "id": "Rdt4Oywc5gm1",
        "colab_type": "code",
        "colab": {}
      },
      "source": [
        "model = KNeighborsRegressor()\n",
        "scoring = 'neg_mean_squared_error'\n",
        "results = cross_val_score(model, X, Y, cv=kfold, scoring=scoring)"
      ],
      "execution_count": 0,
      "outputs": []
    },
    {
      "cell_type": "code",
      "metadata": {
        "id": "2NAwsKdC5rgo",
        "colab_type": "code",
        "colab": {
          "base_uri": "https://localhost:8080/",
          "height": 35
        },
        "outputId": "37e66623-2545-4c88-c040-399287514ff7"
      },
      "source": [
        "modelos.append(['K-Nearest Neighbors', results.mean()])\n",
        "results.mean()"
      ],
      "execution_count": 15,
      "outputs": [
        {
          "output_type": "execute_result",
          "data": {
            "text/plain": [
              "-57.90471229090909"
            ]
          },
          "metadata": {
            "tags": []
          },
          "execution_count": 15
        }
      ]
    },
    {
      "cell_type": "markdown",
      "metadata": {
        "id": "2O6Tnl9J55cu",
        "colab_type": "text"
      },
      "source": [
        "Classiﬁcation and Regression Trees"
      ]
    },
    {
      "cell_type": "code",
      "metadata": {
        "colab_type": "code",
        "id": "hBh5OmXw53Tt",
        "colab": {}
      },
      "source": [
        "model = DecisionTreeRegressor()\n",
        "scoring = 'neg_mean_squared_error'\n",
        "results = cross_val_score(model, X, Y, cv=kfold, scoring=scoring)"
      ],
      "execution_count": 0,
      "outputs": []
    },
    {
      "cell_type": "code",
      "metadata": {
        "colab_type": "code",
        "id": "if0FM8X_53T8",
        "colab": {
          "base_uri": "https://localhost:8080/",
          "height": 35
        },
        "outputId": "73cadea6-0c2c-4b24-9703-005dbea66d9a"
      },
      "source": [
        "modelos.append(['Classiﬁcation and Regression Trees', results.mean()])\n",
        "results.mean()"
      ],
      "execution_count": 17,
      "outputs": [
        {
          "output_type": "execute_result",
          "data": {
            "text/plain": [
              "-29.876949090909093"
            ]
          },
          "metadata": {
            "tags": []
          },
          "execution_count": 17
        }
      ]
    },
    {
      "cell_type": "markdown",
      "metadata": {
        "id": "7UWH5SAA6BiC",
        "colab_type": "text"
      },
      "source": [
        "Support Vector Machines"
      ]
    },
    {
      "cell_type": "code",
      "metadata": {
        "colab_type": "code",
        "id": "ZglmWgst52xp",
        "colab": {}
      },
      "source": [
        "model = SVR()\n",
        "scoring = 'neg_mean_squared_error'\n",
        "results = cross_val_score(model, X, Y, cv=kfold, scoring=scoring)"
      ],
      "execution_count": 0,
      "outputs": []
    },
    {
      "cell_type": "code",
      "metadata": {
        "colab_type": "code",
        "id": "pjP79Q3i52xw",
        "colab": {
          "base_uri": "https://localhost:8080/",
          "height": 35
        },
        "outputId": "8c1de4e7-e7a2-45d7-a72c-b3cfb31b8deb"
      },
      "source": [
        "modelos.append(['SVR', results.mean()])\n",
        "results.mean()"
      ],
      "execution_count": 19,
      "outputs": [
        {
          "output_type": "execute_result",
          "data": {
            "text/plain": [
              "-69.88049349252923"
            ]
          },
          "metadata": {
            "tags": []
          },
          "execution_count": 19
        }
      ]
    },
    {
      "cell_type": "code",
      "metadata": {
        "id": "yOlyuAi26Xq8",
        "colab_type": "code",
        "colab": {
          "base_uri": "https://localhost:8080/",
          "height": 141
        },
        "outputId": "5c5bb127-cc7d-4188-f087-3fe19516d277"
      },
      "source": [
        "# Mean Squared errors resume\n",
        "# The closer they are to zero, the better\n",
        "modelos"
      ],
      "execution_count": 20,
      "outputs": [
        {
          "output_type": "execute_result",
          "data": {
            "text/plain": [
              "[['Linear Regression', -28.22102973822059],\n",
              " ['Ridge', -28.34428816493067],\n",
              " ['Lasso', -32.07128950506924],\n",
              " ['ElasticNet', -30.755417568585507],\n",
              " ['K-Nearest Neighbors', -57.90471229090909],\n",
              " ['Classiﬁcation and Regression Trees', -29.876949090909093],\n",
              " ['SVR', -69.88049349252923]]"
            ]
          },
          "metadata": {
            "tags": []
          },
          "execution_count": 20
        }
      ]
    }
  ]
}