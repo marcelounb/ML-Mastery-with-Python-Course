{
  "nbformat": 4,
  "nbformat_minor": 0,
  "metadata": {
    "colab": {
      "name": "COVID-19 Prediction by Country and Province.ipynb",
      "provenance": [],
      "toc_visible": true,
      "authorship_tag": "ABX9TyMC8VdTnfeAN0ogjrgUy59L",
      "include_colab_link": true
    },
    "kernelspec": {
      "name": "python3",
      "display_name": "Python 3"
    }
  },
  "cells": [
    {
      "cell_type": "markdown",
      "metadata": {
        "id": "view-in-github",
        "colab_type": "text"
      },
      "source": [
        "<a href=\"https://colab.research.google.com/github/marcelounb/ML-Mastery-with-Python-Course/blob/master/COVID_19_Prediction_by_Country_and_Province.ipynb\" target=\"_parent\"><img src=\"https://colab.research.google.com/assets/colab-badge.svg\" alt=\"Open In Colab\"/></a>"
      ]
    },
    {
      "cell_type": "markdown",
      "metadata": {
        "id": "lsmniZIxflHC",
        "colab_type": "text"
      },
      "source": [
        "https://www.kaggle.com/yuanquan/covid-19-prediction-by-country-and-province"
      ]
    },
    {
      "cell_type": "code",
      "metadata": {
        "id": "9IvN5BWBe2gL",
        "colab_type": "code",
        "colab": {}
      },
      "source": [
        "import numpy as np\n",
        "import pandas as pd\n",
        "import matplotlib.pyplot as plt\n",
        "import datetime\n",
        "\n",
        "# hide warnings\n",
        "import warnings\n",
        "warnings.filterwarnings('ignore')"
      ],
      "execution_count": 0,
      "outputs": []
    },
    {
      "cell_type": "code",
      "metadata": {
        "id": "DmTYvgxYfoy7",
        "colab_type": "code",
        "colab": {
          "base_uri": "https://localhost:8080/",
          "height": 399
        },
        "outputId": "c69daa63-dfdc-42f8-88da-21c3f60ec65d"
      },
      "source": [
        "#check the old format\n",
        "confirmed_df = pd.read_csv('https://raw.githubusercontent.com/CSSEGISandData/COVID-19/master/csse_covid_19_data/csse_covid_19_time_series/time_series_covid19_confirmed_global.csv')\n",
        "death_df = pd.read_csv('https://raw.githubusercontent.com/CSSEGISandData/COVID-19/master/csse_covid_19_data/csse_covid_19_time_series/time_series_covid19_deaths_global.csv')\n",
        "recovered_df = pd.read_csv('https://raw.githubusercontent.com/CSSEGISandData/COVID-19/master/csse_covid_19_data/csse_covid_19_time_series/time_series_covid19_recovered_global.csv')\n",
        "\n",
        "confirmed_table = confirmed_df.melt(id_vars=[\"Province/State\", \"Country/Region\", \"Lat\", \"Long\"], var_name=\"Date\", value_name=\"Confirmed\").fillna('').drop(['Lat', 'Long'], axis=1)\n",
        "death_table = death_df.melt(id_vars=[\"Province/State\", \"Country/Region\", \"Lat\", \"Long\"], var_name=\"Date\", value_name=\"Deaths\").fillna('').drop(['Lat', 'Long'], axis=1)\n",
        "recovered_table = recovered_df.melt(id_vars=[\"Province/State\", \"Country/Region\", \"Lat\", \"Long\"], var_name=\"Date\", value_name=\"Recovered\").fillna('').drop(['Lat', 'Long'], axis=1)\n",
        "\n",
        "full_table = confirmed_table.merge(death_table).merge(recovered_table)\n",
        "\n",
        "full_table['Date'] = pd.to_datetime(full_table['Date'])\n",
        "full_table"
      ],
      "execution_count": 2,
      "outputs": [
        {
          "output_type": "execute_result",
          "data": {
            "text/html": [
              "<div>\n",
              "<style scoped>\n",
              "    .dataframe tbody tr th:only-of-type {\n",
              "        vertical-align: middle;\n",
              "    }\n",
              "\n",
              "    .dataframe tbody tr th {\n",
              "        vertical-align: top;\n",
              "    }\n",
              "\n",
              "    .dataframe thead th {\n",
              "        text-align: right;\n",
              "    }\n",
              "</style>\n",
              "<table border=\"1\" class=\"dataframe\">\n",
              "  <thead>\n",
              "    <tr style=\"text-align: right;\">\n",
              "      <th></th>\n",
              "      <th>Province/State</th>\n",
              "      <th>Country/Region</th>\n",
              "      <th>Date</th>\n",
              "      <th>Confirmed</th>\n",
              "      <th>Deaths</th>\n",
              "      <th>Recovered</th>\n",
              "    </tr>\n",
              "  </thead>\n",
              "  <tbody>\n",
              "    <tr>\n",
              "      <th>0</th>\n",
              "      <td></td>\n",
              "      <td>Afghanistan</td>\n",
              "      <td>2020-01-22</td>\n",
              "      <td>0</td>\n",
              "      <td>0</td>\n",
              "      <td>0</td>\n",
              "    </tr>\n",
              "    <tr>\n",
              "      <th>1</th>\n",
              "      <td></td>\n",
              "      <td>Albania</td>\n",
              "      <td>2020-01-22</td>\n",
              "      <td>0</td>\n",
              "      <td>0</td>\n",
              "      <td>0</td>\n",
              "    </tr>\n",
              "    <tr>\n",
              "      <th>2</th>\n",
              "      <td></td>\n",
              "      <td>Algeria</td>\n",
              "      <td>2020-01-22</td>\n",
              "      <td>0</td>\n",
              "      <td>0</td>\n",
              "      <td>0</td>\n",
              "    </tr>\n",
              "    <tr>\n",
              "      <th>3</th>\n",
              "      <td></td>\n",
              "      <td>Andorra</td>\n",
              "      <td>2020-01-22</td>\n",
              "      <td>0</td>\n",
              "      <td>0</td>\n",
              "      <td>0</td>\n",
              "    </tr>\n",
              "    <tr>\n",
              "      <th>4</th>\n",
              "      <td></td>\n",
              "      <td>Angola</td>\n",
              "      <td>2020-01-22</td>\n",
              "      <td>0</td>\n",
              "      <td>0</td>\n",
              "      <td>0</td>\n",
              "    </tr>\n",
              "    <tr>\n",
              "      <th>...</th>\n",
              "      <td>...</td>\n",
              "      <td>...</td>\n",
              "      <td>...</td>\n",
              "      <td>...</td>\n",
              "      <td>...</td>\n",
              "      <td>...</td>\n",
              "    </tr>\n",
              "    <tr>\n",
              "      <th>24397</th>\n",
              "      <td>Saint Pierre and Miquelon</td>\n",
              "      <td>France</td>\n",
              "      <td>2020-04-28</td>\n",
              "      <td>1</td>\n",
              "      <td>0</td>\n",
              "      <td>0</td>\n",
              "    </tr>\n",
              "    <tr>\n",
              "      <th>24398</th>\n",
              "      <td></td>\n",
              "      <td>South Sudan</td>\n",
              "      <td>2020-04-28</td>\n",
              "      <td>34</td>\n",
              "      <td>0</td>\n",
              "      <td>0</td>\n",
              "    </tr>\n",
              "    <tr>\n",
              "      <th>24399</th>\n",
              "      <td></td>\n",
              "      <td>Western Sahara</td>\n",
              "      <td>2020-04-28</td>\n",
              "      <td>6</td>\n",
              "      <td>0</td>\n",
              "      <td>5</td>\n",
              "    </tr>\n",
              "    <tr>\n",
              "      <th>24400</th>\n",
              "      <td></td>\n",
              "      <td>Sao Tome and Principe</td>\n",
              "      <td>2020-04-28</td>\n",
              "      <td>8</td>\n",
              "      <td>0</td>\n",
              "      <td>4</td>\n",
              "    </tr>\n",
              "    <tr>\n",
              "      <th>24401</th>\n",
              "      <td></td>\n",
              "      <td>Yemen</td>\n",
              "      <td>2020-04-28</td>\n",
              "      <td>1</td>\n",
              "      <td>0</td>\n",
              "      <td>1</td>\n",
              "    </tr>\n",
              "  </tbody>\n",
              "</table>\n",
              "<p>24402 rows × 6 columns</p>\n",
              "</div>"
            ],
            "text/plain": [
              "                  Province/State         Country/Region  ... Deaths  Recovered\n",
              "0                                           Afghanistan  ...      0          0\n",
              "1                                               Albania  ...      0          0\n",
              "2                                               Algeria  ...      0          0\n",
              "3                                               Andorra  ...      0          0\n",
              "4                                                Angola  ...      0          0\n",
              "...                          ...                    ...  ...    ...        ...\n",
              "24397  Saint Pierre and Miquelon                 France  ...      0          0\n",
              "24398                                       South Sudan  ...      0          0\n",
              "24399                                    Western Sahara  ...      0          5\n",
              "24400                             Sao Tome and Principe  ...      0          4\n",
              "24401                                             Yemen  ...      0          1\n",
              "\n",
              "[24402 rows x 6 columns]"
            ]
          },
          "metadata": {
            "tags": []
          },
          "execution_count": 2
        }
      ]
    },
    {
      "cell_type": "code",
      "metadata": {
        "id": "x-2Ks1KXhsyU",
        "colab_type": "code",
        "colab": {}
      },
      "source": [
        "full_table.to_csv('full_table.csv')"
      ],
      "execution_count": 0,
      "outputs": []
    },
    {
      "cell_type": "markdown",
      "metadata": {
        "id": "8s_nXNAXfz89",
        "colab_type": "text"
      },
      "source": [
        "# Cleaning data"
      ]
    },
    {
      "cell_type": "code",
      "metadata": {
        "id": "U6jn3bjtfrlm",
        "colab_type": "code",
        "colab": {
          "base_uri": "https://localhost:8080/",
          "height": 399
        },
        "outputId": "dd18572c-6b38-4bce-8a36-6e52626f57d7"
      },
      "source": [
        "# cases \n",
        "#cases = ['Confirmed', 'Deaths', 'Recovered', 'Active']\n",
        "\n",
        "# Active Case = confirmed - deaths - recovered\n",
        "full_table['Active'] = full_table['Confirmed'] - full_table['Deaths'] - full_table['Recovered']\n",
        "\n",
        "# replacing Mainland china with just China\n",
        "full_table['Country/Region'] = full_table['Country/Region'].replace('Mainland China', 'China')\n",
        "\n",
        "# filling missing values \n",
        "full_table[['Province/State']] = full_table[['Province/State']].fillna('')\n",
        "# full_table[cases] = full_table[cases].fillna(0)\n",
        "full_table"
      ],
      "execution_count": 4,
      "outputs": [
        {
          "output_type": "execute_result",
          "data": {
            "text/html": [
              "<div>\n",
              "<style scoped>\n",
              "    .dataframe tbody tr th:only-of-type {\n",
              "        vertical-align: middle;\n",
              "    }\n",
              "\n",
              "    .dataframe tbody tr th {\n",
              "        vertical-align: top;\n",
              "    }\n",
              "\n",
              "    .dataframe thead th {\n",
              "        text-align: right;\n",
              "    }\n",
              "</style>\n",
              "<table border=\"1\" class=\"dataframe\">\n",
              "  <thead>\n",
              "    <tr style=\"text-align: right;\">\n",
              "      <th></th>\n",
              "      <th>Province/State</th>\n",
              "      <th>Country/Region</th>\n",
              "      <th>Date</th>\n",
              "      <th>Confirmed</th>\n",
              "      <th>Deaths</th>\n",
              "      <th>Recovered</th>\n",
              "      <th>Active</th>\n",
              "    </tr>\n",
              "  </thead>\n",
              "  <tbody>\n",
              "    <tr>\n",
              "      <th>0</th>\n",
              "      <td></td>\n",
              "      <td>Afghanistan</td>\n",
              "      <td>2020-01-22</td>\n",
              "      <td>0</td>\n",
              "      <td>0</td>\n",
              "      <td>0</td>\n",
              "      <td>0</td>\n",
              "    </tr>\n",
              "    <tr>\n",
              "      <th>1</th>\n",
              "      <td></td>\n",
              "      <td>Albania</td>\n",
              "      <td>2020-01-22</td>\n",
              "      <td>0</td>\n",
              "      <td>0</td>\n",
              "      <td>0</td>\n",
              "      <td>0</td>\n",
              "    </tr>\n",
              "    <tr>\n",
              "      <th>2</th>\n",
              "      <td></td>\n",
              "      <td>Algeria</td>\n",
              "      <td>2020-01-22</td>\n",
              "      <td>0</td>\n",
              "      <td>0</td>\n",
              "      <td>0</td>\n",
              "      <td>0</td>\n",
              "    </tr>\n",
              "    <tr>\n",
              "      <th>3</th>\n",
              "      <td></td>\n",
              "      <td>Andorra</td>\n",
              "      <td>2020-01-22</td>\n",
              "      <td>0</td>\n",
              "      <td>0</td>\n",
              "      <td>0</td>\n",
              "      <td>0</td>\n",
              "    </tr>\n",
              "    <tr>\n",
              "      <th>4</th>\n",
              "      <td></td>\n",
              "      <td>Angola</td>\n",
              "      <td>2020-01-22</td>\n",
              "      <td>0</td>\n",
              "      <td>0</td>\n",
              "      <td>0</td>\n",
              "      <td>0</td>\n",
              "    </tr>\n",
              "    <tr>\n",
              "      <th>...</th>\n",
              "      <td>...</td>\n",
              "      <td>...</td>\n",
              "      <td>...</td>\n",
              "      <td>...</td>\n",
              "      <td>...</td>\n",
              "      <td>...</td>\n",
              "      <td>...</td>\n",
              "    </tr>\n",
              "    <tr>\n",
              "      <th>24397</th>\n",
              "      <td>Saint Pierre and Miquelon</td>\n",
              "      <td>France</td>\n",
              "      <td>2020-04-28</td>\n",
              "      <td>1</td>\n",
              "      <td>0</td>\n",
              "      <td>0</td>\n",
              "      <td>1</td>\n",
              "    </tr>\n",
              "    <tr>\n",
              "      <th>24398</th>\n",
              "      <td></td>\n",
              "      <td>South Sudan</td>\n",
              "      <td>2020-04-28</td>\n",
              "      <td>34</td>\n",
              "      <td>0</td>\n",
              "      <td>0</td>\n",
              "      <td>34</td>\n",
              "    </tr>\n",
              "    <tr>\n",
              "      <th>24399</th>\n",
              "      <td></td>\n",
              "      <td>Western Sahara</td>\n",
              "      <td>2020-04-28</td>\n",
              "      <td>6</td>\n",
              "      <td>0</td>\n",
              "      <td>5</td>\n",
              "      <td>1</td>\n",
              "    </tr>\n",
              "    <tr>\n",
              "      <th>24400</th>\n",
              "      <td></td>\n",
              "      <td>Sao Tome and Principe</td>\n",
              "      <td>2020-04-28</td>\n",
              "      <td>8</td>\n",
              "      <td>0</td>\n",
              "      <td>4</td>\n",
              "      <td>4</td>\n",
              "    </tr>\n",
              "    <tr>\n",
              "      <th>24401</th>\n",
              "      <td></td>\n",
              "      <td>Yemen</td>\n",
              "      <td>2020-04-28</td>\n",
              "      <td>1</td>\n",
              "      <td>0</td>\n",
              "      <td>1</td>\n",
              "      <td>0</td>\n",
              "    </tr>\n",
              "  </tbody>\n",
              "</table>\n",
              "<p>24402 rows × 7 columns</p>\n",
              "</div>"
            ],
            "text/plain": [
              "                  Province/State         Country/Region  ... Recovered  Active\n",
              "0                                           Afghanistan  ...         0       0\n",
              "1                                               Albania  ...         0       0\n",
              "2                                               Algeria  ...         0       0\n",
              "3                                               Andorra  ...         0       0\n",
              "4                                                Angola  ...         0       0\n",
              "...                          ...                    ...  ...       ...     ...\n",
              "24397  Saint Pierre and Miquelon                 France  ...         0       1\n",
              "24398                                       South Sudan  ...         0      34\n",
              "24399                                    Western Sahara  ...         5       1\n",
              "24400                             Sao Tome and Principe  ...         4       4\n",
              "24401                                             Yemen  ...         1       0\n",
              "\n",
              "[24402 rows x 7 columns]"
            ]
          },
          "metadata": {
            "tags": []
          },
          "execution_count": 4
        }
      ]
    },
    {
      "cell_type": "code",
      "metadata": {
        "id": "jY4gcVrFhf6Y",
        "colab_type": "code",
        "colab": {}
      },
      "source": [
        "full_table.to_csv('full_table2.csv')"
      ],
      "execution_count": 0,
      "outputs": []
    },
    {
      "cell_type": "code",
      "metadata": {
        "id": "8UTFynYGf2qc",
        "colab_type": "code",
        "colab": {}
      },
      "source": [
        "def get_time_series(country):\n",
        "    # for some countries, data is spread over several Provinces\n",
        "    if full_table[full_table['Country/Region'] == country]['Province/State'].nunique() > 1:\n",
        "        country_table = full_table[full_table['Country/Region'] == country]\n",
        "        country_df = pd.DataFrame(pd.pivot_table(country_table, values = ['Confirmed', 'Deaths', 'Recovered', 'Active'],\n",
        "                              index='Date', aggfunc=sum).to_records())\n",
        "        return country_df.set_index('Date')[['Confirmed', 'Deaths', 'Recovered', 'Active']]\n",
        "    df = full_table[(full_table['Country/Region'] == country) \n",
        "                & (full_table['Province/State'].isin(['', country]))]\n",
        "    return df.set_index('Date')[['Confirmed', 'Deaths', 'Recovered', 'Active']]\n",
        "\n",
        "\n",
        "def get_time_series_province(province):\n",
        "    # for some countries, data is spread over several Provinces\n",
        "    df = full_table[(full_table['Province/State'] == province)]\n",
        "    return df.set_index('Date')[['Confirmed', 'Deaths', 'Recovered', 'Active']]"
      ],
      "execution_count": 0,
      "outputs": []
    },
    {
      "cell_type": "code",
      "metadata": {
        "id": "x74pRJG_hzz1",
        "colab_type": "code",
        "colab": {}
      },
      "source": [
        "full_table.to_csv('full_table3.csv')"
      ],
      "execution_count": 0,
      "outputs": []
    },
    {
      "cell_type": "code",
      "metadata": {
        "id": "7jg7qPU5gCL4",
        "colab_type": "code",
        "colab": {
          "base_uri": "https://localhost:8080/",
          "height": 370
        },
        "outputId": "9911b828-a146-43ac-ff77-194972ce1aac"
      },
      "source": [
        "country = 'China'\n",
        "df = get_time_series(country)\n",
        "if len(df) > 1 and df.iloc[-2,0] >= df.iloc[-1,0]:\n",
        "    df.drop(df.tail(1).index,inplace=True)\n",
        "df.tail(10)"
      ],
      "execution_count": 8,
      "outputs": [
        {
          "output_type": "execute_result",
          "data": {
            "text/html": [
              "<div>\n",
              "<style scoped>\n",
              "    .dataframe tbody tr th:only-of-type {\n",
              "        vertical-align: middle;\n",
              "    }\n",
              "\n",
              "    .dataframe tbody tr th {\n",
              "        vertical-align: top;\n",
              "    }\n",
              "\n",
              "    .dataframe thead th {\n",
              "        text-align: right;\n",
              "    }\n",
              "</style>\n",
              "<table border=\"1\" class=\"dataframe\">\n",
              "  <thead>\n",
              "    <tr style=\"text-align: right;\">\n",
              "      <th></th>\n",
              "      <th>Confirmed</th>\n",
              "      <th>Deaths</th>\n",
              "      <th>Recovered</th>\n",
              "      <th>Active</th>\n",
              "    </tr>\n",
              "    <tr>\n",
              "      <th>Date</th>\n",
              "      <th></th>\n",
              "      <th></th>\n",
              "      <th></th>\n",
              "      <th></th>\n",
              "    </tr>\n",
              "  </thead>\n",
              "  <tbody>\n",
              "    <tr>\n",
              "      <th>2020-04-19</th>\n",
              "      <td>83805</td>\n",
              "      <td>4636</td>\n",
              "      <td>77690</td>\n",
              "      <td>1479</td>\n",
              "    </tr>\n",
              "    <tr>\n",
              "      <th>2020-04-20</th>\n",
              "      <td>83817</td>\n",
              "      <td>4636</td>\n",
              "      <td>77745</td>\n",
              "      <td>1436</td>\n",
              "    </tr>\n",
              "    <tr>\n",
              "      <th>2020-04-21</th>\n",
              "      <td>83853</td>\n",
              "      <td>4636</td>\n",
              "      <td>77799</td>\n",
              "      <td>1418</td>\n",
              "    </tr>\n",
              "    <tr>\n",
              "      <th>2020-04-22</th>\n",
              "      <td>83868</td>\n",
              "      <td>4636</td>\n",
              "      <td>77861</td>\n",
              "      <td>1371</td>\n",
              "    </tr>\n",
              "    <tr>\n",
              "      <th>2020-04-23</th>\n",
              "      <td>83884</td>\n",
              "      <td>4636</td>\n",
              "      <td>77983</td>\n",
              "      <td>1265</td>\n",
              "    </tr>\n",
              "    <tr>\n",
              "      <th>2020-04-24</th>\n",
              "      <td>83899</td>\n",
              "      <td>4636</td>\n",
              "      <td>78109</td>\n",
              "      <td>1154</td>\n",
              "    </tr>\n",
              "    <tr>\n",
              "      <th>2020-04-25</th>\n",
              "      <td>83909</td>\n",
              "      <td>4636</td>\n",
              "      <td>78175</td>\n",
              "      <td>1098</td>\n",
              "    </tr>\n",
              "    <tr>\n",
              "      <th>2020-04-26</th>\n",
              "      <td>83912</td>\n",
              "      <td>4637</td>\n",
              "      <td>78277</td>\n",
              "      <td>998</td>\n",
              "    </tr>\n",
              "    <tr>\n",
              "      <th>2020-04-27</th>\n",
              "      <td>83918</td>\n",
              "      <td>4637</td>\n",
              "      <td>78374</td>\n",
              "      <td>907</td>\n",
              "    </tr>\n",
              "    <tr>\n",
              "      <th>2020-04-28</th>\n",
              "      <td>83940</td>\n",
              "      <td>4637</td>\n",
              "      <td>78422</td>\n",
              "      <td>881</td>\n",
              "    </tr>\n",
              "  </tbody>\n",
              "</table>\n",
              "</div>"
            ],
            "text/plain": [
              "            Confirmed  Deaths  Recovered  Active\n",
              "Date                                            \n",
              "2020-04-19      83805    4636      77690    1479\n",
              "2020-04-20      83817    4636      77745    1436\n",
              "2020-04-21      83853    4636      77799    1418\n",
              "2020-04-22      83868    4636      77861    1371\n",
              "2020-04-23      83884    4636      77983    1265\n",
              "2020-04-24      83899    4636      78109    1154\n",
              "2020-04-25      83909    4636      78175    1098\n",
              "2020-04-26      83912    4637      78277     998\n",
              "2020-04-27      83918    4637      78374     907\n",
              "2020-04-28      83940    4637      78422     881"
            ]
          },
          "metadata": {
            "tags": []
          },
          "execution_count": 8
        }
      ]
    },
    {
      "cell_type": "markdown",
      "metadata": {
        "id": "B8vBwYaK_Mwd",
        "colab_type": "text"
      },
      "source": [
        "# Model"
      ]
    },
    {
      "cell_type": "markdown",
      "metadata": {
        "id": "McDgkYWT_ObZ",
        "colab_type": "text"
      },
      "source": [
        "I will use a model from a marketing paper by Emmanuelle Le Nagard and Alexandre Steyer, that attempts to reflect the social structure of a diffusion process. Their application was the diffusion of innovations, not epidemics. However, there are commonalities in both domains, as the number of contacts each infected person / innovation adopter has seems relevant. It also has the added benefit to allow fitting parameters to the beginning of a time series.\n",
        "\n",
        "paper is available (in French) here https://librarysearch.aut.ac.nz/vufind/EDS/Search?lookfor=STEYER%2C+Alexandre&type=AU)\n",
        "\n",
        "The model is also sensitive to when we define the origin of time for the epidemic process. Here, I just took the first point of the time series available, but adding a lag parameter could be attempted."
      ]
    },
    {
      "cell_type": "code",
      "metadata": {
        "id": "OrEuz9-tBwYL",
        "colab_type": "code",
        "colab": {}
      },
      "source": [
        "import math\n",
        "def model_with_lag(N, a, alpha, lag, t):\n",
        "    # we enforce N, a and alpha to be positive numbers using min and max functions\n",
        "    lag = min(max(lag, -100), 100) # lag must be less than +/- 100 days \n",
        "    return max(N, 0) * (1 - math.e ** (min(-a, 0) * (t - lag))) ** max(alpha, 0)\n",
        "\n",
        "def model(N, a, alpha, t):\n",
        "    return max(N, 0) * (1 - math.e ** (min(-a, 0) * t)) ** max(alpha, 0)"
      ],
      "execution_count": 0,
      "outputs": []
    },
    {
      "cell_type": "code",
      "metadata": {
        "id": "fiNEmKcXB3x_",
        "colab_type": "code",
        "colab": {}
      },
      "source": [
        "model_index = 0\n",
        "\n",
        "def model_loss(params):\n",
        "#     N, a, alpha, lag = params\n",
        "    N, a, alpha = params\n",
        "    model_x = []\n",
        "    r = 0\n",
        "    for t in range(len(df)):\n",
        "        r += (model(N, a, alpha, t) - df.iloc[t, model_index]) ** 2\n",
        "#         r += (math.log(1 + model(N, a, alpha, t)) - math.log(1 + df.iloc[t, 0])) ** 2 \n",
        "#         r += (model_with_lag(N, a, alpha, lag, t) - df.iloc[t, 0]) ** 2\n",
        "#         print(model(N, a, alpha, t), df.iloc[t, 0])\n",
        "    return math.sqrt(r) "
      ],
      "execution_count": 0,
      "outputs": []
    },
    {
      "cell_type": "code",
      "metadata": {
        "id": "XhMPowtzB-Cz",
        "colab_type": "code",
        "colab": {}
      },
      "source": [
        "import numpy as np\n",
        "from scipy.optimize import minimize\n",
        "use_lag_model = False\n",
        "if use_lag_model:\n",
        "    opt = minimize(model_loss, x0=np.array([200000, 0.05, 15, 0]), method='Nelder-Mead', tol=1e-5).x\n",
        "else:\n",
        "    model_index = 0\n",
        "    opt_confirmed = minimize(model_loss, x0=np.array([200000, 0.05, 15]), method='Nelder-Mead', tol=1e-5).x\n",
        "    model_index = 1\n",
        "    opt_deaths = minimize(model_loss, x0=np.array([200000, 0.05, 15]), method='Nelder-Mead', tol=1e-5).x\n",
        "    model_index = 2\n",
        "    opt_recovered = minimize(model_loss, x0=np.array([200000, 0.05, 15]), method='Nelder-Mead', tol=1e-5).x"
      ],
      "execution_count": 0,
      "outputs": []
    },
    {
      "cell_type": "code",
      "metadata": {
        "id": "ByHhYLBnGps6",
        "colab_type": "code",
        "colab": {
          "base_uri": "https://localhost:8080/",
          "height": 277
        },
        "outputId": "88fdaaa8-2d75-46be-bbf8-4298d0f2b6b3"
      },
      "source": [
        "import matplotlib\n",
        "import matplotlib.pyplot as plt\n",
        "%matplotlib inline \n",
        "\n",
        "model_x = []\n",
        "for t in range(len(df)):\n",
        "    model_x.append([df.index[t], model(*opt_confirmed, t), model(*opt_deaths, t), model(*opt_recovered, t)])\n",
        "model_sim = pd.DataFrame(model_x, dtype=int)\n",
        "model_sim.set_index(0, inplace=True)\n",
        "model_sim.columns = ['Model-Confirmed', 'Model-Deaths', 'Model-Recovered']\n",
        "\n",
        "model_sim['Model-Active'] = model_sim['Model-Confirmed'] - model_sim['Model-Deaths'] - model_sim['Model-Recovered']\n",
        "model_sim.loc[model_sim['Model-Active']<0,'Model-Active'] = 0\n",
        "plot_color = ['#99990077', '#FF000055', '#0000FF55', '#00FF0055', '#999900FF', '#FF0000FF', '#0000FFFF', '#00FF00FF']\n",
        "\n",
        "pd.concat([model_sim, df], axis=1).plot(color = plot_color)\n",
        "plt.show()"
      ],
      "execution_count": 12,
      "outputs": [
        {
          "output_type": "display_data",
          "data": {
            "image/png": "[encoded data removed]",
            "text/plain": [
              "<Figure size 432x288 with 1 Axes>"
            ]
          },
          "metadata": {
            "tags": [],
            "needs_background": "light"
          }
        }
      ]
    },
    {
      "cell_type": "code",
      "metadata": {
        "id": "TCTtKuRcJQjP",
        "colab_type": "code",
        "colab": {}
      },
      "source": [
        ""
      ],
      "execution_count": 0,
      "outputs": []
    }
  ]
}