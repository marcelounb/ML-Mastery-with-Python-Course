{
  "nbformat": 4,
  "nbformat_minor": 0,
  "metadata": {
    "colab": {
      "name": "chap7_Prepare Your Data.ipynb",
      "provenance": [],
      "authorship_tag": "ABX9TyP4rY/9HdAZgl5GDt4lb25p",
      "include_colab_link": true
    },
    "kernelspec": {
      "name": "python3",
      "display_name": "Python 3"
    }
  },
  "cells": [
    {
      "cell_type": "markdown",
      "metadata": {
        "id": "view-in-github",
        "colab_type": "text"
      },
      "source": [
        "<a href=\"https://colab.research.google.com/github/marcelounb/ML-Mastery-with-Python-Course/blob/master/chap7_Prepare_Your_Data.ipynb\" target=\"_parent\"><img src=\"https://colab.research.google.com/assets/colab-badge.svg\" alt=\"Open In Colab\"/></a>"
      ]
    },
    {
      "cell_type": "code",
      "metadata": {
        "id": "jTBqWI8yxgGf",
        "colab_type": "code",
        "colab": {}
      },
      "source": [
        "import pandas as pd\n",
        "import numpy as np\n",
        "import matplotlib.pyplot as plt\n",
        "import seaborn as sns\n",
        "import random\n",
        "import cv2\n",
        "from cv2 import cvtColor\n",
        "from google.colab.patches import cv2_imshow\n",
        "import csv\n",
        "\n",
        "from pandas import read_csv \n",
        "from numpy import set_printoptions \n",
        "from sklearn.preprocessing import MinMaxScaler\n",
        "from sklearn.preprocessing import StandardScaler\n",
        "from sklearn.preprocessing import Normalizer\n",
        "from sklearn.preprocessing import Binarizer\n",
        "from numpy import set_printoptions"
      ],
      "execution_count": 0,
      "outputs": []
    },
    {
      "cell_type": "code",
      "metadata": {
        "id": "MKznkQT6yqYD",
        "colab_type": "code",
        "colab": {}
      },
      "source": [
        "filename = '/content/diabetes_moddd.csv' \n",
        "names = ['preg', 'plas', 'pres', 'skin', 'test', 'mass', 'pedi', 'age', 'class'] \n",
        "dataframe = read_csv(filename, names=names) \n",
        "array = dataframe.values \n",
        "\n",
        "# separate array into input and output components \n",
        "X = array[:,0:8] \n",
        "Y = array[:,8] "
      ],
      "execution_count": 0,
      "outputs": []
    },
    {
      "cell_type": "code",
      "metadata": {
        "id": "jiCqRbTY1732",
        "colab_type": "code",
        "colab": {
          "base_uri": "https://localhost:8080/",
          "height": 144
        },
        "outputId": "0e1dc232-59ea-4e19-a8e6-8630e7cee5d3"
      },
      "source": [
        "X"
      ],
      "execution_count": 7,
      "outputs": [
        {
          "output_type": "execute_result",
          "data": {
            "text/plain": [
              "array([[  6.   , 148.   ,  72.   , ...,  33.6  ,   0.627,  50.   ],\n",
              "       [  1.   ,  85.   ,  66.   , ...,  26.6  ,   0.351,  31.   ],\n",
              "       [  8.   , 183.   ,  64.   , ...,  23.3  ,   0.672,  32.   ],\n",
              "       ...,\n",
              "       [  5.   , 121.   ,  72.   , ...,  26.2  ,   0.245,  30.   ],\n",
              "       [  1.   , 126.   ,  60.   , ...,  30.1  ,   0.349,  47.   ],\n",
              "       [  1.   ,  93.   ,  70.   , ...,  30.4  ,   0.315,  23.   ]])"
            ]
          },
          "metadata": {
            "tags": []
          },
          "execution_count": 7
        }
      ]
    },
    {
      "cell_type": "markdown",
      "metadata": {
        "id": "JuEQAV4W2zTa",
        "colab_type": "text"
      },
      "source": [
        "# Rescale data"
      ]
    },
    {
      "cell_type": "code",
      "metadata": {
        "id": "AhWrdwzp1-AF",
        "colab_type": "code",
        "colab": {}
      },
      "source": [
        "# When your data is comprised of attributes with varying scales, many machine learning algorithms can beneﬁt from rescaling\n",
        "# the attributes to all have the same scale.\n",
        "# Often this is referred to as normalization and attributes are often rescaled into the range between 0 and 1\n",
        "scaler = MinMaxScaler(feature_range=(0, 1)) \n",
        "rescaledX = scaler.fit_transform(X) \n",
        "# summarize transformed data \n",
        "set_printoptions(precision=3)"
      ],
      "execution_count": 0,
      "outputs": []
    },
    {
      "cell_type": "code",
      "metadata": {
        "id": "QMGhDGI72BuL",
        "colab_type": "code",
        "colab": {
          "base_uri": "https://localhost:8080/",
          "height": 144
        },
        "outputId": "e781e6b0-4598-4d40-e8c2-acfe4ff885cd"
      },
      "source": [
        "rescaledX "
      ],
      "execution_count": 10,
      "outputs": [
        {
          "output_type": "execute_result",
          "data": {
            "text/plain": [
              "array([[0.353, 0.744, 0.59 , ..., 0.501, 0.234, 0.483],\n",
              "       [0.059, 0.427, 0.541, ..., 0.396, 0.117, 0.167],\n",
              "       [0.471, 0.92 , 0.525, ..., 0.347, 0.254, 0.183],\n",
              "       ...,\n",
              "       [0.294, 0.608, 0.59 , ..., 0.39 , 0.071, 0.15 ],\n",
              "       [0.059, 0.633, 0.492, ..., 0.449, 0.116, 0.433],\n",
              "       [0.059, 0.467, 0.574, ..., 0.453, 0.101, 0.033]])"
            ]
          },
          "metadata": {
            "tags": []
          },
          "execution_count": 10
        }
      ]
    },
    {
      "cell_type": "markdown",
      "metadata": {
        "id": "KE-7O0Xg233s",
        "colab_type": "text"
      },
      "source": [
        "# Standardize data"
      ]
    },
    {
      "cell_type": "code",
      "metadata": {
        "id": "M6NsOL7j2C7j",
        "colab_type": "code",
        "colab": {
          "base_uri": "https://localhost:8080/",
          "height": 144
        },
        "outputId": "e778d604-6569-4fa0-fe97-f8d6460ecc60"
      },
      "source": [
        "# Standardization is a useful technique to transform attributes with a Gaussian distribution \n",
        "# and diﬀering means and standard deviations to a standard Gaussian distribution with a mean of 0 and a standard deviation of 1.\n",
        "#  It is most suitable for techniques that assume a Gaussian distribution in the input variables and \n",
        "# work better with rescaled data, such as linear regression, logistic regression and linear discriminate analysis\n",
        "scaler = StandardScaler().fit(X) \n",
        "rescaledX = scaler.transform(X) \n",
        "# summarize transformed data \n",
        "set_printoptions(precision=3) \n",
        "X"
      ],
      "execution_count": 14,
      "outputs": [
        {
          "output_type": "execute_result",
          "data": {
            "text/plain": [
              "array([[  6.   , 148.   ,  72.   , ...,  33.6  ,   0.627,  50.   ],\n",
              "       [  1.   ,  85.   ,  66.   , ...,  26.6  ,   0.351,  31.   ],\n",
              "       [  8.   , 183.   ,  64.   , ...,  23.3  ,   0.672,  32.   ],\n",
              "       ...,\n",
              "       [  5.   , 121.   ,  72.   , ...,  26.2  ,   0.245,  30.   ],\n",
              "       [  1.   , 126.   ,  60.   , ...,  30.1  ,   0.349,  47.   ],\n",
              "       [  1.   ,  93.   ,  70.   , ...,  30.4  ,   0.315,  23.   ]])"
            ]
          },
          "metadata": {
            "tags": []
          },
          "execution_count": 14
        }
      ]
    },
    {
      "cell_type": "code",
      "metadata": {
        "id": "NNajIint3fki",
        "colab_type": "code",
        "colab": {
          "base_uri": "https://localhost:8080/",
          "height": 108
        },
        "outputId": "125f1f68-98a0-46c4-f5ca-793db3416541"
      },
      "source": [
        "rescaledX[0:5,:]"
      ],
      "execution_count": 15,
      "outputs": [
        {
          "output_type": "execute_result",
          "data": {
            "text/plain": [
              "array([[ 0.64 ,  0.848,  0.15 ,  0.907, -0.693,  0.204,  0.468,  1.426],\n",
              "       [-0.845, -1.123, -0.161,  0.531, -0.693, -0.684, -0.365, -0.191],\n",
              "       [ 1.234,  1.944, -0.264, -1.288, -0.693, -1.103,  0.604, -0.106],\n",
              "       [-0.845, -0.998, -0.161,  0.155,  0.123, -0.494, -0.921, -1.042],\n",
              "       [-1.142,  0.504, -1.505,  0.907,  0.766,  1.41 ,  5.485, -0.02 ]])"
            ]
          },
          "metadata": {
            "tags": []
          },
          "execution_count": 15
        }
      ]
    },
    {
      "cell_type": "markdown",
      "metadata": {
        "id": "pmBMPERn5FMa",
        "colab_type": "text"
      },
      "source": [
        "# Normalize data"
      ]
    },
    {
      "cell_type": "code",
      "metadata": {
        "id": "f3vbCI6A5Cjg",
        "colab_type": "code",
        "colab": {
          "base_uri": "https://localhost:8080/",
          "height": 144
        },
        "outputId": "32014766-28c6-4fe7-be8c-231b39f6cd6c"
      },
      "source": [
        " # rescaling each observation (row) to have a length of 1 (called a unit norm or a vector with the length of 1 in linear algebra). \n",
        " # This pre-processing method can be useful for sparse datasets (lots of zeros) with attributes of varying scales \n",
        " # when using algorithms that weight input values such as neural networks and algorithms that use distance measures \n",
        " # such as k-Nearest Neighbors. \n",
        "scaler = Normalizer().fit(X) \n",
        "normalizedX = scaler.transform(X) \n",
        "# summarize transformed data \n",
        "set_printoptions(precision=3) \n",
        "X"
      ],
      "execution_count": 17,
      "outputs": [
        {
          "output_type": "execute_result",
          "data": {
            "text/plain": [
              "array([[  6.   , 148.   ,  72.   , ...,  33.6  ,   0.627,  50.   ],\n",
              "       [  1.   ,  85.   ,  66.   , ...,  26.6  ,   0.351,  31.   ],\n",
              "       [  8.   , 183.   ,  64.   , ...,  23.3  ,   0.672,  32.   ],\n",
              "       ...,\n",
              "       [  5.   , 121.   ,  72.   , ...,  26.2  ,   0.245,  30.   ],\n",
              "       [  1.   , 126.   ,  60.   , ...,  30.1  ,   0.349,  47.   ],\n",
              "       [  1.   ,  93.   ,  70.   , ...,  30.4  ,   0.315,  23.   ]])"
            ]
          },
          "metadata": {
            "tags": []
          },
          "execution_count": 17
        }
      ]
    },
    {
      "cell_type": "code",
      "metadata": {
        "id": "F3HoiQxk6i5s",
        "colab_type": "code",
        "colab": {
          "base_uri": "https://localhost:8080/",
          "height": 108
        },
        "outputId": "f42ed1b0-2034-40e3-978d-fae96e4a6bb5"
      },
      "source": [
        "normalizedX[0:5,:]"
      ],
      "execution_count": 18,
      "outputs": [
        {
          "output_type": "execute_result",
          "data": {
            "text/plain": [
              "array([[0.034, 0.828, 0.403, 0.196, 0.   , 0.188, 0.004, 0.28 ],\n",
              "       [0.008, 0.716, 0.556, 0.244, 0.   , 0.224, 0.003, 0.261],\n",
              "       [0.04 , 0.924, 0.323, 0.   , 0.   , 0.118, 0.003, 0.162],\n",
              "       [0.007, 0.588, 0.436, 0.152, 0.622, 0.186, 0.001, 0.139],\n",
              "       [0.   , 0.596, 0.174, 0.152, 0.731, 0.188, 0.01 , 0.144]])"
            ]
          },
          "metadata": {
            "tags": []
          },
          "execution_count": 18
        }
      ]
    },
    {
      "cell_type": "markdown",
      "metadata": {
        "id": "lL0u2Ph65j3W",
        "colab_type": "text"
      },
      "source": [
        "# Binarize data"
      ]
    },
    {
      "cell_type": "code",
      "metadata": {
        "id": "LlBfIssG5qt9",
        "colab_type": "code",
        "colab": {
          "base_uri": "https://localhost:8080/",
          "height": 144
        },
        "outputId": "3625c96e-edaa-4d26-f024-ec2fa1f6e6e6"
      },
      "source": [
        "# You can transform your data using a binary threshold. All values above the threshold are marked 1\n",
        "#  and all equal to or below are marked as 0.\n",
        "# can be useful when you have probabilities that you want to make crisp values. It is also useful \n",
        "# when feature engineering and you want to add new features that indicate something meaningful.\n",
        "\n",
        "binarizer = Binarizer(threshold=0.0).fit(X) \n",
        "binaryX = binarizer.transform(X) \n",
        "# summarize transformed data \n",
        "set_printoptions(precision=3) \n",
        "X"
      ],
      "execution_count": 19,
      "outputs": [
        {
          "output_type": "execute_result",
          "data": {
            "text/plain": [
              "array([[  6.   , 148.   ,  72.   , ...,  33.6  ,   0.627,  50.   ],\n",
              "       [  1.   ,  85.   ,  66.   , ...,  26.6  ,   0.351,  31.   ],\n",
              "       [  8.   , 183.   ,  64.   , ...,  23.3  ,   0.672,  32.   ],\n",
              "       ...,\n",
              "       [  5.   , 121.   ,  72.   , ...,  26.2  ,   0.245,  30.   ],\n",
              "       [  1.   , 126.   ,  60.   , ...,  30.1  ,   0.349,  47.   ],\n",
              "       [  1.   ,  93.   ,  70.   , ...,  30.4  ,   0.315,  23.   ]])"
            ]
          },
          "metadata": {
            "tags": []
          },
          "execution_count": 19
        }
      ]
    },
    {
      "cell_type": "code",
      "metadata": {
        "id": "fMyMkkh767T5",
        "colab_type": "code",
        "colab": {
          "base_uri": "https://localhost:8080/",
          "height": 108
        },
        "outputId": "1560054d-c663-4293-f507-e80677457d45"
      },
      "source": [
        "binaryX[0:5,:]"
      ],
      "execution_count": 20,
      "outputs": [
        {
          "output_type": "execute_result",
          "data": {
            "text/plain": [
              "array([[1., 1., 1., 1., 0., 1., 1., 1.],\n",
              "       [1., 1., 1., 1., 0., 1., 1., 1.],\n",
              "       [1., 1., 1., 0., 0., 1., 1., 1.],\n",
              "       [1., 1., 1., 1., 1., 1., 1., 1.],\n",
              "       [0., 1., 1., 1., 1., 1., 1., 1.]])"
            ]
          },
          "metadata": {
            "tags": []
          },
          "execution_count": 20
        }
      ]
    }
  ]
}