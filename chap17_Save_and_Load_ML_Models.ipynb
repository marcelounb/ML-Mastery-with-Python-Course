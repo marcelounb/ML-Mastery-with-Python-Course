{
  "nbformat": 4,
  "nbformat_minor": 0,
  "metadata": {
    "colab": {
      "name": "chap17_Save and Load ML Models.ipynb",
      "provenance": [],
      "toc_visible": true,
      "authorship_tag": "ABX9TyNd6iqAKaLzDCisa9s+x1o3",
      "include_colab_link": true
    },
    "kernelspec": {
      "name": "python3",
      "display_name": "Python 3"
    }
  },
  "cells": [
    {
      "cell_type": "markdown",
      "metadata": {
        "id": "view-in-github",
        "colab_type": "text"
      },
      "source": [
        "<a href=\"https://colab.research.google.com/github/marcelounb/ML-Mastery-with-Python-Course/blob/master/chap17_Save_and_Load_ML_Models.ipynb\" target=\"_parent\"><img src=\"https://colab.research.google.com/assets/colab-badge.svg\" alt=\"Open In Colab\"/></a>"
      ]
    },
    {
      "cell_type": "markdown",
      "metadata": {
        "id": "zNCg92NjCWDT",
        "colab_type": "text"
      },
      "source": [
        "# Finalize Your Model with pickle\n"
      ]
    },
    {
      "cell_type": "markdown",
      "metadata": {
        "id": "AqOCMwCJCYog",
        "colab_type": "text"
      },
      "source": [
        "Pickle is the standard way of serializing objects in Python. You can use the pickle1 operation to serialize your machine learning algorithms and save the serialized format to a ﬁle. Later you can load this ﬁle to deserialize your model and use it to make new predictions"
      ]
    },
    {
      "cell_type": "code",
      "metadata": {
        "id": "cvrruuFeAg6F",
        "colab_type": "code",
        "colab": {}
      },
      "source": [
        "from pandas import read_csv \n",
        "from sklearn.model_selection import train_test_split \n",
        "from sklearn.linear_model import LogisticRegression \n",
        "from pickle import dump \n",
        "from pickle import load"
      ],
      "execution_count": 0,
      "outputs": []
    },
    {
      "cell_type": "code",
      "metadata": {
        "id": "QYJK9FCrCoa_",
        "colab_type": "code",
        "colab": {}
      },
      "source": [
        "# load data \n",
        "filename = '/content/diabetes_moddd.csv' \n",
        "names = ['preg', 'plas', 'pres', 'skin', 'test', 'mass', 'pedi', 'age', 'class'] \n",
        "dataframe = read_csv(filename, names=names) \n",
        "array = dataframe.values \n",
        "X = array[:,0:8] \n",
        "Y = array[:,8]"
      ],
      "execution_count": 0,
      "outputs": []
    },
    {
      "cell_type": "code",
      "metadata": {
        "id": "yJdVhBYYCs4m",
        "colab_type": "code",
        "colab": {
          "base_uri": "https://localhost:8080/",
          "height": 106
        },
        "outputId": "6df35542-7e68-4479-f810-1125341a6f88"
      },
      "source": [
        "# Fit the model on 33% \n",
        "X_train, X_test, Y_train, Y_test = train_test_split(X, Y, test_size=0.33, random_state=7) \n",
        "model = LogisticRegression(max_iter=200) \n",
        "model.fit(X_train, Y_train)"
      ],
      "execution_count": 4,
      "outputs": [
        {
          "output_type": "execute_result",
          "data": {
            "text/plain": [
              "LogisticRegression(C=1.0, class_weight=None, dual=False, fit_intercept=True,\n",
              "                   intercept_scaling=1, l1_ratio=None, max_iter=200,\n",
              "                   multi_class='auto', n_jobs=None, penalty='l2',\n",
              "                   random_state=None, solver='lbfgs', tol=0.0001, verbose=0,\n",
              "                   warm_start=False)"
            ]
          },
          "metadata": {
            "tags": []
          },
          "execution_count": 4
        }
      ]
    },
    {
      "cell_type": "code",
      "metadata": {
        "id": "DV4AW231DirQ",
        "colab_type": "code",
        "colab": {
          "base_uri": "https://localhost:8080/",
          "height": 35
        },
        "outputId": "438686eb-a7cb-4708-917b-47b9418eee3d"
      },
      "source": [
        "model.score(X_train, Y_train)"
      ],
      "execution_count": 10,
      "outputs": [
        {
          "output_type": "execute_result",
          "data": {
            "text/plain": [
              "0.7762645914396887"
            ]
          },
          "metadata": {
            "tags": []
          },
          "execution_count": 10
        }
      ]
    },
    {
      "cell_type": "code",
      "metadata": {
        "id": "BCyxdbxbC4UZ",
        "colab_type": "code",
        "colab": {}
      },
      "source": [
        "# save the model to disk \n",
        "filename = 'finalized_model.sav' \n",
        "dump(model, open(filename, 'wb'))"
      ],
      "execution_count": 0,
      "outputs": []
    },
    {
      "cell_type": "code",
      "metadata": {
        "id": "hf3Zj19XDOvF",
        "colab_type": "code",
        "colab": {
          "base_uri": "https://localhost:8080/",
          "height": 35
        },
        "outputId": "c5f55a8c-d463-45e7-8acd-fbab1350edf2"
      },
      "source": [
        "# some time later...\n",
        "\n",
        "# load the model from disk \n",
        "loaded_model = load(open(filename, 'rb')) \n",
        "result = loaded_model.score(X_test, Y_test)\n",
        "result"
      ],
      "execution_count": 12,
      "outputs": [
        {
          "output_type": "execute_result",
          "data": {
            "text/plain": [
              "0.7874015748031497"
            ]
          },
          "metadata": {
            "tags": []
          },
          "execution_count": 12
        }
      ]
    },
    {
      "cell_type": "markdown",
      "metadata": {
        "id": "4-Ci9ydcGlak",
        "colab_type": "text"
      },
      "source": [
        "# Finalize Your Model with Joblib\n"
      ]
    },
    {
      "cell_type": "markdown",
      "metadata": {
        "id": "yQG4-enWGnv8",
        "colab_type": "text"
      },
      "source": [
        "Joblib2 library is part of the SciPy ecosystem and provides utilities for pipelining Python jobs. It provides utilities for saving and loading Python objects that make use of NumPy data structures, eﬃciently3. This can be useful for some machine learning algorithms that require a lot of parameters or store the entire dataset (e.g. k-Nearest Neighbors). The example below demonstrates how you can train a logistic regression model on the Pima Indians onset of diabetes dataset, save the model to ﬁle using Joblib and load it to make predictions on the unseen test set.\n"
      ]
    },
    {
      "cell_type": "code",
      "metadata": {
        "id": "1KNWLfLdG1cQ",
        "colab_type": "code",
        "colab": {}
      },
      "source": [
        "# Save Model Using joblib \n",
        "from pandas import read_csv \n",
        "from sklearn.model_selection import train_test_split \n",
        "from sklearn.linear_model import LogisticRegression \n",
        "from sklearn.externals.joblib import dump as dump2\n",
        "from sklearn.externals.joblib import load as load2"
      ],
      "execution_count": 0,
      "outputs": []
    },
    {
      "cell_type": "code",
      "metadata": {
        "id": "ic6bFWVIKj8w",
        "colab_type": "code",
        "colab": {
          "base_uri": "https://localhost:8080/",
          "height": 55
        },
        "outputId": "c9608fee-8b7f-4c6d-96d5-7ed280bb49a3"
      },
      "source": [
        "# Data loaded from above like:\n",
        "\"\"\"\n",
        "filename = '/content/diabetes_moddd.csv' \n",
        "names = ['preg', 'plas', 'pres', 'skin', 'test', 'mass', 'pedi', 'age', 'class'] \n",
        "dataframe = read_csv(filename, names=names) \n",
        "array = dataframe.values \n",
        "X = array[:,0:8] \n",
        "Y = array[:,8]\n",
        "\"\"\""
      ],
      "execution_count": 13,
      "outputs": [
        {
          "output_type": "execute_result",
          "data": {
            "text/plain": [
              "\"\\nfilename = '/content/diabetes_moddd.csv' \\nnames = ['preg', 'plas', 'pres', 'skin', 'test', 'mass', 'pedi', 'age', 'class'] \\ndataframe = read_csv(filename, names=names) \\narray = dataframe.values \\nX = array[:,0:8] \\nY = array[:,8]\\n\""
            ]
          },
          "metadata": {
            "tags": []
          },
          "execution_count": 13
        }
      ]
    },
    {
      "cell_type": "code",
      "metadata": {
        "id": "D0CfTAHBKq3G",
        "colab_type": "code",
        "colab": {
          "base_uri": "https://localhost:8080/",
          "height": 106
        },
        "outputId": "54e80084-415d-40b5-d0b0-58c0d6a15fb6"
      },
      "source": [
        "# Fit the model on 33% \n",
        "X_train, X_test, Y_train, Y_test = train_test_split(X, Y, test_size=0.33, random_state=7) \n",
        "model = LogisticRegression(max_iter=200) \n",
        "model.fit(X_train, Y_train)"
      ],
      "execution_count": 14,
      "outputs": [
        {
          "output_type": "execute_result",
          "data": {
            "text/plain": [
              "LogisticRegression(C=1.0, class_weight=None, dual=False, fit_intercept=True,\n",
              "                   intercept_scaling=1, l1_ratio=None, max_iter=200,\n",
              "                   multi_class='auto', n_jobs=None, penalty='l2',\n",
              "                   random_state=None, solver='lbfgs', tol=0.0001, verbose=0,\n",
              "                   warm_start=False)"
            ]
          },
          "metadata": {
            "tags": []
          },
          "execution_count": 14
        }
      ]
    },
    {
      "cell_type": "code",
      "metadata": {
        "id": "5_s3KZv0K3hO",
        "colab_type": "code",
        "colab": {}
      },
      "source": [
        "# save the model to disk \n",
        "filename = 'finalized_model2.sav' \n",
        "dump2(model, open(filename, 'wb'))"
      ],
      "execution_count": 0,
      "outputs": []
    },
    {
      "cell_type": "code",
      "metadata": {
        "id": "CxL6ZLpLK-Zz",
        "colab_type": "code",
        "colab": {
          "base_uri": "https://localhost:8080/",
          "height": 35
        },
        "outputId": "1463af86-da86-4bb7-d673-3e59a144d9b9"
      },
      "source": [
        "# some time later...\n",
        "\n",
        "\n",
        "# load the model from disk \n",
        "loaded_model = load2(open(filename, 'rb')) \n",
        "result = loaded_model.score(X_test, Y_test)\n",
        "result"
      ],
      "execution_count": 19,
      "outputs": [
        {
          "output_type": "execute_result",
          "data": {
            "text/plain": [
              "0.7874015748031497"
            ]
          },
          "metadata": {
            "tags": []
          },
          "execution_count": 19
        }
      ]
    },
    {
      "cell_type": "markdown",
      "metadata": {
        "id": "22BTAZXiLzqj",
        "colab_type": "text"
      },
      "source": [
        "# Tips for Finalizing Your Model"
      ]
    },
    {
      "cell_type": "markdown",
      "metadata": {
        "id": "4HGgFXd_L1K3",
        "colab_type": "text"
      },
      "source": [
        "**Python Version**. Take note of the Python version. You almost certainly require the same major (and maybe minor) version of Python used to serialize the model when you later load it and deserialize it.\n"
      ]
    },
    {
      "cell_type": "markdown",
      "metadata": {
        "id": "I-jGcf3TL4Ym",
        "colab_type": "text"
      },
      "source": [
        "**Library Versions**. The version of all major libraries used in your machine learning project almost certainly need to be the same when deserializing a saved model. This is not limited to the version of NumPy and the version of scikit-learn."
      ]
    },
    {
      "cell_type": "markdown",
      "metadata": {
        "id": "mp4VX8kqL7w7",
        "colab_type": "text"
      },
      "source": [
        "**Manual Serialization**. You might like to manually output the parameters of your learned model so that you can use them directly in scikit-learn or another platform in the future. Often the techniques used internally by machine learning algorithms to make predictions are a lot simpler than those used to learn the parameters can may be easy to implement in custom code that you have control over.\n"
      ]
    }
  ]
}