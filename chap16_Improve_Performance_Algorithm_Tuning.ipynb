{
  "nbformat": 4,
  "nbformat_minor": 0,
  "metadata": {
    "colab": {
      "name": "chap16_Improve Performance - Algorithm Tuning.ipynb",
      "provenance": [],
      "authorship_tag": "ABX9TyOaY1uwZZ0lFjG+ttjWFTDn",
      "include_colab_link": true
    },
    "kernelspec": {
      "name": "python3",
      "display_name": "Python 3"
    }
  },
  "cells": [
    {
      "cell_type": "markdown",
      "metadata": {
        "id": "view-in-github",
        "colab_type": "text"
      },
      "source": [
        "<a href=\"https://colab.research.google.com/github/marcelounb/ML-Mastery-with-Python-Course/blob/master/chap16_Improve_Performance_Algorithm_Tuning.ipynb\" target=\"_parent\"><img src=\"https://colab.research.google.com/assets/colab-badge.svg\" alt=\"Open In Colab\"/></a>"
      ]
    },
    {
      "cell_type": "markdown",
      "metadata": {
        "id": "Od0Q6noqmbvC",
        "colab_type": "text"
      },
      "source": [
        " Python scikit-learn provides two simple methods for algorithm parameter tuning:\n",
        "\n",
        "\n",
        ". Grid Search Parameter Tuning\n",
        "\n",
        "\n",
        ". Random Search Parameter Tuning\n"
      ]
    },
    {
      "cell_type": "code",
      "metadata": {
        "id": "Kzt2aVlPnwFB",
        "colab_type": "code",
        "colab": {}
      },
      "source": [
        "import numpy \n",
        "from pandas import read_csv \n",
        "from sklearn.linear_model import Ridge \n",
        "from sklearn.model_selection import GridSearchCV \n",
        "\n",
        "from scipy.stats import uniform \n",
        "from sklearn.model_selection import RandomizedSearchCV"
      ],
      "execution_count": 0,
      "outputs": []
    },
    {
      "cell_type": "code",
      "metadata": {
        "id": "HHm1K9vYn71d",
        "colab_type": "code",
        "colab": {}
      },
      "source": [
        "filename = '/content/diabetes_moddd.csv' \n",
        "names = ['preg', 'plas', 'pres', 'skin', 'test', 'mass', 'pedi', 'age', 'class'] \n",
        "dataframe = read_csv(filename, names=names) \n",
        "array = dataframe.values \n",
        "X = array[:,0:8] \n",
        "Y = array[:,8] "
      ],
      "execution_count": 0,
      "outputs": []
    },
    {
      "cell_type": "markdown",
      "metadata": {
        "id": "UrCgGvf0no3H",
        "colab_type": "text"
      },
      "source": [
        "**Grid Search Parameter Tuning** -  The example below evaluates diﬀerent alpha values for the Ridge Regression algorithm on the standard diabetes dataset. This is a one-dimensional grid search"
      ]
    },
    {
      "cell_type": "code",
      "metadata": {
        "id": "ksRJ5QMtmUp8",
        "colab_type": "code",
        "colab": {
          "base_uri": "https://localhost:8080/",
          "height": 159
        },
        "outputId": "5bfddf96-ced2-4470-a281-042ce08bff7e"
      },
      "source": [
        "alphas = numpy.array([1,0.1,0.01,0.001,0.0001,0]) \n",
        "param_grid = dict(alpha=alphas) \n",
        "model = Ridge() \n",
        "grid = GridSearchCV(estimator=model, param_grid=param_grid) \n",
        "grid.fit(X, Y) "
      ],
      "execution_count": 3,
      "outputs": [
        {
          "output_type": "execute_result",
          "data": {
            "text/plain": [
              "GridSearchCV(cv=None, error_score=nan,\n",
              "             estimator=Ridge(alpha=1.0, copy_X=True, fit_intercept=True,\n",
              "                             max_iter=None, normalize=False, random_state=None,\n",
              "                             solver='auto', tol=0.001),\n",
              "             iid='deprecated', n_jobs=None,\n",
              "             param_grid={'alpha': array([1.e+00, 1.e-01, 1.e-02, 1.e-03, 1.e-04, 0.e+00])},\n",
              "             pre_dispatch='2*n_jobs', refit=True, return_train_score=False,\n",
              "             scoring=None, verbose=0)"
            ]
          },
          "metadata": {
            "tags": []
          },
          "execution_count": 3
        }
      ]
    },
    {
      "cell_type": "code",
      "metadata": {
        "id": "_2iceIVyoeXb",
        "colab_type": "code",
        "colab": {
          "base_uri": "https://localhost:8080/",
          "height": 35
        },
        "outputId": "a681f035-7663-4c4e-b2f0-f34c041e88df"
      },
      "source": [
        "grid.best_score_"
      ],
      "execution_count": 4,
      "outputs": [
        {
          "output_type": "execute_result",
          "data": {
            "text/plain": [
              "0.27610844129292433"
            ]
          },
          "metadata": {
            "tags": []
          },
          "execution_count": 4
        }
      ]
    },
    {
      "cell_type": "code",
      "metadata": {
        "id": "45UbeGT2oiL-",
        "colab_type": "code",
        "colab": {
          "base_uri": "https://localhost:8080/",
          "height": 35
        },
        "outputId": "7f454b21-e2d3-46d7-d188-2fab0fbd6628"
      },
      "source": [
        "grid.best_estimator_.alpha"
      ],
      "execution_count": 5,
      "outputs": [
        {
          "output_type": "execute_result",
          "data": {
            "text/plain": [
              "1.0"
            ]
          },
          "metadata": {
            "tags": []
          },
          "execution_count": 5
        }
      ]
    },
    {
      "cell_type": "markdown",
      "metadata": {
        "id": "9VuJv11jopuA",
        "colab_type": "text"
      },
      "source": [
        "Running the example lists out the optimal score achieved and the set of parameters in the grid that achieved that score. In this case the alpha value of 1.0.\n"
      ]
    },
    {
      "cell_type": "markdown",
      "metadata": {
        "id": "YkmAcnU4orbO",
        "colab_type": "text"
      },
      "source": [
        "**Random Search Parameter Tuning** - is an approach to parameter tuning that will sample algorithm parameters from a random distribution (i.e. uniform) for a ﬁxed number of iterations. A model is constructed and evaluated for each combination of parameters chosen. You can perform a random search for algorithm parameters using the RandomizedSearchCV class2. The example below evaluates diﬀerent random alpha values between 0 and 1 for the Ridge Regression algorithm on the standard diabetes dataset. A total of 100 iterations are performed with uniformly random alpha values selected in the range between 0 and 1 (the range that alpha values can take).\n"
      ]
    },
    {
      "cell_type": "code",
      "metadata": {
        "id": "V6FHWc6qokwN",
        "colab_type": "code",
        "colab": {
          "base_uri": "https://localhost:8080/",
          "height": 177
        },
        "outputId": "dde23b47-03b2-47d0-992d-6c4c44297c03"
      },
      "source": [
        "param_grid = {'alpha': uniform()} \n",
        "model = Ridge() \n",
        "rsearch = RandomizedSearchCV(estimator=model, param_distributions=param_grid, n_iter=100, random_state=7) \n",
        "rsearch.fit(X, Y) "
      ],
      "execution_count": 6,
      "outputs": [
        {
          "output_type": "execute_result",
          "data": {
            "text/plain": [
              "RandomizedSearchCV(cv=None, error_score=nan,\n",
              "                   estimator=Ridge(alpha=1.0, copy_X=True, fit_intercept=True,\n",
              "                                   max_iter=None, normalize=False,\n",
              "                                   random_state=None, solver='auto',\n",
              "                                   tol=0.001),\n",
              "                   iid='deprecated', n_iter=100, n_jobs=None,\n",
              "                   param_distributions={'alpha': <scipy.stats._distn_infrastructure.rv_frozen object at 0x7f1fe8054e48>},\n",
              "                   pre_dispatch='2*n_jobs', random_state=7, refit=True,\n",
              "                   return_train_score=False, scoring=None, verbose=0)"
            ]
          },
          "metadata": {
            "tags": []
          },
          "execution_count": 6
        }
      ]
    },
    {
      "cell_type": "code",
      "metadata": {
        "id": "odD-28yAvAV7",
        "colab_type": "code",
        "colab": {
          "base_uri": "https://localhost:8080/",
          "height": 35
        },
        "outputId": "178756ba-7398-41b3-f050-6110d7d4a1e1"
      },
      "source": [
        "grid.best_score_"
      ],
      "execution_count": 7,
      "outputs": [
        {
          "output_type": "execute_result",
          "data": {
            "text/plain": [
              "0.27610844129292433"
            ]
          },
          "metadata": {
            "tags": []
          },
          "execution_count": 7
        }
      ]
    },
    {
      "cell_type": "code",
      "metadata": {
        "id": "9Y_PjE4ivE7H",
        "colab_type": "code",
        "colab": {
          "base_uri": "https://localhost:8080/",
          "height": 35
        },
        "outputId": "d7a1315a-d62a-46ef-ff96-ad1a0d60cdeb"
      },
      "source": [
        "grid.best_estimator_.alpha"
      ],
      "execution_count": 8,
      "outputs": [
        {
          "output_type": "execute_result",
          "data": {
            "text/plain": [
              "1.0"
            ]
          },
          "metadata": {
            "tags": []
          },
          "execution_count": 8
        }
      ]
    }
  ]
}