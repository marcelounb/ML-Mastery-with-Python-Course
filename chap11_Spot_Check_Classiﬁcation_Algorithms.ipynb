{
  "nbformat": 4,
  "nbformat_minor": 0,
  "metadata": {
    "colab": {
      "name": "chap11_Spot-Check Classiﬁcation Algorithms.ipynb",
      "provenance": [],
      "toc_visible": true,
      "authorship_tag": "ABX9TyOenwZ4IBlWODb1pGFhn8EA",
      "include_colab_link": true
    },
    "kernelspec": {
      "name": "python3",
      "display_name": "Python 3"
    }
  },
  "cells": [
    {
      "cell_type": "markdown",
      "metadata": {
        "id": "view-in-github",
        "colab_type": "text"
      },
      "source": [
        "<a href=\"https://colab.research.google.com/github/marcelounb/ML-Mastery-with-Python-Course/blob/master/chap11_Spot_Check_Classi%EF%AC%81cation_Algorithms.ipynb\" target=\"_parent\"><img src=\"https://colab.research.google.com/assets/colab-badge.svg\" alt=\"Open In Colab\"/></a>"
      ]
    },
    {
      "cell_type": "markdown",
      "metadata": {
        "id": "G8U4xKvhZSoS",
        "colab_type": "text"
      },
      "source": [
        "You cannot know which algorithms are best suited to your problem beforehand. You must trial a number of methods and focus attention on those that prove themselves the most promising"
      ]
    },
    {
      "cell_type": "markdown",
      "metadata": {
        "id": "ccCfyMqMZV3I",
        "colab_type": "text"
      },
      "source": [
        "# Algorithms Overview\n"
      ]
    },
    {
      "cell_type": "markdown",
      "metadata": {
        "id": "UxfciEzMZfez",
        "colab_type": "text"
      },
      "source": [
        "We are going to take a look at six classiﬁcation algorithms that you can spot-check on your dataset. Starting with two linear machine learning algorithms:\n",
        "\n",
        "*   Logistic Regression\n",
        "*   Linear Discriminant Analysis\n",
        "\n",
        "Then looking at four nonlinear machine learning algorithms:\n",
        " \n",
        "*   k-Nearest Neighbors\n",
        "*   Naive Bayes\n",
        "*   Classiﬁcation and Regression Trees\n",
        "*   Support Vector Machines"
      ]
    },
    {
      "cell_type": "markdown",
      "metadata": {
        "id": "JX0YhGHVacKN",
        "colab_type": "text"
      },
      "source": [
        "# Linear Machine Learning Algorithms"
      ]
    },
    {
      "cell_type": "code",
      "metadata": {
        "id": "kj-H_1djapxC",
        "colab_type": "code",
        "colab": {}
      },
      "source": [
        "from pandas import read_csv \n",
        "from sklearn.model_selection import KFold \n",
        "from sklearn.model_selection import cross_val_score\n",
        "from sklearn.linear_model import LogisticRegression\n",
        "from sklearn.discriminant_analysis import LinearDiscriminantAnalysis "
      ],
      "execution_count": 0,
      "outputs": []
    },
    {
      "cell_type": "code",
      "metadata": {
        "id": "pbFecSHHa9bC",
        "colab_type": "code",
        "colab": {}
      },
      "source": [
        "filename = '/content/diabetes_moddd.csv' \n",
        "names = ['preg', 'plas', 'pres', 'skin', 'test', 'mass', 'pedi', 'age', 'class'] \n",
        "dataframe = read_csv(filename, names=names) \n",
        "array = dataframe.values \n",
        "X = array[:,0:8] \n",
        "Y = array[:,8] \n",
        "num_folds = 10"
      ],
      "execution_count": 0,
      "outputs": []
    },
    {
      "cell_type": "markdown",
      "metadata": {
        "id": "skz-6EJmaiQs",
        "colab_type": "text"
      },
      "source": [
        "Logistic Regression\n"
      ]
    },
    {
      "cell_type": "code",
      "metadata": {
        "id": "2Gb-USdgYQ14",
        "colab_type": "code",
        "colab": {
          "base_uri": "https://localhost:8080/",
          "height": 73
        },
        "outputId": "6370eb94-313f-4624-d9aa-95ad2a6b9e91"
      },
      "source": [
        "kfold = KFold(n_splits=10, random_state=7)\n",
        "model = LogisticRegression(max_iter=500) \n",
        "results = cross_val_score(model, X, Y, cv=kfold)"
      ],
      "execution_count": 27,
      "outputs": [
        {
          "output_type": "stream",
          "text": [
            "/usr/local/lib/python3.6/dist-packages/sklearn/model_selection/_split.py:296: FutureWarning: Setting a random_state has no effect since shuffle is False. This will raise an error in 0.24. You should leave random_state to its default (None), or set shuffle=True.\n",
            "  FutureWarning\n"
          ],
          "name": "stderr"
        }
      ]
    },
    {
      "cell_type": "code",
      "metadata": {
        "id": "Fwl02lY3bLL5",
        "colab_type": "code",
        "colab": {
          "base_uri": "https://localhost:8080/",
          "height": 35
        },
        "outputId": "9d299dda-f25b-4076-8598-653d47345487"
      },
      "source": [
        "results.mean()"
      ],
      "execution_count": 28,
      "outputs": [
        {
          "output_type": "execute_result",
          "data": {
            "text/plain": [
              "0.7760423786739576"
            ]
          },
          "metadata": {
            "tags": []
          },
          "execution_count": 28
        }
      ]
    },
    {
      "cell_type": "markdown",
      "metadata": {
        "id": "eJAyXY9JcBEP",
        "colab_type": "text"
      },
      "source": [
        "Linear Discriminant Analysis"
      ]
    },
    {
      "cell_type": "code",
      "metadata": {
        "id": "-7RM7M8bcGfS",
        "colab_type": "code",
        "colab": {
          "base_uri": "https://localhost:8080/",
          "height": 73
        },
        "outputId": "e3e584a9-6444-466d-9c32-57a9a4491853"
      },
      "source": [
        "kfold = KFold(n_splits=10, random_state=7) \n",
        "model = LinearDiscriminantAnalysis() \n",
        "results = cross_val_score(model, X, Y, cv=kfold)"
      ],
      "execution_count": 10,
      "outputs": [
        {
          "output_type": "stream",
          "text": [
            "/usr/local/lib/python3.6/dist-packages/sklearn/model_selection/_split.py:296: FutureWarning: Setting a random_state has no effect since shuffle is False. This will raise an error in 0.24. You should leave random_state to its default (None), or set shuffle=True.\n",
            "  FutureWarning\n"
          ],
          "name": "stderr"
        }
      ]
    },
    {
      "cell_type": "code",
      "metadata": {
        "id": "9WmdXnDgcUmh",
        "colab_type": "code",
        "colab": {
          "base_uri": "https://localhost:8080/",
          "height": 35
        },
        "outputId": "cf05ce23-df9d-4143-b70c-7879b5dc806b"
      },
      "source": [
        "results.mean()"
      ],
      "execution_count": 11,
      "outputs": [
        {
          "output_type": "execute_result",
          "data": {
            "text/plain": [
              "0.773462064251538"
            ]
          },
          "metadata": {
            "tags": []
          },
          "execution_count": 11
        }
      ]
    },
    {
      "cell_type": "markdown",
      "metadata": {
        "id": "CFkEJVr3ceBe",
        "colab_type": "text"
      },
      "source": [
        "# Nonlinear Machine Learning Algorithms"
      ]
    },
    {
      "cell_type": "code",
      "metadata": {
        "id": "kQuf8DWqcm-g",
        "colab_type": "code",
        "colab": {}
      },
      "source": [
        "from pandas import read_csv \n",
        "from sklearn.model_selection import KFold \n",
        "from sklearn.model_selection import cross_val_score \n",
        "from sklearn.neighbors import KNeighborsClassifier \n",
        "from sklearn.naive_bayes import GaussianNB\n",
        "from sklearn.tree import DecisionTreeClassifier\n",
        "from sklearn.svm import SVC"
      ],
      "execution_count": 0,
      "outputs": []
    },
    {
      "cell_type": "code",
      "metadata": {
        "id": "uXQ0mVSWcvQU",
        "colab_type": "code",
        "colab": {}
      },
      "source": [
        "filename = '/content/diabetes_moddd.csv' \n",
        "names = ['preg', 'plas', 'pres', 'skin', 'test', 'mass', 'pedi', 'age', 'class'] \n",
        "dataframe = read_csv(filename, names=names) \n",
        "array = dataframe.values \n",
        "X = array[:,0:8] \n",
        "Y = array[:,8] \n",
        "num_folds = 10"
      ],
      "execution_count": 0,
      "outputs": []
    },
    {
      "cell_type": "markdown",
      "metadata": {
        "id": "apYvErdJdzhk",
        "colab_type": "text"
      },
      "source": [
        "k-Nearest Neighbors"
      ]
    },
    {
      "cell_type": "code",
      "metadata": {
        "id": "P12bdzWod4Ax",
        "colab_type": "code",
        "colab": {
          "base_uri": "https://localhost:8080/",
          "height": 73
        },
        "outputId": "544f225c-7c5c-4264-f97e-8580d3c6f4d6"
      },
      "source": [
        "kfold = KFold(n_splits=10, random_state=7) \n",
        "model = KNeighborsClassifier() \n",
        "results = cross_val_score(model, X, Y, cv=kfold)"
      ],
      "execution_count": 14,
      "outputs": [
        {
          "output_type": "stream",
          "text": [
            "/usr/local/lib/python3.6/dist-packages/sklearn/model_selection/_split.py:296: FutureWarning: Setting a random_state has no effect since shuffle is False. This will raise an error in 0.24. You should leave random_state to its default (None), or set shuffle=True.\n",
            "  FutureWarning\n"
          ],
          "name": "stderr"
        }
      ]
    },
    {
      "cell_type": "code",
      "metadata": {
        "id": "hUSqb-f9d9bt",
        "colab_type": "code",
        "colab": {
          "base_uri": "https://localhost:8080/",
          "height": 35
        },
        "outputId": "a373d057-5dea-4798-9270-d4206759c283"
      },
      "source": [
        "results.mean()"
      ],
      "execution_count": 15,
      "outputs": [
        {
          "output_type": "execute_result",
          "data": {
            "text/plain": [
              "0.7265550239234451"
            ]
          },
          "metadata": {
            "tags": []
          },
          "execution_count": 15
        }
      ]
    },
    {
      "cell_type": "markdown",
      "metadata": {
        "id": "66ZrJTS5eDue",
        "colab_type": "text"
      },
      "source": [
        "Naive Bayes"
      ]
    },
    {
      "cell_type": "code",
      "metadata": {
        "id": "1Odwq_kmeGx_",
        "colab_type": "code",
        "colab": {
          "base_uri": "https://localhost:8080/",
          "height": 73
        },
        "outputId": "2c9e2cc4-ca75-40d4-b8f3-d8bbcc496707"
      },
      "source": [
        "kfold = KFold(n_splits=10, random_state=7) \n",
        "model = GaussianNB() \n",
        "results = cross_val_score(model, X, Y, cv=kfold)"
      ],
      "execution_count": 16,
      "outputs": [
        {
          "output_type": "stream",
          "text": [
            "/usr/local/lib/python3.6/dist-packages/sklearn/model_selection/_split.py:296: FutureWarning: Setting a random_state has no effect since shuffle is False. This will raise an error in 0.24. You should leave random_state to its default (None), or set shuffle=True.\n",
            "  FutureWarning\n"
          ],
          "name": "stderr"
        }
      ]
    },
    {
      "cell_type": "code",
      "metadata": {
        "id": "Zvzxgbj5eOaA",
        "colab_type": "code",
        "colab": {
          "base_uri": "https://localhost:8080/",
          "height": 35
        },
        "outputId": "b03dbd07-8b4f-4b65-c839-facdc9ff0471"
      },
      "source": [
        "results.mean()"
      ],
      "execution_count": 17,
      "outputs": [
        {
          "output_type": "execute_result",
          "data": {
            "text/plain": [
              "0.7551777170198223"
            ]
          },
          "metadata": {
            "tags": []
          },
          "execution_count": 17
        }
      ]
    },
    {
      "cell_type": "markdown",
      "metadata": {
        "id": "tJpp-75IelJK",
        "colab_type": "text"
      },
      "source": [
        "Classiﬁcation and Regression Trees"
      ]
    },
    {
      "cell_type": "code",
      "metadata": {
        "id": "YiyT9CIOej_r",
        "colab_type": "code",
        "colab": {
          "base_uri": "https://localhost:8080/",
          "height": 73
        },
        "outputId": "51d74089-116c-46a8-d90d-eaf64aa5cd29"
      },
      "source": [
        "kfold = KFold(n_splits=10, random_state=7) \n",
        "model = DecisionTreeClassifier() \n",
        "results = cross_val_score(model, X, Y, cv=kfold)"
      ],
      "execution_count": 18,
      "outputs": [
        {
          "output_type": "stream",
          "text": [
            "/usr/local/lib/python3.6/dist-packages/sklearn/model_selection/_split.py:296: FutureWarning: Setting a random_state has no effect since shuffle is False. This will raise an error in 0.24. You should leave random_state to its default (None), or set shuffle=True.\n",
            "  FutureWarning\n"
          ],
          "name": "stderr"
        }
      ]
    },
    {
      "cell_type": "code",
      "metadata": {
        "id": "pyxTFp1Petgg",
        "colab_type": "code",
        "colab": {
          "base_uri": "https://localhost:8080/",
          "height": 35
        },
        "outputId": "d31fa71f-8abe-44d3-d21d-dd7167631aa5"
      },
      "source": [
        "results.mean()"
      ],
      "execution_count": 19,
      "outputs": [
        {
          "output_type": "execute_result",
          "data": {
            "text/plain": [
              "0.683492822966507"
            ]
          },
          "metadata": {
            "tags": []
          },
          "execution_count": 19
        }
      ]
    },
    {
      "cell_type": "markdown",
      "metadata": {
        "id": "TWK0oUNtewF7",
        "colab_type": "text"
      },
      "source": [
        "Support Vector Machines"
      ]
    },
    {
      "cell_type": "code",
      "metadata": {
        "id": "HcLvaTAIe9qX",
        "colab_type": "code",
        "colab": {
          "base_uri": "https://localhost:8080/",
          "height": 73
        },
        "outputId": "1472b6fc-d789-4bc1-82a2-4e8146b09625"
      },
      "source": [
        "kfold = KFold(n_splits=10, random_state=7) \n",
        "model = SVC() \n",
        "results = cross_val_score(model, X, Y, cv=kfold)"
      ],
      "execution_count": 20,
      "outputs": [
        {
          "output_type": "stream",
          "text": [
            "/usr/local/lib/python3.6/dist-packages/sklearn/model_selection/_split.py:296: FutureWarning: Setting a random_state has no effect since shuffle is False. This will raise an error in 0.24. You should leave random_state to its default (None), or set shuffle=True.\n",
            "  FutureWarning\n"
          ],
          "name": "stderr"
        }
      ]
    },
    {
      "cell_type": "code",
      "metadata": {
        "id": "KSHHS1dKe5BN",
        "colab_type": "code",
        "colab": {
          "base_uri": "https://localhost:8080/",
          "height": 35
        },
        "outputId": "ffe4e5a6-de10-4d30-83df-804c93e0d689"
      },
      "source": [
        "results.mean()"
      ],
      "execution_count": 22,
      "outputs": [
        {
          "output_type": "execute_result",
          "data": {
            "text/plain": [
              "0.7604237867395763"
            ]
          },
          "metadata": {
            "tags": []
          },
          "execution_count": 22
        }
      ]
    }
  ]
}