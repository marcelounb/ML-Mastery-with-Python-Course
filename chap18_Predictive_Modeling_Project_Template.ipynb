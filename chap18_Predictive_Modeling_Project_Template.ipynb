{
  "nbformat": 4,
  "nbformat_minor": 0,
  "metadata": {
    "colab": {
      "name": "chap18_Predictive Modeling Project Template.ipynb",
      "provenance": [],
      "toc_visible": true,
      "authorship_tag": "ABX9TyPjQXanmUVZ/8Pb56GLV5Yc",
      "include_colab_link": true
    },
    "kernelspec": {
      "name": "python3",
      "display_name": "Python 3"
    }
  },
  "cells": [
    {
      "cell_type": "markdown",
      "metadata": {
        "id": "view-in-github",
        "colab_type": "text"
      },
      "source": [
        "<a href=\"https://colab.research.google.com/github/marcelounb/ML-Mastery-with-Python-Course/blob/master/chap18_Predictive_Modeling_Project_Template.ipynb\" target=\"_parent\"><img src=\"https://colab.research.google.com/assets/colab-badge.svg\" alt=\"Open In Colab\"/></a>"
      ]
    },
    {
      "cell_type": "markdown",
      "metadata": {
        "id": "y7PR7P3Z6Ys_",
        "colab_type": "text"
      },
      "source": [
        "# Six-step machine learning project template that you can use to jump-start your project in Python."
      ]
    },
    {
      "cell_type": "markdown",
      "metadata": {
        "id": "ws_QskIp6iqX",
        "colab_type": "text"
      },
      "source": [
        "1. Deﬁne Problem.\n",
        "2. Summarize Data.\n",
        "3. Prepare Data.\n",
        "4. Evaluate Algorithms.\n",
        "5. Improve Results.\n",
        "6. Present Results."
      ]
    },
    {
      "cell_type": "code",
      "metadata": {
        "id": "kYaXbzf75M5Y",
        "colab_type": "code",
        "colab": {}
      },
      "source": [
        "# Python Project Template\n",
        "\n",
        "# 1. Prepare Problem \n",
        "#   a) Load libraries \n",
        "#   b) Load dataset\n",
        "# 2. Summarize Data \n",
        "#   a) Descriptive statistics \n",
        "#   b) Data visualizations\n",
        "# 3. Prepare Data \n",
        "#   a) Data Cleaning \n",
        "#   b) Feature Selection \n",
        "#   c) Data Transforms\n",
        "# 4. Evaluate Algorithms \n",
        "#   a) Split-out validation dataset \n",
        "#   b) Test options and evaluation metric \n",
        "#   c) Spot Check Algorithms \n",
        "#   d) Compare Algorithms\n",
        "# 5. Improve Accuracy \n",
        "#   a) Algorithm Tuning \n",
        "#   b) Ensembles\n",
        "# 6. Finalize Model \n",
        "#   a) Predictions on validation dataset \n",
        "#   b) Create standalone model on entire training dataset \n",
        "#   c) Save model for later use"
      ],
      "execution_count": 0,
      "outputs": []
    },
    {
      "cell_type": "markdown",
      "metadata": {
        "id": "zY_HuTpLCcRF",
        "colab_type": "text"
      },
      "source": [
        "# Python Project Template"
      ]
    },
    {
      "cell_type": "markdown",
      "metadata": {
        "id": "C8Yo9KecDil1",
        "colab_type": "text"
      },
      "source": [
        "# Prepare Problem\n",
        "\n"
      ]
    },
    {
      "cell_type": "markdown",
      "metadata": {
        "id": "MOGwLtYZDoVf",
        "colab_type": "text"
      },
      "source": [
        "Load libraries"
      ]
    },
    {
      "cell_type": "code",
      "metadata": {
        "id": "7lcoBqd9CZRN",
        "colab_type": "code",
        "colab": {}
      },
      "source": [
        "# Load libraries \n",
        "from pandas import read_csv \n",
        "from pandas.plotting import scatter_matrix \n",
        "from matplotlib import pyplot as plt\n",
        "from sklearn.model_selection import train_test_split \n",
        "from sklearn.model_selection import KFold \n",
        "from sklearn.model_selection import cross_val_score \n",
        "from sklearn.metrics import classification_report \n",
        "from sklearn.metrics import confusion_matrix \n",
        "from sklearn.metrics import accuracy_score \n",
        "from sklearn.linear_model import LogisticRegression \n",
        "from sklearn.tree import DecisionTreeClassifier \n",
        "from sklearn.neighbors import KNeighborsClassifier \n",
        "from sklearn.discriminant_analysis import LinearDiscriminantAnalysis \n",
        "from sklearn.naive_bayes import GaussianNB \n",
        "from sklearn.svm import SVC"
      ],
      "execution_count": 0,
      "outputs": []
    },
    {
      "cell_type": "markdown",
      "metadata": {
        "id": "7vIol6qWDxjV",
        "colab_type": "text"
      },
      "source": [
        "Load Dataset"
      ]
    },
    {
      "cell_type": "code",
      "metadata": {
        "id": "2t2NZ9qyDxuM",
        "colab_type": "code",
        "colab": {}
      },
      "source": [
        "# Load dataset - found at https://goo.gl/mLmoIz  (.csv file)\n",
        "filename = '/content/iris.data' \n",
        "names = ['sepal-length', 'sepal-width', 'petal-length', 'petal-width', 'class'] \n",
        "dataset = read_csv(filename, names=names)"
      ],
      "execution_count": 0,
      "outputs": []
    },
    {
      "cell_type": "markdown",
      "metadata": {
        "id": "asif_9UWS1gg",
        "colab_type": "text"
      },
      "source": [
        "# Summarize Data\n",
        "Now it is time to take a look at the data. In this step we are going to take a look at the data a few diﬀerent ways:\n",
        "\n",
        ". Dimensions of the dataset.\n",
        "\n",
        ". Peek at the data itself.\n",
        "\n",
        ". Statistical summary of all attributes.\n",
        "\n",
        ". Breakdown of the data by the class variable.\n"
      ]
    },
    {
      "cell_type": "markdown",
      "metadata": {
        "id": "PS4B9aGkS3Fy",
        "colab_type": "text"
      },
      "source": [
        "Descriptive statistics"
      ]
    },
    {
      "cell_type": "code",
      "metadata": {
        "id": "mYsNHmPFS8Qz",
        "colab_type": "code",
        "colab": {}
      },
      "source": [
        ""
      ],
      "execution_count": 0,
      "outputs": []
    },
    {
      "cell_type": "markdown",
      "metadata": {
        "id": "qVxWE7gMS8lw",
        "colab_type": "text"
      },
      "source": [
        "Data visualizations"
      ]
    },
    {
      "cell_type": "code",
      "metadata": {
        "id": "lu4xChKBS9JT",
        "colab_type": "code",
        "colab": {}
      },
      "source": [
        ""
      ],
      "execution_count": 0,
      "outputs": []
    }
  ]
}