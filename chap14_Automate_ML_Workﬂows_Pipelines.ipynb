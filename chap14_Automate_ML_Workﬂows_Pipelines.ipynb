{
  "nbformat": 4,
  "nbformat_minor": 0,
  "metadata": {
    "colab": {
      "name": "chap14_Automate ML Workﬂows Pipelines.ipynb",
      "provenance": [],
      "toc_visible": true,
      "authorship_tag": "ABX9TyPHTkMqPHsw0QgHO1JlG2vo",
      "include_colab_link": true
    },
    "kernelspec": {
      "name": "python3",
      "display_name": "Python 3"
    }
  },
  "cells": [
    {
      "cell_type": "markdown",
      "metadata": {
        "id": "view-in-github",
        "colab_type": "text"
      },
      "source": [
        "<a href=\"https://colab.research.google.com/github/marcelounb/ML-Mastery-with-Python-Course/blob/master/chap14_Automate_ML_Work%EF%AC%82ows_Pipelines.ipynb\" target=\"_parent\"><img src=\"https://colab.research.google.com/assets/colab-badge.svg\" alt=\"Open In Colab\"/></a>"
      ]
    },
    {
      "cell_type": "markdown",
      "metadata": {
        "id": "QCmXZt9HcAxA",
        "colab_type": "text"
      },
      "source": [
        "# Data Preparation and Modeling Pipeline\n"
      ]
    },
    {
      "cell_type": "markdown",
      "metadata": {
        "id": "PW7niEK7dBX9",
        "colab_type": "text"
      },
      "source": [
        "you need a robust test harness with strong separation of training and testing. This includes data preparation. Data preparation is one easy way to leak knowledge of the whole training dataset to the algorithm. For example, preparing your data using normalization or standardization on the entire training dataset before learning would not be a valid test because the training dataset would have been inﬂuenced by the scale of the data in the test set. "
      ]
    },
    {
      "cell_type": "markdown",
      "metadata": {
        "id": "CkK_RF8XdXcF",
        "colab_type": "text"
      },
      "source": [
        " The pipeline is deﬁned with two steps:\n",
        "\n",
        "*   Standardize the data\n",
        "*   Learn a Linear Discriminant Analysis model\n",
        "\n"
      ]
    },
    {
      "cell_type": "code",
      "metadata": {
        "id": "5P8TvJV0bW52",
        "colab_type": "code",
        "colab": {}
      },
      "source": [
        "from pandas import read_csv \n",
        "from sklearn.model_selection import KFold \n",
        "from sklearn.model_selection import cross_val_score \n",
        "from sklearn.preprocessing import StandardScaler \n",
        "from sklearn.pipeline import Pipeline \n",
        "from sklearn.discriminant_analysis import LinearDiscriminantAnalysis "
      ],
      "execution_count": 0,
      "outputs": []
    },
    {
      "cell_type": "code",
      "metadata": {
        "id": "K0HIEKRMdl8M",
        "colab_type": "code",
        "colab": {}
      },
      "source": [
        "# load data \n",
        "filename = '/content/diabetes_moddd.csv' \n",
        "names = ['preg', 'plas', 'pres', 'skin', 'test', 'mass', 'pedi', 'age', 'class'] \n",
        "dataframe = read_csv(filename, names=names) \n",
        "array = dataframe.values \n",
        "X = array[:,0:8] \n",
        "Y = array[:,8] "
      ],
      "execution_count": 0,
      "outputs": []
    },
    {
      "cell_type": "code",
      "metadata": {
        "id": "03qBo6s_dszm",
        "colab_type": "code",
        "colab": {}
      },
      "source": [
        "# create pipeline \n",
        "estimators = [] \n",
        "estimators.append(('standardize', StandardScaler())) \n",
        "estimators.append(('lda', LinearDiscriminantAnalysis())) \n",
        "model = Pipeline(estimators) "
      ],
      "execution_count": 0,
      "outputs": []
    },
    {
      "cell_type": "code",
      "metadata": {
        "id": "9PJEIYc-d6Vp",
        "colab_type": "code",
        "colab": {
          "base_uri": "https://localhost:8080/",
          "height": 35
        },
        "outputId": "9452327e-d79e-4d44-db2d-5ca6d1011a36"
      },
      "source": [
        "# evaluate pipeline \n",
        "kfold = KFold(n_splits=10) \n",
        "results = cross_val_score(model, X, Y, cv=kfold) \n",
        "results.mean()"
      ],
      "execution_count": 7,
      "outputs": [
        {
          "output_type": "execute_result",
          "data": {
            "text/plain": [
              "0.773462064251538"
            ]
          },
          "metadata": {
            "tags": []
          },
          "execution_count": 7
        }
      ]
    },
    {
      "cell_type": "markdown",
      "metadata": {
        "id": "8tKUQKkveTx9",
        "colab_type": "text"
      },
      "source": [
        "\n",
        "Parei na página 97 de 179"
      ]
    },
    {
      "cell_type": "code",
      "metadata": {
        "id": "MOw5qgyveBf_",
        "colab_type": "code",
        "colab": {}
      },
      "source": [
        ""
      ],
      "execution_count": 0,
      "outputs": []
    }
  ]
}