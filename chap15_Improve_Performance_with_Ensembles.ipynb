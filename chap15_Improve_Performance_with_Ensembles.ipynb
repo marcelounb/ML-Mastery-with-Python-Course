{
  "nbformat": 4,
  "nbformat_minor": 0,
  "metadata": {
    "colab": {
      "name": "chap15_Improve Performance with Ensembles.ipynb",
      "provenance": [],
      "authorship_tag": "ABX9TyOizOvtkNHxGUIVJIG0Dqbv",
      "include_colab_link": true
    },
    "kernelspec": {
      "name": "python3",
      "display_name": "Python 3"
    }
  },
  "cells": [
    {
      "cell_type": "markdown",
      "metadata": {
        "id": "view-in-github",
        "colab_type": "text"
      },
      "source": [
        "<a href=\"https://colab.research.google.com/github/marcelounb/ML-Mastery-with-Python-Course/blob/master/chap15_Improve_Performance_with_Ensembles.ipynb\" target=\"_parent\"><img src=\"https://colab.research.google.com/assets/colab-badge.svg\" alt=\"Open In Colab\"/></a>"
      ]
    },
    {
      "cell_type": "markdown",
      "metadata": {
        "id": "kpb8xG_euxLY",
        "colab_type": "text"
      },
      "source": [
        "Ensembles can give you a boost in accuracy on your dataset"
      ]
    },
    {
      "cell_type": "code",
      "metadata": {
        "id": "hC4jWIbHswzb",
        "colab_type": "code",
        "colab": {}
      },
      "source": [
        "from pandas import read_csv \n",
        "from sklearn.model_selection import KFold \n",
        "from sklearn.model_selection import cross_val_score \n",
        "from sklearn.ensemble import BaggingClassifier \n",
        "from sklearn.ensemble import RandomForestClassifier\n",
        "from sklearn.tree import DecisionTreeClassifier\n",
        "from sklearn.ensemble import ExtraTreesClassifier"
      ],
      "execution_count": 0,
      "outputs": []
    },
    {
      "cell_type": "code",
      "metadata": {
        "id": "k-hzB3_y8xi4",
        "colab_type": "code",
        "colab": {}
      },
      "source": [
        "# load data \n",
        "filename = '/content/diabetes_moddd.csv' \n",
        "names = ['preg', 'plas', 'pres', 'skin', 'test', 'mass', 'pedi', 'age', 'class'] \n",
        "dataframe = read_csv(filename, names=names) \n",
        "array = dataframe.values \n",
        "X = array[:,0:8] \n",
        "Y = array[:,8] "
      ],
      "execution_count": 0,
      "outputs": []
    },
    {
      "cell_type": "code",
      "metadata": {
        "id": "QIgxMwqF80ol",
        "colab_type": "code",
        "outputId": "7f80747a-92b9-4211-9349-199f1fffacd3",
        "colab": {
          "base_uri": "https://localhost:8080/",
          "height": 72
        }
      },
      "source": [
        "seed = 7 \n",
        "kfold = KFold(n_splits=10, random_state=seed) "
      ],
      "execution_count": 5,
      "outputs": [
        {
          "output_type": "stream",
          "text": [
            "/usr/local/lib/python3.6/dist-packages/sklearn/model_selection/_split.py:296: FutureWarning: Setting a random_state has no effect since shuffle is False. This will raise an error in 0.24. You should leave random_state to its default (None), or set shuffle=True.\n",
            "  FutureWarning\n"
          ],
          "name": "stderr"
        }
      ]
    },
    {
      "cell_type": "markdown",
      "metadata": {
        "id": "JppLKZKy-zQw",
        "colab_type": "text"
      },
      "source": [
        "Bagged Decision Trees\n"
      ]
    },
    {
      "cell_type": "code",
      "metadata": {
        "id": "DgBCsu2w86Bg",
        "colab_type": "code",
        "colab": {}
      },
      "source": [
        "# Bagged Decision Trees for Classification \n",
        "cart = DecisionTreeClassifier() \n",
        "num_trees = 100 \n",
        "model = BaggingClassifier(base_estimator=cart, n_estimators=num_trees, random_state=seed)\n",
        "results = cross_val_score(model, X, Y, cv=kfold)"
      ],
      "execution_count": 0,
      "outputs": []
    },
    {
      "cell_type": "code",
      "metadata": {
        "id": "e5OFzpt19CbP",
        "colab_type": "code",
        "outputId": "89de3c7c-8c23-4f34-be3a-53580e6815b9",
        "colab": {
          "base_uri": "https://localhost:8080/",
          "height": 35
        }
      },
      "source": [
        "results.mean()"
      ],
      "execution_count": 7,
      "outputs": [
        {
          "output_type": "execute_result",
          "data": {
            "text/plain": [
              "0.770745044429255"
            ]
          },
          "metadata": {
            "tags": []
          },
          "execution_count": 7
        }
      ]
    },
    {
      "cell_type": "markdown",
      "metadata": {
        "id": "8y6FxSe3-tYj",
        "colab_type": "text"
      },
      "source": [
        "Random Forest"
      ]
    },
    {
      "cell_type": "code",
      "metadata": {
        "id": "hrU4E3cs9xqb",
        "colab_type": "code",
        "outputId": "eb666db8-87e4-4832-bba6-b165b50630de",
        "colab": {
          "base_uri": "https://localhost:8080/",
          "height": 72
        }
      },
      "source": [
        "num_trees = 100 \n",
        "max_features = 3 \n",
        "kfold = KFold(n_splits=10, random_state=7) \n",
        "model = RandomForestClassifier(n_estimators=num_trees, max_features=max_features) \n",
        "results = cross_val_score(model, X, Y, cv=kfold) "
      ],
      "execution_count": 8,
      "outputs": [
        {
          "output_type": "stream",
          "text": [
            "/usr/local/lib/python3.6/dist-packages/sklearn/model_selection/_split.py:296: FutureWarning: Setting a random_state has no effect since shuffle is False. This will raise an error in 0.24. You should leave random_state to its default (None), or set shuffle=True.\n",
            "  FutureWarning\n"
          ],
          "name": "stderr"
        }
      ]
    },
    {
      "cell_type": "code",
      "metadata": {
        "id": "6758Rp1Z9FGx",
        "colab_type": "code",
        "outputId": "1d0a931f-c068-41c0-b4ca-83271ec2d13a",
        "colab": {
          "base_uri": "https://localhost:8080/",
          "height": 35
        }
      },
      "source": [
        "results.mean()"
      ],
      "execution_count": 9,
      "outputs": [
        {
          "output_type": "execute_result",
          "data": {
            "text/plain": [
              "0.7668489405331511"
            ]
          },
          "metadata": {
            "tags": []
          },
          "execution_count": 9
        }
      ]
    },
    {
      "cell_type": "markdown",
      "metadata": {
        "id": "7xrgmMCL_rT9",
        "colab_type": "text"
      },
      "source": [
        "Extra Tree"
      ]
    },
    {
      "cell_type": "code",
      "metadata": {
        "id": "_dXRCq9I9WAJ",
        "colab_type": "code",
        "outputId": "71d96715-fe30-4dad-a276-b83d4b96a94d",
        "colab": {
          "base_uri": "https://localhost:8080/",
          "height": 72
        }
      },
      "source": [
        "num_trees = 100 \n",
        "max_features = 7 \n",
        "kfold = KFold(n_splits=10, random_state=7) \n",
        "model = ExtraTreesClassifier(n_estimators=num_trees, max_features=max_features) \n",
        "results = cross_val_score(model, X, Y, cv=kfold) "
      ],
      "execution_count": 10,
      "outputs": [
        {
          "output_type": "stream",
          "text": [
            "/usr/local/lib/python3.6/dist-packages/sklearn/model_selection/_split.py:296: FutureWarning: Setting a random_state has no effect since shuffle is False. This will raise an error in 0.24. You should leave random_state to its default (None), or set shuffle=True.\n",
            "  FutureWarning\n"
          ],
          "name": "stderr"
        }
      ]
    },
    {
      "cell_type": "code",
      "metadata": {
        "id": "dAVf_tYr9mVW",
        "colab_type": "code",
        "outputId": "a649b1b3-ab4a-440b-d737-ced1dd6c2305",
        "colab": {
          "base_uri": "https://localhost:8080/",
          "height": 35
        }
      },
      "source": [
        "results.mean()"
      ],
      "execution_count": 11,
      "outputs": [
        {
          "output_type": "execute_result",
          "data": {
            "text/plain": [
              "0.7551093643198906"
            ]
          },
          "metadata": {
            "tags": []
          },
          "execution_count": 11
        }
      ]
    },
    {
      "cell_type": "markdown",
      "metadata": {
        "id": "yvRvcI4cAKnr",
        "colab_type": "text"
      },
      "source": [
        "# Boosting Algorithms"
      ]
    },
    {
      "cell_type": "markdown",
      "metadata": {
        "id": "yc76juaMg5vm",
        "colab_type": "text"
      },
      "source": [
        "Boosting ensemble algorithms creates a sequence of models that attempt to correct the mistakes of the models before them in the sequence. Once created, the models make predictions which may be weighted by their demonstrated accuracy and the results are combined to create a ﬁnal output prediction. The two most common boosting ensemble machine learning algorithms are:\n",
        "\n",
        "\n",
        "1.   AdaBoost\n",
        "2.   Stochastic Gradient Boosting\n",
        "\n"
      ]
    },
    {
      "cell_type": "code",
      "metadata": {
        "id": "50o3tIzahyhC",
        "colab_type": "code",
        "colab": {
          "base_uri": "https://localhost:8080/",
          "height": 72
        },
        "outputId": "006a39e5-8e8d-410d-a99a-6854e95633de"
      },
      "source": [
        "from sklearn.ensemble import AdaBoostClassifier\n",
        "from sklearn.ensemble import GradientBoostingClassifier\n",
        "seed=7 \n",
        "kfold = KFold(n_splits=10, random_state=seed)"
      ],
      "execution_count": 12,
      "outputs": [
        {
          "output_type": "stream",
          "text": [
            "/usr/local/lib/python3.6/dist-packages/sklearn/model_selection/_split.py:296: FutureWarning: Setting a random_state has no effect since shuffle is False. This will raise an error in 0.24. You should leave random_state to its default (None), or set shuffle=True.\n",
            "  FutureWarning\n"
          ],
          "name": "stderr"
        }
      ]
    },
    {
      "cell_type": "markdown",
      "metadata": {
        "id": "B2dnS4dXhDcu",
        "colab_type": "text"
      },
      "source": [
        "AdaBoost"
      ]
    },
    {
      "cell_type": "code",
      "metadata": {
        "id": "sCCEO8xGgwBX",
        "colab_type": "code",
        "colab": {}
      },
      "source": [
        "num_trees = 30\n",
        "model = AdaBoostClassifier(n_estimators=num_trees, random_state=seed) \n",
        "results = cross_val_score(model, X, Y, cv=kfold)"
      ],
      "execution_count": 0,
      "outputs": []
    },
    {
      "cell_type": "code",
      "metadata": {
        "id": "6bpK0Td0iEco",
        "colab_type": "code",
        "colab": {
          "base_uri": "https://localhost:8080/",
          "height": 35
        },
        "outputId": "3112020b-0f71-47c1-d591-12b1f6b723d5"
      },
      "source": [
        "results.mean()"
      ],
      "execution_count": 14,
      "outputs": [
        {
          "output_type": "execute_result",
          "data": {
            "text/plain": [
              "0.760457963089542"
            ]
          },
          "metadata": {
            "tags": []
          },
          "execution_count": 14
        }
      ]
    },
    {
      "cell_type": "markdown",
      "metadata": {
        "id": "WBWAMQWriH7q",
        "colab_type": "text"
      },
      "source": [
        "Stochastic Gradient Boosting"
      ]
    },
    {
      "cell_type": "code",
      "metadata": {
        "id": "rgSmx-IciLZc",
        "colab_type": "code",
        "colab": {}
      },
      "source": [
        "num_trees = 100\n",
        "model = GradientBoostingClassifier(n_estimators=num_trees, random_state=seed) \n",
        "results = cross_val_score(model, X, Y, cv=kfold)"
      ],
      "execution_count": 0,
      "outputs": []
    },
    {
      "cell_type": "code",
      "metadata": {
        "id": "5n8emRBiiSUF",
        "colab_type": "code",
        "colab": {
          "base_uri": "https://localhost:8080/",
          "height": 35
        },
        "outputId": "79f5ded4-5254-445f-d224-872b976de05c"
      },
      "source": [
        "results.mean()"
      ],
      "execution_count": 16,
      "outputs": [
        {
          "output_type": "execute_result",
          "data": {
            "text/plain": [
              "0.7681989063568012"
            ]
          },
          "metadata": {
            "tags": []
          },
          "execution_count": 16
        }
      ]
    },
    {
      "cell_type": "markdown",
      "metadata": {
        "id": "yK0vKXGZroy2",
        "colab_type": "text"
      },
      "source": [
        "# Voting Ensemble\n"
      ]
    },
    {
      "cell_type": "markdown",
      "metadata": {
        "id": "zLQEaz2Crqil",
        "colab_type": "text"
      },
      "source": [
        "Voting is one of the simplest ways of combining the predictions from multiple machine learning algorithms. It works by ﬁrst creating two or more standalone models from your training dataset. A Voting Classiﬁer can then be used to wrap your models and average the predictions of the sub-models when asked to make predictions for new data. The predictions of the sub-models can be weighted, but specifying the weights for classiﬁers manually or even heuristically is diﬃcult. "
      ]
    },
    {
      "cell_type": "code",
      "metadata": {
        "id": "mNrfHST2rxBm",
        "colab_type": "code",
        "colab": {}
      },
      "source": [
        "from pandas import read_csv \n",
        "from sklearn.model_selection import KFold \n",
        "from sklearn.model_selection import cross_val_score \n",
        "from sklearn.linear_model import LogisticRegression \n",
        "from sklearn.tree import DecisionTreeClassifier \n",
        "from sklearn.svm import SVC \n",
        "from sklearn.ensemble import VotingClassifier"
      ],
      "execution_count": 0,
      "outputs": []
    },
    {
      "cell_type": "code",
      "metadata": {
        "id": "WHrN0mpmr-Sq",
        "colab_type": "code",
        "colab": {
          "base_uri": "https://localhost:8080/",
          "height": 55
        },
        "outputId": "de0c082f-b3b7-4419-d5cb-581dab1d7bec"
      },
      "source": [
        "\"\"\"\n",
        "# load data \n",
        "filename = '/content/diabetes_moddd.csv' \n",
        "names = ['preg', 'plas', 'pres', 'skin', 'test', 'mass', 'pedi', 'age', 'class'] \n",
        "dataframe = read_csv(filename, names=names) \n",
        "array = dataframe.values \n",
        "X = array[:,0:8] \n",
        "Y = array[:,8] \n",
        "kfold = KFold(n_splits=10, random_state=7) \n",
        "\"\"\""
      ],
      "execution_count": 19,
      "outputs": [
        {
          "output_type": "execute_result",
          "data": {
            "text/plain": [
              "\"\\n# load data \\nfilename = '/content/diabetes_moddd.csv' \\nnames = ['preg', 'plas', 'pres', 'skin', 'test', 'mass', 'pedi', 'age', 'class'] \\ndataframe = read_csv(filename, names=names) \\narray = dataframe.values \\nX = array[:,0:8] \\nY = array[:,8] \\nkfold = KFold(n_splits=10, random_state=7) \\n\""
            ]
          },
          "metadata": {
            "tags": []
          },
          "execution_count": 19
        }
      ]
    },
    {
      "cell_type": "code",
      "metadata": {
        "id": "wtHnqFgFshSJ",
        "colab_type": "code",
        "colab": {}
      },
      "source": [
        "# create the sub models \n",
        "estimators = [] \n",
        "model1 = LogisticRegression(max_iter=200) \n",
        "estimators.append(('logistic', model1)) \n",
        "model2 = DecisionTreeClassifier() \n",
        "estimators.append(('cart', model2))\n",
        "model3 = SVC() \n",
        "estimators.append(('svm', model3))"
      ],
      "execution_count": 0,
      "outputs": []
    },
    {
      "cell_type": "code",
      "metadata": {
        "id": "psdXeGIhssHR",
        "colab_type": "code",
        "colab": {
          "base_uri": "https://localhost:8080/",
          "height": 35
        },
        "outputId": "bb1031d8-cbaf-4d6b-bc60-226eeb1ff308"
      },
      "source": [
        "# create the ensemble model \n",
        "ensemble = VotingClassifier(estimators) \n",
        "results = cross_val_score(ensemble, X, Y, cv=kfold)\n",
        "results.mean()"
      ],
      "execution_count": 24,
      "outputs": [
        {
          "output_type": "execute_result",
          "data": {
            "text/plain": [
              "0.7604237867395763"
            ]
          },
          "metadata": {
            "tags": []
          },
          "execution_count": 24
        }
      ]
    }
  ]
}