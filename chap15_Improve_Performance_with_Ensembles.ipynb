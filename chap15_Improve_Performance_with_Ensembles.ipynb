{
  "nbformat": 4,
  "nbformat_minor": 0,
  "metadata": {
    "colab": {
      "name": "chap15_Improve Performance with Ensembles.ipynb",
      "provenance": [],
      "authorship_tag": "ABX9TyMavV31vA5WjTCzotxpo6YB",
      "include_colab_link": true
    },
    "kernelspec": {
      "name": "python3",
      "display_name": "Python 3"
    }
  },
  "cells": [
    {
      "cell_type": "markdown",
      "metadata": {
        "id": "view-in-github",
        "colab_type": "text"
      },
      "source": [
        "<a href=\"https://colab.research.google.com/github/marcelounb/ML-Mastery-with-Python-Course/blob/master/chap15_Improve_Performance_with_Ensembles.ipynb\" target=\"_parent\"><img src=\"https://colab.research.google.com/assets/colab-badge.svg\" alt=\"Open In Colab\"/></a>"
      ]
    },
    {
      "cell_type": "markdown",
      "metadata": {
        "id": "kpb8xG_euxLY",
        "colab_type": "text"
      },
      "source": [
        "Ensembles can give you a boost in accuracy on your dataset"
      ]
    },
    {
      "cell_type": "code",
      "metadata": {
        "id": "hC4jWIbHswzb",
        "colab_type": "code",
        "colab": {}
      },
      "source": [
        "# Bagged Decision Trees for Classification \n",
        "from pandas import read_csv \n",
        "from sklearn.model_selection import KFold \n",
        "from sklearn.model_selection import cross_val_score \n",
        "from sklearn.ensemble import BaggingClassifier \n",
        "from sklearn.ensemble import RandomForestClassifier\n",
        "from sklearn.tree import DecisionTreeClassifier\n",
        "from sklearn.ensemble import ExtraTreesClassifier"
      ],
      "execution_count": 0,
      "outputs": []
    },
    {
      "cell_type": "code",
      "metadata": {
        "id": "k-hzB3_y8xi4",
        "colab_type": "code",
        "colab": {}
      },
      "source": [
        "# load data \n",
        "filename = '/content/diabetes_moddd.csv' \n",
        "names = ['preg', 'plas', 'pres', 'skin', 'test', 'mass', 'pedi', 'age', 'class'] \n",
        "dataframe = read_csv(filename, names=names) \n",
        "array = dataframe.values \n",
        "X = array[:,0:8] \n",
        "Y = array[:,8] "
      ],
      "execution_count": 0,
      "outputs": []
    },
    {
      "cell_type": "code",
      "metadata": {
        "id": "QIgxMwqF80ol",
        "colab_type": "code",
        "colab": {
          "base_uri": "https://localhost:8080/",
          "height": 72
        },
        "outputId": "696469bb-2e3e-44b3-8e99-1394005afc53"
      },
      "source": [
        "seed = 7 \n",
        "kfold = KFold(n_splits=10, random_state=seed) "
      ],
      "execution_count": 19,
      "outputs": [
        {
          "output_type": "stream",
          "text": [
            "/usr/local/lib/python3.6/dist-packages/sklearn/model_selection/_split.py:296: FutureWarning: Setting a random_state has no effect since shuffle is False. This will raise an error in 0.24. You should leave random_state to its default (None), or set shuffle=True.\n",
            "  FutureWarning\n"
          ],
          "name": "stderr"
        }
      ]
    },
    {
      "cell_type": "markdown",
      "metadata": {
        "id": "JppLKZKy-zQw",
        "colab_type": "text"
      },
      "source": [
        "Bagged Decision Trees\n"
      ]
    },
    {
      "cell_type": "code",
      "metadata": {
        "id": "DgBCsu2w86Bg",
        "colab_type": "code",
        "colab": {}
      },
      "source": [
        "cart = DecisionTreeClassifier() \n",
        "num_trees = 100 \n",
        "model = BaggingClassifier(base_estimator=cart, n_estimators=num_trees, random_state=seed)\n",
        "results = cross_val_score(model, X, Y, cv=kfold)"
      ],
      "execution_count": 0,
      "outputs": []
    },
    {
      "cell_type": "code",
      "metadata": {
        "id": "e5OFzpt19CbP",
        "colab_type": "code",
        "colab": {
          "base_uri": "https://localhost:8080/",
          "height": 35
        },
        "outputId": "6512a672-d0ad-446d-a7c7-0e47bc127db6"
      },
      "source": [
        "results.mean()"
      ],
      "execution_count": 21,
      "outputs": [
        {
          "output_type": "execute_result",
          "data": {
            "text/plain": [
              "0.770745044429255"
            ]
          },
          "metadata": {
            "tags": []
          },
          "execution_count": 21
        }
      ]
    },
    {
      "cell_type": "markdown",
      "metadata": {
        "id": "8y6FxSe3-tYj",
        "colab_type": "text"
      },
      "source": [
        "Random Forest"
      ]
    },
    {
      "cell_type": "code",
      "metadata": {
        "id": "hrU4E3cs9xqb",
        "colab_type": "code",
        "colab": {
          "base_uri": "https://localhost:8080/",
          "height": 72
        },
        "outputId": "99a498ee-5769-49b1-cd84-9fedd84f69a1"
      },
      "source": [
        "num_trees = 100 \n",
        "max_features = 3 \n",
        "kfold = KFold(n_splits=10, random_state=7) \n",
        "model = RandomForestClassifier(n_estimators=num_trees, max_features=max_features) \n",
        "results = cross_val_score(model, X, Y, cv=kfold) "
      ],
      "execution_count": 22,
      "outputs": [
        {
          "output_type": "stream",
          "text": [
            "/usr/local/lib/python3.6/dist-packages/sklearn/model_selection/_split.py:296: FutureWarning: Setting a random_state has no effect since shuffle is False. This will raise an error in 0.24. You should leave random_state to its default (None), or set shuffle=True.\n",
            "  FutureWarning\n"
          ],
          "name": "stderr"
        }
      ]
    },
    {
      "cell_type": "code",
      "metadata": {
        "id": "6758Rp1Z9FGx",
        "colab_type": "code",
        "colab": {
          "base_uri": "https://localhost:8080/",
          "height": 35
        },
        "outputId": "e19340f9-8229-4170-a359-9df8007ea365"
      },
      "source": [
        "results.mean()"
      ],
      "execution_count": 23,
      "outputs": [
        {
          "output_type": "execute_result",
          "data": {
            "text/plain": [
              "0.7630211893369788"
            ]
          },
          "metadata": {
            "tags": []
          },
          "execution_count": 23
        }
      ]
    },
    {
      "cell_type": "markdown",
      "metadata": {
        "id": "7xrgmMCL_rT9",
        "colab_type": "text"
      },
      "source": [
        "Extra Tree"
      ]
    },
    {
      "cell_type": "code",
      "metadata": {
        "id": "_dXRCq9I9WAJ",
        "colab_type": "code",
        "colab": {
          "base_uri": "https://localhost:8080/",
          "height": 72
        },
        "outputId": "7b301f2b-93e2-4485-da34-7a1c19947571"
      },
      "source": [
        "num_trees = 100 \n",
        "max_features = 7 \n",
        "kfold = KFold(n_splits=10, random_state=7) \n",
        "model = ExtraTreesClassifier(n_estimators=num_trees, max_features=max_features) \n",
        "results = cross_val_score(model, X, Y, cv=kfold) "
      ],
      "execution_count": 24,
      "outputs": [
        {
          "output_type": "stream",
          "text": [
            "/usr/local/lib/python3.6/dist-packages/sklearn/model_selection/_split.py:296: FutureWarning: Setting a random_state has no effect since shuffle is False. This will raise an error in 0.24. You should leave random_state to its default (None), or set shuffle=True.\n",
            "  FutureWarning\n"
          ],
          "name": "stderr"
        }
      ]
    },
    {
      "cell_type": "code",
      "metadata": {
        "id": "dAVf_tYr9mVW",
        "colab_type": "code",
        "colab": {
          "base_uri": "https://localhost:8080/",
          "height": 35
        },
        "outputId": "c470c974-5a26-426a-c38b-a44abb0b5305"
      },
      "source": [
        "results.mean()"
      ],
      "execution_count": 25,
      "outputs": [
        {
          "output_type": "execute_result",
          "data": {
            "text/plain": [
              "0.7603383458646616"
            ]
          },
          "metadata": {
            "tags": []
          },
          "execution_count": 25
        }
      ]
    },
    {
      "cell_type": "markdown",
      "metadata": {
        "id": "yvRvcI4cAKnr",
        "colab_type": "text"
      },
      "source": [
        "Boosting Algorithms\n",
        "\n",
        "\n",
        "Pagina 103"
      ]
    }
  ]
}